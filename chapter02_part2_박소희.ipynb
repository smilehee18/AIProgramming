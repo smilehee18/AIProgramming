{
  "cells": [
    {
      "cell_type": "markdown",
      "metadata": {
        "id": "TD2VFLNa1qIr"
      },
      "source": [
        "이 노트북은 [케라스 창시자에게 배우는 딥러닝 2판](https://tensorflow.blog/kerasdl2/)의 예제 코드를 담고 있습니다.\n",
        "\n",
        "<table align=\"left\"><tr><td>\n",
        "<a href=\"https://colab.research.google.com/github/rickiepark/deep-learning-with-python-2nd/blob/master/chapter02_mathematical-building-blocks.ipynb\" target=\"_parent\"><img src=\"https://colab.research.google.com/assets/colab-badge.svg\" alt=\"Open In Colab\"/></a>\n",
        "</td></tr></table>"
      ]
    },
    {
      "cell_type": "markdown",
      "source": [
        "소스코드에 관련된 설명을 주석과 텍스트로 표기했습니다. **학번/이름 : 2171262 박소희 **"
      ],
      "metadata": {
        "id": "HffnZSu0meg5"
      }
    },
    {
      "cell_type": "markdown",
      "metadata": {
        "id": "mokNYTez1qIt"
      },
      "source": [
        "## 신경망의 수학적 구성 요소"
      ]
    },
    {
      "cell_type": "markdown",
      "metadata": {
        "id": "TEnmFpmg1qIu"
      },
      "source": [
        "## 신경망과의 첫 만남"
      ]
    },
    {
      "cell_type": "markdown",
      "metadata": {
        "id": "nlRV5eGp1qIu"
      },
      "source": [
        "**케라스에서 MNIST 데이터셋 적재하기**"
      ]
    },
    {
      "cell_type": "code",
      "source": [
        "cd /content/sample_data\n"
      ],
      "metadata": {
        "colab": {
          "base_uri": "https://localhost:8080/"
        },
        "id": "8nupwz2EoWlS",
        "outputId": "c13870c8-80d5-4a4d-e404-a4cf24f0e131"
      },
      "execution_count": 12,
      "outputs": [
        {
          "output_type": "stream",
          "name": "stdout",
          "text": [
            "/content/sample_data\n"
          ]
        }
      ]
    },
    {
      "cell_type": "code",
      "execution_count": 13,
      "metadata": {
        "execution": {
          "iopub.execute_input": "2022-05-21T00:57:05.419691Z",
          "iopub.status.busy": "2022-05-21T00:57:05.419221Z",
          "iopub.status.idle": "2022-05-21T00:57:07.931588Z",
          "shell.execute_reply": "2022-05-21T00:57:07.930532Z"
        },
        "id": "Kbsv3tf21qIu"
      },
      "outputs": [],
      "source": [
        "from tensorflow.keras.datasets import mnist #텐서플로우 데이터셋에서 mnist 데이터셋을 불러올게요\n",
        "(train_images, train_labels), (test_images, test_labels) = mnist.load_data() #튜플 데이터형"
      ]
    },
    {
      "cell_type": "code",
      "execution_count": null,
      "metadata": {
        "execution": {
          "iopub.execute_input": "2022-05-21T00:57:07.936250Z",
          "iopub.status.busy": "2022-05-21T00:57:07.935565Z",
          "iopub.status.idle": "2022-05-21T00:57:07.945910Z",
          "shell.execute_reply": "2022-05-21T00:57:07.945184Z"
        },
        "id": "GjsNOiRZ1qIw",
        "outputId": "4ee0bc92-a01c-4aae-f7c1-2bbde47dd7c2",
        "colab": {
          "base_uri": "https://localhost:8080/"
        }
      },
      "outputs": [
        {
          "output_type": "execute_result",
          "data": {
            "text/plain": [
              "(60000, 28, 28)"
            ]
          },
          "metadata": {},
          "execution_count": 5
        }
      ],
      "source": [
        "train_images.shape #(훈련 데이터 shape : 28x28x60000) 가로 세로 28사이즈가 60000개"
      ]
    },
    {
      "cell_type": "code",
      "execution_count": null,
      "metadata": {
        "execution": {
          "iopub.execute_input": "2022-05-21T00:57:07.949595Z",
          "iopub.status.busy": "2022-05-21T00:57:07.948880Z",
          "iopub.status.idle": "2022-05-21T00:57:07.953413Z",
          "shell.execute_reply": "2022-05-21T00:57:07.952780Z"
        },
        "id": "BMvJUobh1qIw",
        "outputId": "437b0da7-473f-4b59-ef43-9c24a97044fb",
        "colab": {
          "base_uri": "https://localhost:8080/"
        }
      },
      "outputs": [
        {
          "output_type": "execute_result",
          "data": {
            "text/plain": [
              "60000"
            ]
          },
          "metadata": {},
          "execution_count": 6
        }
      ],
      "source": [
        "len(train_labels) #훈련 정답 레이블의 개수 : 60000개 (1, 2, 3, ... 9)"
      ]
    },
    {
      "cell_type": "code",
      "execution_count": null,
      "metadata": {
        "execution": {
          "iopub.execute_input": "2022-05-21T00:57:07.956620Z",
          "iopub.status.busy": "2022-05-21T00:57:07.956158Z",
          "iopub.status.idle": "2022-05-21T00:57:07.961433Z",
          "shell.execute_reply": "2022-05-21T00:57:07.960670Z"
        },
        "id": "VhW9RYKv1qIw",
        "outputId": "7c663d3a-c567-4793-f75a-eacb87d85205",
        "colab": {
          "base_uri": "https://localhost:8080/"
        }
      },
      "outputs": [
        {
          "output_type": "execute_result",
          "data": {
            "text/plain": [
              "array([5, 0, 4, ..., 5, 6, 8], dtype=uint8)"
            ]
          },
          "metadata": {},
          "execution_count": 7
        }
      ],
      "source": [
        "train_labels"
      ]
    },
    {
      "cell_type": "code",
      "execution_count": null,
      "metadata": {
        "execution": {
          "iopub.execute_input": "2022-05-21T00:57:07.964700Z",
          "iopub.status.busy": "2022-05-21T00:57:07.964447Z",
          "iopub.status.idle": "2022-05-21T00:57:07.969443Z",
          "shell.execute_reply": "2022-05-21T00:57:07.968645Z"
        },
        "id": "s-H4DSiI1qIx",
        "outputId": "134e3b32-acf6-487f-b6c7-65a9557404a3",
        "colab": {
          "base_uri": "https://localhost:8080/"
        }
      },
      "outputs": [
        {
          "output_type": "execute_result",
          "data": {
            "text/plain": [
              "(10000, 28, 28)"
            ]
          },
          "metadata": {},
          "execution_count": 8
        }
      ],
      "source": [
        "test_images.shape #검증 데이터의 shape -> 28x28 크기의 이미지가 10000개"
      ]
    },
    {
      "cell_type": "code",
      "execution_count": null,
      "metadata": {
        "execution": {
          "iopub.execute_input": "2022-05-21T00:57:07.973895Z",
          "iopub.status.busy": "2022-05-21T00:57:07.973604Z",
          "iopub.status.idle": "2022-05-21T00:57:07.978539Z",
          "shell.execute_reply": "2022-05-21T00:57:07.977669Z"
        },
        "id": "arJVF8HY1qIx",
        "outputId": "f806aa13-6d9b-47a7-cb68-d69b357149a4",
        "colab": {
          "base_uri": "https://localhost:8080/"
        }
      },
      "outputs": [
        {
          "output_type": "execute_result",
          "data": {
            "text/plain": [
              "10000"
            ]
          },
          "metadata": {},
          "execution_count": 9
        }
      ],
      "source": [
        "len(test_labels)"
      ]
    },
    {
      "cell_type": "code",
      "execution_count": null,
      "metadata": {
        "execution": {
          "iopub.execute_input": "2022-05-21T00:57:07.982841Z",
          "iopub.status.busy": "2022-05-21T00:57:07.982277Z",
          "iopub.status.idle": "2022-05-21T00:57:07.987700Z",
          "shell.execute_reply": "2022-05-21T00:57:07.986719Z"
        },
        "id": "9mGmW7a81qIy",
        "outputId": "63a28afe-ac02-4e84-9f9a-750769a66350",
        "colab": {
          "base_uri": "https://localhost:8080/"
        }
      },
      "outputs": [
        {
          "output_type": "execute_result",
          "data": {
            "text/plain": [
              "array([7, 2, 1, ..., 4, 5, 6], dtype=uint8)"
            ]
          },
          "metadata": {},
          "execution_count": 10
        }
      ],
      "source": [
        "test_labels"
      ]
    },
    {
      "cell_type": "markdown",
      "metadata": {
        "id": "lkR5Kdxs1qIy"
      },
      "source": [
        "**신경망 구조**"
      ]
    },
    {
      "cell_type": "code",
      "execution_count": 23,
      "metadata": {
        "execution": {
          "iopub.execute_input": "2022-05-21T00:57:07.991164Z",
          "iopub.status.busy": "2022-05-21T00:57:07.990885Z",
          "iopub.status.idle": "2022-05-21T00:57:08.025097Z",
          "shell.execute_reply": "2022-05-21T00:57:08.023960Z"
        },
        "id": "nGjggIFO1qIy"
      },
      "outputs": [],
      "source": [
        "from tensorflow import keras #텐서플러우에서 keras 모듈을 불러올게요\n",
        "from tensorflow.keras import layers\n",
        "model = keras.Sequential([ #순서대로 모델의 층을 쌓는다.\n",
        "    layers.Dense(512, activation=\"relu\"), #입력은 512개의 노드\n",
        "    layers.Dense(10, activation=\"softmax\") #맨 마지막 층은 10개 출력, softmax 활성화 함수 적용\n",
        "])"
      ]
    },
    {
      "cell_type": "markdown",
      "metadata": {
        "id": "ztkKhME61qIy"
      },
      "source": [
        "**컴파일 단계**"
      ]
    },
    {
      "cell_type": "markdown",
      "source": [
        "#### rmsprop 최적화 함수란?\n",
        "AdaGrad 같은 경우 과거의 기울기를 제곱하는 방식을 사용하여 더하는 방식으로 학습을 진행함.\n",
        "이러한 경우는 과거의 정보를 이용한다는 장점이 있지만 무한히 갈수록 갱신률이 점점 줄어든다는 단점이 있음.\n",
        "이를 개선한 기법이 RMSProp으로, 과거의 기울기들을 일정하게 더해가는 것이 아니라\n",
        "먼 과거의 기울기는 조금, 가장 최근의 기울기는 가장 많이 반영한다는 특징을 가져감.\n",
        "이를 지수 이동 평균이라고함.(Exponetial Moving Average, EMA)\n"
      ],
      "metadata": {
        "id": "_wFwXMH05Jdj"
      }
    },
    {
      "cell_type": "markdown",
      "source": [
        "#### sparse_categorical_crossentropy란? - 다중 분류 손실 함수\n",
        "#### categorical_crossentropy와의 차이점은 무엇일까?\n",
        "전자는 훈련데이터의 label값이 정수(int)형인 경우 사용하고 ,\n",
        "후자는 훈련데이터의 label값이 원-핫 벡터의 값이 경우 사용한다고 보면 된다.\n",
        "위 데이터는 손글씨 분류 학습 데이터로 레이블이 정수형인 0~9까지의 숫자로 이루어져 있으므로 정수를 분류하는 sparse_categorical_crossentropy를 이용한다."
      ],
      "metadata": {
        "id": "WShtpWeNF3Ej"
      }
    },
    {
      "cell_type": "code",
      "execution_count": null,
      "metadata": {
        "execution": {
          "iopub.execute_input": "2022-05-21T00:57:08.029264Z",
          "iopub.status.busy": "2022-05-21T00:57:08.028955Z",
          "iopub.status.idle": "2022-05-21T00:57:08.043873Z",
          "shell.execute_reply": "2022-05-21T00:57:08.042917Z"
        },
        "id": "XAll1_qf1qIz"
      },
      "outputs": [],
      "source": [
        "model.compile(optimizer=\"rmsprop\", #rmsprop이라는 최적화 함수를 이용\n",
        "              loss=\"sparse_categorical_crossentropy\", #레이블이 정수형이므로 위 손실함수 이용\n",
        "              metrics=[\"accuracy\"]) #정확도 측정 metrics 에 저장"
      ]
    },
    {
      "cell_type": "markdown",
      "metadata": {
        "id": "IfXepSHu1qIz"
      },
      "source": [
        "**이미지 데이터 준비하기**"
      ]
    },
    {
      "cell_type": "code",
      "execution_count": 14,
      "metadata": {
        "execution": {
          "iopub.execute_input": "2022-05-21T00:57:08.047878Z",
          "iopub.status.busy": "2022-05-21T00:57:08.047587Z",
          "iopub.status.idle": "2022-05-21T00:57:08.461821Z",
          "shell.execute_reply": "2022-05-21T00:57:08.460699Z"
        },
        "id": "0VedXTKL1qIz"
      },
      "outputs": [],
      "source": [
        "train_images = train_images.reshape((60000, 28 * 28)) #(3차원 이미지 데이터를 2차원으로 매핑)\n",
        "train_images = train_images.astype(\"float32\") / 255   #픽셀은 0~255값이므로 255로 나눈다.\n",
        "test_images = test_images.reshape((10000, 28 * 28))\n",
        "test_images = test_images.astype(\"float32\") / 255"
      ]
    },
    {
      "cell_type": "code",
      "source": [
        "#코드 추가\n",
        "print(train_images.shape) #2차원으로 모양이 바뀐 것을 볼 수 있음.\n",
        "print(test_images.shape)"
      ],
      "metadata": {
        "colab": {
          "base_uri": "https://localhost:8080/"
        },
        "id": "BzXXKA8WHA1N",
        "outputId": "8357db00-7826-4583-d379-151901505d39"
      },
      "execution_count": null,
      "outputs": [
        {
          "output_type": "stream",
          "name": "stdout",
          "text": [
            "(60000, 784)\n",
            "(10000, 784)\n"
          ]
        }
      ]
    },
    {
      "cell_type": "markdown",
      "metadata": {
        "id": "r9cuYTKi1qIz"
      },
      "source": [
        "**모델 훈련**"
      ]
    },
    {
      "cell_type": "markdown",
      "source": [
        "**<모델 훈련시 중요하게 고려해야 할 점>**\n",
        "\n",
        "*   한 번 데이터를 다 보는 것 : Epoch\n",
        "*   모든 데이터의 손실 값을 한번에 구하는 것보다 점진적으로 loss를 체크하며 줄여나가기 위해서, 그리고 이곳저곳 퍼져있는 값들을(분산된 값들을) 일반화 하기 위해서 주로 mini-batch로 나누어서 학습을 진행합니다. + 컴퓨팅 연산을 줄이기 위해서\n",
        "\n",
        "\n",
        "---\n",
        "\n",
        "\n",
        "그렇다면, mini-batch로 나누었을 때 weight는 몇 번 갱신되고, 순전파와 역전파는 몇 번 일어날까?\n",
        "전체 데이터 셋/배치 사이즈 x 에폭 수 만큼 일어난다.\n",
        "그 이유는 batch-size는 한 덩어리에 얼마나 많은 데이터가 있는지를 의미하므로,\n",
        "몇 묶음이니? 를 구하기 위해서는 전체 데이터 개수/batch_size만큼 나누어 주어야 한다. 그리고 1epoch == 한번 다 데이터를 보는 것인데 5epoch이므로 그 값에 5를 곱해주어야 한다."
      ],
      "metadata": {
        "id": "92IfhUiYI-Bu"
      }
    },
    {
      "cell_type": "code",
      "execution_count": null,
      "metadata": {
        "execution": {
          "iopub.execute_input": "2022-05-21T00:57:08.466297Z",
          "iopub.status.busy": "2022-05-21T00:57:08.465542Z",
          "iopub.status.idle": "2022-05-21T00:57:19.300649Z",
          "shell.execute_reply": "2022-05-21T00:57:19.299825Z"
        },
        "id": "LstMGeYK1qIz",
        "outputId": "8ad6eafa-17dc-4a35-c412-c6d5030ae50e",
        "colab": {
          "base_uri": "https://localhost:8080/"
        }
      },
      "outputs": [
        {
          "output_type": "stream",
          "name": "stdout",
          "text": [
            "Epoch 1/5\n",
            "469/469 [==============================] - 7s 3ms/step - loss: 0.2662 - accuracy: 0.9232\n",
            "Epoch 2/5\n",
            "469/469 [==============================] - 1s 3ms/step - loss: 0.1072 - accuracy: 0.9682\n",
            "Epoch 3/5\n",
            "469/469 [==============================] - 2s 3ms/step - loss: 0.0709 - accuracy: 0.9786\n",
            "Epoch 4/5\n",
            "469/469 [==============================] - 2s 4ms/step - loss: 0.0515 - accuracy: 0.9846\n",
            "Epoch 5/5\n",
            "469/469 [==============================] - 1s 3ms/step - loss: 0.0381 - accuracy: 0.9892\n"
          ]
        },
        {
          "output_type": "execute_result",
          "data": {
            "text/plain": [
              "<keras.src.callbacks.History at 0x7b7795809f30>"
            ]
          },
          "metadata": {},
          "execution_count": 17
        }
      ],
      "source": [
        "model.fit(train_images, train_labels, epochs=5, batch_size=128) #60000개의 데이터를 몇 번 볼건지? : epoch\n"
      ]
    },
    {
      "cell_type": "markdown",
      "metadata": {
        "id": "iQgihs241qI0"
      },
      "source": [
        "**모델을 사용해 예측 만들기**"
      ]
    },
    {
      "cell_type": "code",
      "execution_count": null,
      "metadata": {
        "execution": {
          "iopub.execute_input": "2022-05-21T00:57:19.304176Z",
          "iopub.status.busy": "2022-05-21T00:57:19.303848Z",
          "iopub.status.idle": "2022-05-21T00:57:19.406311Z",
          "shell.execute_reply": "2022-05-21T00:57:19.405251Z"
        },
        "id": "qV8_w05L1qI0",
        "outputId": "f3745c5b-05b2-4d0d-babd-f7dd5c192ebe",
        "colab": {
          "base_uri": "https://localhost:8080/"
        }
      },
      "outputs": [
        {
          "output_type": "stream",
          "name": "stdout",
          "text": [
            "1/1 [==============================] - 0s 117ms/step\n",
            "[[1.58764990e-07 1.91838900e-09 9.07855792e-06 3.09388997e-05\n",
            "  7.51629939e-11 3.12675837e-07 1.44871463e-12 9.99959111e-01\n",
            "  1.00556328e-07 2.07936139e-07]\n",
            " [3.23440807e-09 3.74627998e-05 9.99944210e-01 6.41169117e-06\n",
            "  3.39048369e-13 4.30620929e-07 3.67879345e-08 1.07163539e-13\n",
            "  1.13990845e-05 9.52634673e-13]\n",
            " [8.18712522e-07 9.97823000e-01 6.34736207e-04 1.27971743e-05\n",
            "  3.06924863e-04 1.43629832e-05 2.73210317e-05 4.01031895e-04\n",
            "  7.77927169e-04 1.05818708e-06]\n",
            " [9.99983549e-01 1.61949162e-10 4.09911854e-06 1.19137988e-08\n",
            "  1.29355628e-08 1.65774850e-06 8.43458452e-07 7.73751890e-06\n",
            "  1.36001399e-09 2.12813438e-06]\n",
            " [1.54607221e-06 1.89364480e-09 5.26340671e-07 1.41937386e-08\n",
            "  9.98913646e-01 5.71748387e-07 1.28007025e-06 4.37196941e-05\n",
            "  1.46960633e-06 1.03712839e-03]\n",
            " [1.53131783e-08 9.99569595e-01 2.66377242e-06 1.78303239e-07\n",
            "  1.12604117e-04 1.47854191e-08 6.42734577e-08 3.03205597e-04\n",
            "  1.15809462e-05 7.33334602e-08]\n",
            " [1.87728388e-10 2.96720692e-08 7.25895388e-09 1.99499350e-08\n",
            "  9.99726951e-01 5.95526308e-06 2.85585458e-08 1.24942553e-05\n",
            "  2.22778923e-04 3.18397288e-05]\n",
            " [1.03208222e-07 9.19570766e-07 1.66660575e-05 1.18433745e-04\n",
            "  2.36461332e-04 8.31115685e-05 7.56676888e-10 8.28478078e-05\n",
            "  5.03058573e-06 9.99456465e-01]\n",
            " [1.22705064e-08 1.94840659e-08 1.01087510e-03 4.31064251e-08\n",
            "  4.03908920e-03 9.43572879e-01 1.02554001e-02 1.35812613e-07\n",
            "  4.11092229e-02 1.23023947e-05]\n",
            " [3.22568461e-09 1.45671474e-12 2.00252948e-09 3.54476640e-07\n",
            "  1.94718633e-02 2.11032875e-06 1.08221687e-11 1.02172839e-03\n",
            "  5.37452230e-04 9.78966594e-01]]\n"
          ]
        }
      ],
      "source": [
        "test_digits = test_images[0:10] #10개만 자름 0~9까지의 인덱스\n",
        "predictions = model.predict(test_digits) #predict()메소드에 대입하여 모델의 출력값을 할당\n",
        "predictions[0] #리스트 10개 중에서 첫번째 리스트만 볼게요.\n",
        "#코드 추가\n",
        "print(predictions) #0~1 확률을 가진 10개 요소를 가진 리스트 10개가 출력됨"
      ]
    },
    {
      "cell_type": "code",
      "execution_count": null,
      "metadata": {
        "execution": {
          "iopub.execute_input": "2022-05-21T00:57:19.410311Z",
          "iopub.status.busy": "2022-05-21T00:57:19.409575Z",
          "iopub.status.idle": "2022-05-21T00:57:19.414980Z",
          "shell.execute_reply": "2022-05-21T00:57:19.414116Z"
        },
        "id": "zc_2oAmH1qI0",
        "outputId": "492713a5-7529-4796-9c4f-8b1ef1b500a1",
        "colab": {
          "base_uri": "https://localhost:8080/"
        }
      },
      "outputs": [
        {
          "output_type": "execute_result",
          "data": {
            "text/plain": [
              "7"
            ]
          },
          "metadata": {},
          "execution_count": 13
        }
      ],
      "source": [
        "predictions[0].argmax() #리스트 값들 중에서 가장 큰 값의 인덱스 fetch"
      ]
    },
    {
      "cell_type": "code",
      "execution_count": null,
      "metadata": {
        "execution": {
          "iopub.execute_input": "2022-05-21T00:57:19.418674Z",
          "iopub.status.busy": "2022-05-21T00:57:19.418395Z",
          "iopub.status.idle": "2022-05-21T00:57:19.424303Z",
          "shell.execute_reply": "2022-05-21T00:57:19.423160Z"
        },
        "id": "G96ao1pL1qI0",
        "outputId": "3d5b7325-7121-4304-97d0-59806820b300",
        "colab": {
          "base_uri": "https://localhost:8080/"
        }
      },
      "outputs": [
        {
          "output_type": "execute_result",
          "data": {
            "text/plain": [
              "0.9999591"
            ]
          },
          "metadata": {},
          "execution_count": 27
        }
      ],
      "source": [
        "predictions[0][7] #그 인덱스의 값을 fetch"
      ]
    },
    {
      "cell_type": "code",
      "execution_count": null,
      "metadata": {
        "execution": {
          "iopub.execute_input": "2022-05-21T00:57:19.428684Z",
          "iopub.status.busy": "2022-05-21T00:57:19.428277Z",
          "iopub.status.idle": "2022-05-21T00:57:19.433154Z",
          "shell.execute_reply": "2022-05-21T00:57:19.432273Z"
        },
        "id": "CmsTCGMe1qI0",
        "outputId": "201193fd-4514-4145-ebd1-5affbd19e3d3",
        "colab": {
          "base_uri": "https://localhost:8080/"
        }
      },
      "outputs": [
        {
          "output_type": "execute_result",
          "data": {
            "text/plain": [
              "7"
            ]
          },
          "metadata": {},
          "execution_count": 28
        }
      ],
      "source": [
        "test_labels[0] #정답 레이블이 무엇인지 확인"
      ]
    },
    {
      "cell_type": "markdown",
      "metadata": {
        "id": "xz0O7yfW1qI1"
      },
      "source": [
        "**새로운 데이터에서 모델 평가하기**"
      ]
    },
    {
      "cell_type": "code",
      "execution_count": null,
      "metadata": {
        "execution": {
          "iopub.execute_input": "2022-05-21T00:57:19.437738Z",
          "iopub.status.busy": "2022-05-21T00:57:19.437092Z",
          "iopub.status.idle": "2022-05-21T00:57:20.109805Z",
          "shell.execute_reply": "2022-05-21T00:57:20.109057Z"
        },
        "id": "5n06x08R1qI1",
        "outputId": "142bfcb4-dd9d-4a12-d494-6a08d298d477",
        "colab": {
          "base_uri": "https://localhost:8080/"
        }
      },
      "outputs": [
        {
          "output_type": "stream",
          "name": "stdout",
          "text": [
            "313/313 [==============================] - 1s 2ms/step - loss: 0.0682 - accuracy: 0.9790\n",
            "테스트 정확도: 0.9789999723434448\n"
          ]
        }
      ],
      "source": [
        "test_loss, test_acc = model.evaluate(test_images, test_labels) #이미지와 정답을 파라미터로 주어서 손실과 정확도 값을 구하기\n",
        "print(f\"테스트 정확도: {test_acc}\")"
      ]
    },
    {
      "cell_type": "markdown",
      "metadata": {
        "id": "_sf8F4Lt1qI1"
      },
      "source": [
        "## 신경망을 위한 데이터 표현"
      ]
    },
    {
      "cell_type": "markdown",
      "source": [
        "**딥러닝에서 데이터는 주로 scalar, vector, matrix 값으로 나타내지고 3차원 벡터부터 \"텐서\"라고 부른다.**"
      ],
      "metadata": {
        "id": "uMWcj8DVVgDa"
      }
    },
    {
      "cell_type": "markdown",
      "metadata": {
        "id": "0rIygsuR1qI1"
      },
      "source": [
        "### 스칼라 (랭크-0 텐서)"
      ]
    },
    {
      "cell_type": "markdown",
      "source": [
        "*   하나의 숫자만 담고 있는 텐서를 스칼라 텐서, 0차원 텐서라고 부른다.\n",
        "*   스칼라 텐서의 축의 개수는 0이다(number of dimension == 0)\n",
        "*   텐서의 축 개수를 rank라고도 부른다."
      ],
      "metadata": {
        "id": "n9a4zHMBWWKg"
      }
    },
    {
      "cell_type": "code",
      "execution_count": 17,
      "metadata": {
        "execution": {
          "iopub.execute_input": "2022-05-21T00:57:20.113826Z",
          "iopub.status.busy": "2022-05-21T00:57:20.113141Z",
          "iopub.status.idle": "2022-05-21T00:57:20.119204Z",
          "shell.execute_reply": "2022-05-21T00:57:20.118308Z"
        },
        "id": "zaKeHFt51qI1",
        "outputId": "8ff99ac9-0a4b-42a0-a6dc-5d62628346ca",
        "colab": {
          "base_uri": "https://localhost:8080/"
        }
      },
      "outputs": [
        {
          "output_type": "execute_result",
          "data": {
            "text/plain": [
              "array(12)"
            ]
          },
          "metadata": {},
          "execution_count": 17
        }
      ],
      "source": [
        "import numpy as np\n",
        "x = np.array(12)\n",
        "x #x는 스칼라 텐서이다.한 개의 숫자만 가지고 있으므로"
      ]
    },
    {
      "cell_type": "code",
      "execution_count": null,
      "metadata": {
        "execution": {
          "iopub.execute_input": "2022-05-21T00:57:20.122738Z",
          "iopub.status.busy": "2022-05-21T00:57:20.122472Z",
          "iopub.status.idle": "2022-05-21T00:57:20.127154Z",
          "shell.execute_reply": "2022-05-21T00:57:20.126388Z"
        },
        "id": "L7qdT7rT1qI1",
        "outputId": "67119500-24a5-4d6a-b097-3f32b1bcc4e3",
        "colab": {
          "base_uri": "https://localhost:8080/"
        }
      },
      "outputs": [
        {
          "output_type": "execute_result",
          "data": {
            "text/plain": [
              "0"
            ]
          },
          "metadata": {},
          "execution_count": 18
        }
      ],
      "source": [
        "x.ndim #축이 없다고 보면 됨."
      ]
    },
    {
      "cell_type": "markdown",
      "metadata": {
        "id": "UBwl26_c1qI2"
      },
      "source": [
        "### 벡터 (랭크-1 텐서)"
      ]
    },
    {
      "cell_type": "markdown",
      "source": [
        "우리가 흔히 알고 있는 숫자의 배열을 벡터 또는 1D 텐서라고 부른다.\n",
        "1D 텐서는 dimension이 1이므로 오직 1개의 축을 가진다."
      ],
      "metadata": {
        "id": "fCRB2yEaXus1"
      }
    },
    {
      "cell_type": "code",
      "execution_count": 18,
      "metadata": {
        "execution": {
          "iopub.execute_input": "2022-05-21T00:57:20.131021Z",
          "iopub.status.busy": "2022-05-21T00:57:20.130223Z",
          "iopub.status.idle": "2022-05-21T00:57:20.135705Z",
          "shell.execute_reply": "2022-05-21T00:57:20.135002Z"
        },
        "id": "_FZ_X24k1qI2",
        "outputId": "093d9ff6-af5b-4aa1-c96b-2c80414a41f6",
        "colab": {
          "base_uri": "https://localhost:8080/"
        }
      },
      "outputs": [
        {
          "output_type": "stream",
          "name": "stdout",
          "text": [
            "(5,)\n"
          ]
        }
      ],
      "source": [
        "x = np.array([12, 3, 6, 14, 7]) #이 벡터는 한 개의 축에 배열의 5개의 원소를 가지고 있으므로 1D 텐서 또는 벡터이다.\n",
        "x\n",
        "print(x.shape) #(5,)"
      ]
    },
    {
      "cell_type": "markdown",
      "source": [
        "**<주의점>**   \n",
        "5차원 벡터 VS 5차원 텐서  \n",
        "-> 5차원 벡터는 하나의 축을 따라 5개의 차원을 가진 것.  \n",
        "-> 5차원 텐서는 5개의 축을 가진 것.  \n",
        "따라서 위 배열은 5차원 벡터가 된다.\n",
        "\n"
      ],
      "metadata": {
        "id": "j6X15T-AYpJ0"
      }
    },
    {
      "cell_type": "code",
      "execution_count": null,
      "metadata": {
        "execution": {
          "iopub.execute_input": "2022-05-21T00:57:20.139180Z",
          "iopub.status.busy": "2022-05-21T00:57:20.138695Z",
          "iopub.status.idle": "2022-05-21T00:57:20.143498Z",
          "shell.execute_reply": "2022-05-21T00:57:20.142627Z"
        },
        "id": "bGycblhT1qI2",
        "outputId": "72615275-af9e-4cdd-e5b1-d591c5627b5f",
        "colab": {
          "base_uri": "https://localhost:8080/"
        }
      },
      "outputs": [
        {
          "output_type": "execute_result",
          "data": {
            "text/plain": [
              "1"
            ]
          },
          "metadata": {},
          "execution_count": 20
        }
      ],
      "source": [
        "x.ndim #축의 개수가 1개임."
      ]
    },
    {
      "cell_type": "markdown",
      "metadata": {
        "id": "aEgHXF7o1qI2"
      },
      "source": [
        "### 행렬 (랭크-2 텐서)"
      ]
    },
    {
      "cell_type": "markdown",
      "source": [
        "**벡터의 배열이 행렬 또는 2차원 텐서이다.  \n",
        "행렬에는 보통 열과 행이라는 2개의 축이 있다.  \n",
        "행렬은 숫자가 채워진 격자라고 생각하면 이해하기 수월하다.**\n"
      ],
      "metadata": {
        "id": "NyYoUDe2aONU"
      }
    },
    {
      "cell_type": "code",
      "execution_count": null,
      "metadata": {
        "execution": {
          "iopub.execute_input": "2022-05-21T00:57:20.146816Z",
          "iopub.status.busy": "2022-05-21T00:57:20.146544Z",
          "iopub.status.idle": "2022-05-21T00:57:20.153035Z",
          "shell.execute_reply": "2022-05-21T00:57:20.152330Z"
        },
        "id": "w4Pfesli1qI2",
        "outputId": "fb5d4eb8-c4b9-4a01-f3f9-e2a81b629116",
        "colab": {
          "base_uri": "https://localhost:8080/"
        }
      },
      "outputs": [
        {
          "output_type": "execute_result",
          "data": {
            "text/plain": [
              "2"
            ]
          },
          "metadata": {},
          "execution_count": 21
        }
      ],
      "source": [
        "x = np.array([[5, 78, 2, 34, 0],\n",
        "              [6, 79, 3, 35, 1],\n",
        "              [7, 80, 4, 36, 2]])\n",
        "x.ndim #축의 개수가 2개"
      ]
    },
    {
      "cell_type": "markdown",
      "metadata": {
        "id": "WY7v3OYg1qI2"
      },
      "source": [
        "### 랭크-3 텐서와 더 높은 랭크의 텐서"
      ]
    },
    {
      "cell_type": "markdown",
      "source": [
        "**앞서 제시한 행렬을 새로운 배열로 합치면 직육면체 형태로 나타낼 수 있겠다.  \n",
        "그럼 3D 텐서가 만들어지는 것이다.  \n",
        "보통 3차원부터 텐서라고 부르기도 한다.**  \n"
      ],
      "metadata": {
        "id": "WZ5P1PEMcOHN"
      }
    },
    {
      "cell_type": "code",
      "execution_count": null,
      "metadata": {
        "execution": {
          "iopub.execute_input": "2022-05-21T00:57:20.156415Z",
          "iopub.status.busy": "2022-05-21T00:57:20.156159Z",
          "iopub.status.idle": "2022-05-21T00:57:20.163001Z",
          "shell.execute_reply": "2022-05-21T00:57:20.162138Z"
        },
        "id": "EJw4bMhQ1qI3",
        "outputId": "5c4376c7-31a7-4719-e25b-5f00f7671819",
        "colab": {
          "base_uri": "https://localhost:8080/"
        }
      },
      "outputs": [
        {
          "output_type": "execute_result",
          "data": {
            "text/plain": [
              "3"
            ]
          },
          "metadata": {},
          "execution_count": 22
        }
      ],
      "source": [
        "x = np.array([[[5, 78, 2, 34, 0], #3D 텐서\n",
        "               [6, 79, 3, 35, 1],\n",
        "               [7, 80, 4, 36, 2]],\n",
        "              [[5, 78, 2, 34, 0],\n",
        "               [6, 79, 3, 35, 1],\n",
        "               [7, 80, 4, 36, 2]],\n",
        "              [[5, 78, 2, 34, 0],\n",
        "               [6, 79, 3, 35, 1],\n",
        "               [7, 80, 4, 36, 2]]])\n",
        "x.ndim #축이 3개"
      ]
    },
    {
      "cell_type": "markdown",
      "source": [
        "**위와 같은 방식으로 3차원 텐서들을 하나의 축 기준으로 나열하면 4차원 텐서가 되고,  \n",
        "4차원 텐서를 ~  5차원 텐서가 만들어진다.  \n",
        "딥러닝에서는 보통 0차원 ~ 4차원까지의 텐서를 다루며,  \n",
        "동영상을 다룰 때는 5차원 텐서가 만들어지기도 한다.**"
      ],
      "metadata": {
        "id": "3-VQhPozcjr7"
      }
    },
    {
      "cell_type": "markdown",
      "metadata": {
        "id": "wKerwOYq1qI3"
      },
      "source": [
        "### 핵심 속성"
      ]
    },
    {
      "cell_type": "code",
      "execution_count": null,
      "metadata": {
        "execution": {
          "iopub.execute_input": "2022-05-21T00:57:20.166433Z",
          "iopub.status.busy": "2022-05-21T00:57:20.166160Z",
          "iopub.status.idle": "2022-05-21T00:57:20.596456Z",
          "shell.execute_reply": "2022-05-21T00:57:20.595567Z"
        },
        "id": "TTHc4oX71qI3"
      },
      "outputs": [],
      "source": [
        "from tensorflow.keras.datasets import mnist\n",
        "(train_images, train_labels), (test_images, test_labels) = mnist.load_data()"
      ]
    },
    {
      "cell_type": "code",
      "execution_count": null,
      "metadata": {
        "execution": {
          "iopub.execute_input": "2022-05-21T00:57:20.600816Z",
          "iopub.status.busy": "2022-05-21T00:57:20.600517Z",
          "iopub.status.idle": "2022-05-21T00:57:20.605652Z",
          "shell.execute_reply": "2022-05-21T00:57:20.604662Z"
        },
        "id": "o5fj8Tyc1qI3",
        "outputId": "34456a5c-ccd0-44c6-86af-e3f1ce164939",
        "colab": {
          "base_uri": "https://localhost:8080/"
        }
      },
      "outputs": [
        {
          "output_type": "execute_result",
          "data": {
            "text/plain": [
              "3"
            ]
          },
          "metadata": {},
          "execution_count": 24
        }
      ],
      "source": [
        "train_images.ndim #훈련 입력 이미지의 차원은 흑백 이미지가 60000개 있는 경우이므로 (b,c,h,w)에서 채널 차원을 제외한 3차원."
      ]
    },
    {
      "cell_type": "code",
      "execution_count": null,
      "metadata": {
        "execution": {
          "iopub.execute_input": "2022-05-21T00:57:20.608889Z",
          "iopub.status.busy": "2022-05-21T00:57:20.608612Z",
          "iopub.status.idle": "2022-05-21T00:57:20.614638Z",
          "shell.execute_reply": "2022-05-21T00:57:20.613826Z"
        },
        "id": "SWgMFCzV1qI3",
        "outputId": "016a653d-82eb-4583-c001-4d959c8c7df2",
        "colab": {
          "base_uri": "https://localhost:8080/"
        }
      },
      "outputs": [
        {
          "output_type": "execute_result",
          "data": {
            "text/plain": [
              "(60000, 28, 28)"
            ]
          },
          "metadata": {},
          "execution_count": 25
        }
      ],
      "source": [
        "train_images.shape"
      ]
    },
    {
      "cell_type": "code",
      "execution_count": null,
      "metadata": {
        "execution": {
          "iopub.execute_input": "2022-05-21T00:57:20.618889Z",
          "iopub.status.busy": "2022-05-21T00:57:20.618226Z",
          "iopub.status.idle": "2022-05-21T00:57:20.625094Z",
          "shell.execute_reply": "2022-05-21T00:57:20.624338Z"
        },
        "id": "FbDovWF61qI3",
        "outputId": "3ed78970-bca6-417c-a8cd-793571b3553f",
        "colab": {
          "base_uri": "https://localhost:8080/"
        }
      },
      "outputs": [
        {
          "output_type": "execute_result",
          "data": {
            "text/plain": [
              "dtype('uint8')"
            ]
          },
          "metadata": {},
          "execution_count": 26
        }
      ],
      "source": [
        "train_images.dtype #각각의 데이터 타입은 int8bit이다. 즉, 2^8인 0~255범위로 표현이 가능하다.(unsigned 니까 ) 1byte 만큼"
      ]
    },
    {
      "cell_type": "markdown",
      "metadata": {
        "id": "JRoaVKPv1qI3"
      },
      "source": [
        "**다섯 번째 이미지 출력하기**"
      ]
    },
    {
      "cell_type": "code",
      "execution_count": null,
      "metadata": {
        "execution": {
          "iopub.execute_input": "2022-05-21T00:57:20.628820Z",
          "iopub.status.busy": "2022-05-21T00:57:20.628306Z",
          "iopub.status.idle": "2022-05-21T00:57:21.431208Z",
          "shell.execute_reply": "2022-05-21T00:57:21.430286Z"
        },
        "id": "IIZkhp0i1qI4",
        "outputId": "7df9fcb8-bc31-450c-bdf4-cf0f462081be",
        "colab": {
          "base_uri": "https://localhost:8080/",
          "height": 265
        }
      },
      "outputs": [
        {
          "output_type": "display_data",
          "data": {
            "text/plain": [
              "<Figure size 432x288 with 1 Axes>"
            ],
            "image/png": "[encoded data removed]"
          },
          "metadata": {
            "needs_background": "light"
          }
        }
      ],
      "source": [
        "import matplotlib.pyplot as plt\n",
        "digit = train_images[4] #인덱스 0부터 시작하므로 5번째 샘플을 뽑아줘 라는 뜻이다.\n",
        "plt.imshow(digit, cmap=plt.cm.binary) #cmap은 colormap의 약자로 0~1까지 숫자를 RGB로 표현해줌.\n",
        "plt.show() #화면에 보여줘"
      ]
    },
    {
      "cell_type": "code",
      "execution_count": null,
      "metadata": {
        "execution": {
          "iopub.execute_input": "2022-05-21T00:57:21.435121Z",
          "iopub.status.busy": "2022-05-21T00:57:21.434503Z",
          "iopub.status.idle": "2022-05-21T00:57:21.439445Z",
          "shell.execute_reply": "2022-05-21T00:57:21.438851Z"
        },
        "id": "SIQgEABY1qI4",
        "outputId": "e432ead9-ab4a-41f3-ee02-8b766ffef3b9",
        "colab": {
          "base_uri": "https://localhost:8080/"
        }
      },
      "outputs": [
        {
          "output_type": "execute_result",
          "data": {
            "text/plain": [
              "9"
            ]
          },
          "metadata": {},
          "execution_count": 28
        }
      ],
      "source": [
        "train_labels[4]"
      ]
    },
    {
      "cell_type": "markdown",
      "metadata": {
        "id": "wBkiHJlR1qI4"
      },
      "source": [
        "### 넘파이로 텐서 조작하기"
      ]
    },
    {
      "cell_type": "code",
      "execution_count": null,
      "metadata": {
        "execution": {
          "iopub.execute_input": "2022-05-21T00:57:21.443500Z",
          "iopub.status.busy": "2022-05-21T00:57:21.443068Z",
          "iopub.status.idle": "2022-05-21T00:57:21.447465Z",
          "shell.execute_reply": "2022-05-21T00:57:21.446885Z"
        },
        "id": "c2A6S7-s1qI4",
        "outputId": "59bf4412-491b-4db3-8a14-9d7fd5340494",
        "colab": {
          "base_uri": "https://localhost:8080/"
        }
      },
      "outputs": [
        {
          "output_type": "execute_result",
          "data": {
            "text/plain": [
              "(90, 28, 28)"
            ]
          },
          "metadata": {},
          "execution_count": 3
        }
      ],
      "source": [
        "my_slice = train_images[10:100] #훈련 이미지 10~99까지 90개 fetch\n",
        "my_slice.shape #모양 찍어보기"
      ]
    },
    {
      "cell_type": "code",
      "execution_count": null,
      "metadata": {
        "execution": {
          "iopub.execute_input": "2022-05-21T00:57:21.450776Z",
          "iopub.status.busy": "2022-05-21T00:57:21.450356Z",
          "iopub.status.idle": "2022-05-21T00:57:21.454814Z",
          "shell.execute_reply": "2022-05-21T00:57:21.454187Z"
        },
        "id": "yTGVsW8W1qI4",
        "outputId": "2dbc727d-b2bb-46f1-ab77-5fb72d28b4bb",
        "colab": {
          "base_uri": "https://localhost:8080/"
        }
      },
      "outputs": [
        {
          "output_type": "execute_result",
          "data": {
            "text/plain": [
              "(90, 28, 28)"
            ]
          },
          "metadata": {},
          "execution_count": 4
        }
      ],
      "source": [
        "my_slice = train_images[10:100, :, :] #훈련 이미지 10~99까지 90개 뽑아내는데 가로와 세로 크기는 일정함\n",
        "my_slice.shape"
      ]
    },
    {
      "cell_type": "code",
      "execution_count": null,
      "metadata": {
        "execution": {
          "iopub.execute_input": "2022-05-21T00:57:21.458290Z",
          "iopub.status.busy": "2022-05-21T00:57:21.457804Z",
          "iopub.status.idle": "2022-05-21T00:57:21.462673Z",
          "shell.execute_reply": "2022-05-21T00:57:21.461775Z"
        },
        "id": "hQ-iwuuM1qI4",
        "outputId": "12c444cd-08e7-470c-fad3-cd0002d2cb7b",
        "colab": {
          "base_uri": "https://localhost:8080/"
        }
      },
      "outputs": [
        {
          "output_type": "execute_result",
          "data": {
            "text/plain": [
              "(90, 28, 28)"
            ]
          },
          "metadata": {},
          "execution_count": 5
        }
      ],
      "source": [
        "my_slice = train_images[10:100, 0:28, 0:28] #훈련 이미지 90개를 가로 세로 인덱싱을 하여 뽑아냄\n",
        "my_slice.shape #모양은 위 결과와 동일"
      ]
    },
    {
      "cell_type": "code",
      "execution_count": null,
      "metadata": {
        "execution": {
          "iopub.execute_input": "2022-05-21T00:57:21.465976Z",
          "iopub.status.busy": "2022-05-21T00:57:21.465505Z",
          "iopub.status.idle": "2022-05-21T00:57:21.469168Z",
          "shell.execute_reply": "2022-05-21T00:57:21.468362Z"
        },
        "id": "na1tzxx21qI4",
        "colab": {
          "base_uri": "https://localhost:8080/"
        },
        "outputId": "61755452-7d70-48d2-991b-f5eb27ba3e0d"
      },
      "outputs": [
        {
          "output_type": "stream",
          "name": "stdout",
          "text": [
            "(60000, 14, 14)\n"
          ]
        }
      ],
      "source": [
        "my_slice = train_images[:, 14:, 14:] #이미지 개수는 동일, 가로, 세로 크기를 14~끝까지 값만 뽑아냄\n",
        "#코드 추가\n",
        "print(my_slice.shape) #결과는 가로 세로 크기를 인덱싱했으므로 14x14가 됨 (60000, 14, 14)"
      ]
    },
    {
      "cell_type": "code",
      "execution_count": null,
      "metadata": {
        "execution": {
          "iopub.execute_input": "2022-05-21T00:57:21.472711Z",
          "iopub.status.busy": "2022-05-21T00:57:21.472282Z",
          "iopub.status.idle": "2022-05-21T00:57:21.476345Z",
          "shell.execute_reply": "2022-05-21T00:57:21.475454Z"
        },
        "id": "jTHEZSaa1qI5",
        "colab": {
          "base_uri": "https://localhost:8080/"
        },
        "outputId": "a6d3b4e5-f04e-4bf4-b577-1a1d3345db8d"
      },
      "outputs": [
        {
          "output_type": "stream",
          "name": "stdout",
          "text": [
            "(60000, 14, 14)\n"
          ]
        }
      ],
      "source": [
        "my_slice = train_images[:, 7:-7, 7:-7] #이미지 개수 동일, 가로 세로 크기를 7~-8까지 즉, 7~20까지 자름 20-7+1 = 14\n",
        "#코드 추가\n",
        "print(my_slice.shape) #(60000, 14, 14)"
      ]
    },
    {
      "cell_type": "markdown",
      "metadata": {
        "id": "VHuR99nN1qI5"
      },
      "source": [
        "### 배치 데이터"
      ]
    },
    {
      "cell_type": "markdown",
      "source": [
        "**데이터 텐서의 첫번째 축은 배치 사이즈를 나타낸다.  \n",
        "훈련시, 데이터를 한꺼번에 모델에 집어넣지 않고 다양한 경우의 수를 구하기 위해서, 한번 turn할 때마다 CPU에 Load하는 시간을 줄이기 위해서   \n",
        "배치 사이즈로 나누어서 연산하는데 우리는 그 텐서들을 배치 데이터라고 부른다.**"
      ],
      "metadata": {
        "id": "feTGLV4lPQKp"
      }
    },
    {
      "cell_type": "code",
      "execution_count": null,
      "metadata": {
        "execution": {
          "iopub.execute_input": "2022-05-21T00:57:21.479963Z",
          "iopub.status.busy": "2022-05-21T00:57:21.479396Z",
          "iopub.status.idle": "2022-05-21T00:57:21.482994Z",
          "shell.execute_reply": "2022-05-21T00:57:21.482245Z"
        },
        "id": "Ewj8YTjl1qI5",
        "colab": {
          "base_uri": "https://localhost:8080/"
        },
        "outputId": "b5a8aae2-dbab-4332-a9ec-091661431a02"
      },
      "outputs": [
        {
          "output_type": "stream",
          "name": "stdout",
          "text": [
            "(128, 28, 28)\n"
          ]
        }
      ],
      "source": [
        "batch = train_images[:128] #배치 데이터를 0~127번째의 데이터로 정함.\n",
        "print(batch.shape) #(128, 28, 28)"
      ]
    },
    {
      "cell_type": "code",
      "execution_count": null,
      "metadata": {
        "execution": {
          "iopub.execute_input": "2022-05-21T00:57:21.486283Z",
          "iopub.status.busy": "2022-05-21T00:57:21.485817Z",
          "iopub.status.idle": "2022-05-21T00:57:21.489326Z",
          "shell.execute_reply": "2022-05-21T00:57:21.488653Z"
        },
        "id": "CKvQh_Dc1qI5",
        "colab": {
          "base_uri": "https://localhost:8080/"
        },
        "outputId": "ac0b7451-b381-4db0-8314-dde7c27124b5"
      },
      "outputs": [
        {
          "output_type": "stream",
          "name": "stdout",
          "text": [
            "(128, 28, 28)\n"
          ]
        }
      ],
      "source": [
        "batch = train_images[128:256] #128~255번재 데이터 총 128개\n",
        "print(batch.shape)"
      ]
    },
    {
      "cell_type": "code",
      "execution_count": null,
      "metadata": {
        "execution": {
          "iopub.execute_input": "2022-05-21T00:57:21.492485Z",
          "iopub.status.busy": "2022-05-21T00:57:21.491982Z",
          "iopub.status.idle": "2022-05-21T00:57:21.495891Z",
          "shell.execute_reply": "2022-05-21T00:57:21.495127Z"
        },
        "id": "FXxjaILB1qI5",
        "colab": {
          "base_uri": "https://localhost:8080/"
        },
        "outputId": "d493f02b-4650-4127-9dee-e90c4cfa9e14"
      },
      "outputs": [
        {
          "output_type": "stream",
          "name": "stdout",
          "text": [
            "(128, 28, 28)\n"
          ]
        }
      ],
      "source": [
        "n = 3\n",
        "batch = train_images[128 * n:128 * (n + 1)] #128 * 3 : 128 * 4이므로 batch의 개수는 128(4-3) = 128개이다.\n",
        "print(batch.shape) #(128, 28, 28)"
      ]
    },
    {
      "cell_type": "markdown",
      "metadata": {
        "id": "zCoiKdln1qI5"
      },
      "source": [
        "### 텐서의 실제 사례"
      ]
    },
    {
      "cell_type": "markdown",
      "metadata": {
        "id": "IdfIlLai1qI5"
      },
      "source": [
        "### 벡터 데이터"
      ]
    },
    {
      "cell_type": "markdown",
      "source": [
        "**(샘플, 특징) 크기의 2D 텐서**  \n",
        "사람의 나이, 집값, 소득분위로 구성된 인구 통계 데이터라면 각 사람은 3개의 값을  \n",
        "가진 벡터로 구성이 되고(한 축에 3개의 데이터) 인구가 10만명이라면 (100000, 3) 크기의 벡터에 저장된다."
      ],
      "metadata": {
        "id": "rf59T0v5Zso7"
      }
    },
    {
      "cell_type": "markdown",
      "metadata": {
        "id": "mraA72yU1qI5"
      },
      "source": [
        "### 시계열 데이터 또는 시퀀스 데이터"
      ]
    },
    {
      "cell_type": "markdown",
      "source": [
        "**(샘플, timestep, feature) 크기의 3D텐서**  \n",
        "시계열 데이터는 데이터에서 어느 시간에 집중할 것인지를 나타내는 시간축을 포함한다.\n",
        "\n",
        "\n",
        "*   주식 가격 데이터셋\n",
        "1분마다 현재 주식 가격, 최고 가격과 최소 가격을 저장한다고 가정하자.  \n",
        "하루동안의 거래 시간이 390분이라고 하면 250일의 데이터는 (250, 390, 3(최소, 최대, 현재)) 의 모양을 갖는 3D텐서라고 볼 수 있다.\n",
        "\n"
      ],
      "metadata": {
        "id": "DHAtiStFbNgi"
      }
    },
    {
      "cell_type": "markdown",
      "metadata": {
        "id": "sN_C-CyC1qI5"
      },
      "source": [
        "### 이미지 데이터"
      ]
    },
    {
      "cell_type": "markdown",
      "source": [
        "**(batch size, channel, height, weight) 크기의 4D 텐서**  \n",
        "우리가 흔히 알고 있는 이미지는 높이, 너비, 3채널의 3차원으로 구성된다.  \n",
        "하지만 훈련시에 주로 배치사이즈로 나누어 학습하기 때문에 batch size까지 포함하게 되면 4차원 입력이 모델에 들어가게 된다.  \n",
        "흑백 이미지의 경우 채널의 사이즈가 1인데 생략하기도 하고 고려하기도 한다.  \n",
        "예) 가로 256 세로 256 크기의 흑백 이미지, 배치 사이즈 64  \n",
        "(64, 1, 256, 256)이 된다. -> (b, c, h, w)"
      ],
      "metadata": {
        "id": "o8KNOagob_Bi"
      }
    },
    {
      "cell_type": "markdown",
      "metadata": {
        "id": "V_1Nl_5a1qI6"
      },
      "source": [
        "### 비디오 데이터"
      ]
    },
    {
      "cell_type": "markdown",
      "source": [
        "**(batch, frames, height, width, channels) 크기의 5D 텐서**  \n",
        "하나의 비디오는 프레임의 연속으로 되어 있고, 프레임은 하나의 이미지이다.  \n",
        "즉, 영화를 볼 때 필름이 빠르게 지나가는 원리라고 볼 수 있음.  \n",
        "예) 60초짜리 144X256 비디오 클립을 초당 4 frame으로 샘플링하면 240 프레임이 되고(4x60s = 240frame)  \n",
        "배치 크기가 4라면 (4, 240, 144, 256, 3)크기의 5D텐서에 저장될 수 있다.  "
      ],
      "metadata": {
        "id": "TD3hz5Myc1f7"
      }
    },
    {
      "cell_type": "markdown",
      "metadata": {
        "id": "Up42nxHL1qI6"
      },
      "source": [
        "## 신경망의 톱니바퀴: 텐서 연산"
      ]
    },
    {
      "cell_type": "markdown",
      "metadata": {
        "id": "nkl--fF91qI6"
      },
      "source": [
        "### 원소별 연산"
      ]
    },
    {
      "cell_type": "markdown",
      "source": [
        "원소별 연산은 텐서에 있는 각 원소에 독립적으로 적용된다.  \n",
        "병렬 구현이 가능한 연산이라고 볼 수 있다. (각각 적용되기 때문에)"
      ],
      "metadata": {
        "id": "0WeCouDvtZNK"
      }
    },
    {
      "cell_type": "code",
      "execution_count": null,
      "metadata": {
        "execution": {
          "iopub.execute_input": "2022-05-21T00:57:21.499755Z",
          "iopub.status.busy": "2022-05-21T00:57:21.499215Z",
          "iopub.status.idle": "2022-05-21T00:57:21.503803Z",
          "shell.execute_reply": "2022-05-21T00:57:21.502971Z"
        },
        "id": "t6Z3vq3l1qI6"
      },
      "outputs": [],
      "source": [
        "def naive_relu(x): #ReLu 연산 -> for 이중루프 이용\n",
        "    assert len(x.shape) == 2 #2D 배열\n",
        "    x = x.copy() #입력 텐서를 바꾸지 않고 복사하기 위함\n",
        "    for i in range(x.shape[0]):\n",
        "        for j in range(x.shape[1]):\n",
        "            x[i, j] = max(x[i, j], 0) #인덱스에서 가장 큰수를 뽑아내서 저장\n",
        "    return x"
      ]
    },
    {
      "cell_type": "code",
      "execution_count": null,
      "metadata": {
        "execution": {
          "iopub.execute_input": "2022-05-21T00:57:21.507340Z",
          "iopub.status.busy": "2022-05-21T00:57:21.506666Z",
          "iopub.status.idle": "2022-05-21T00:57:21.511473Z",
          "shell.execute_reply": "2022-05-21T00:57:21.510630Z"
        },
        "id": "uaoPSZmK1qI6"
      },
      "outputs": [],
      "source": [
        "#덧셈 연산 구현\n",
        "def naive_add(x, y):\n",
        "    assert len(x.shape) == 2 #2D 행렬\n",
        "    assert x.shape == y.shape\n",
        "    x = x.copy()\n",
        "    for i in range(x.shape[0]):\n",
        "        for j in range(x.shape[1]):\n",
        "            x[i, j] += y[i, j] #각 인덱스 값을 행과 열 반복하며 더해서 저장\n",
        "    return x"
      ]
    },
    {
      "cell_type": "code",
      "execution_count": null,
      "metadata": {
        "execution": {
          "iopub.execute_input": "2022-05-21T00:57:21.514953Z",
          "iopub.status.busy": "2022-05-21T00:57:21.514566Z",
          "iopub.status.idle": "2022-05-21T00:57:21.524287Z",
          "shell.execute_reply": "2022-05-21T00:57:21.523672Z"
        },
        "id": "yahpjVBQ1qI6",
        "outputId": "8c3d8d0f-6a67-4ff7-fd01-26f973b2fafb",
        "colab": {
          "base_uri": "https://localhost:8080/"
        }
      },
      "outputs": [
        {
          "output_type": "stream",
          "name": "stdout",
          "text": [
            "걸린 시간: 0.01 s\n"
          ]
        }
      ],
      "source": [
        "import time\n",
        "import numpy as np\n",
        "\n",
        "x = np.random.random((20, 100)) #20행 100열의 행렬 생성\n",
        "y = np.random.random((20, 100))\n",
        "\n",
        "t0 = time.time()\n",
        "for _ in range(1000):\n",
        "    z = x + y #행렬끼리 덧셈\n",
        "    z = np.maximum(z, 0.) #z행렬에서 0보다 큰 값을 요소로 저장함 0보다 큰 값이 없다면 0을 저장\n",
        "print(\"걸린 시간: {0:.2f} s\".format(time.time() - t0)) #걸린 시간 측정 사이클 (현재시간 - 반복문 초기 시간)"
      ]
    },
    {
      "cell_type": "code",
      "execution_count": null,
      "metadata": {
        "execution": {
          "iopub.execute_input": "2022-05-21T00:57:21.527704Z",
          "iopub.status.busy": "2022-05-21T00:57:21.527269Z",
          "iopub.status.idle": "2022-05-21T00:57:23.525600Z",
          "shell.execute_reply": "2022-05-21T00:57:23.524629Z"
        },
        "id": "qA4UxC_g1qI6",
        "outputId": "87d16059-2970-4e71-9141-98ca19f6bd00",
        "colab": {
          "base_uri": "https://localhost:8080/"
        }
      },
      "outputs": [
        {
          "output_type": "stream",
          "name": "stdout",
          "text": [
            "걸린 시간: 2.01 s\n"
          ]
        }
      ],
      "source": [
        "t0 = time.time()\n",
        "for _ in range(1000):\n",
        "    z = naive_add(x, y) #함수 호출\n",
        "    z = naive_relu(z)   #함수 호출\n",
        "print(\"걸린 시간: {0:.2f} s\".format(time.time() - t0))"
      ]
    },
    {
      "cell_type": "markdown",
      "metadata": {
        "id": "9ZkDW9ie1qI7"
      },
      "source": [
        "### 브로드캐스팅"
      ]
    },
    {
      "cell_type": "markdown",
      "source": [
        "앞에서 살펴본 naive_add 덧셈 함수는 동일한 크기의 2D 연산만 지원한다.  \n",
        "하지만, 2D 텐서와 벡터끼리의 합과 같은 크기가 다른 두 텐서의 덧셈은 어떨까?"
      ],
      "metadata": {
        "id": "8I45fLjMw8mA"
      }
    },
    {
      "cell_type": "code",
      "execution_count": null,
      "metadata": {
        "execution": {
          "iopub.execute_input": "2022-05-21T00:57:23.529492Z",
          "iopub.status.busy": "2022-05-21T00:57:23.529207Z",
          "iopub.status.idle": "2022-05-21T00:57:23.533586Z",
          "shell.execute_reply": "2022-05-21T00:57:23.532638Z"
        },
        "id": "Rpk8MkPx1qI7",
        "colab": {
          "base_uri": "https://localhost:8080/"
        },
        "outputId": "5c41dc89-621b-4315-cda1-41ba6bbee456"
      },
      "outputs": [
        {
          "output_type": "stream",
          "name": "stdout",
          "text": [
            "(32, 10)\n",
            "(32, 10)\n"
          ]
        },
        {
          "output_type": "execute_result",
          "data": {
            "text/plain": [
              "array([[1.04714498, 1.00258851, 1.11708867, 1.27300102, 0.30044812,\n",
              "        1.14928263, 1.33761414, 1.55698724, 1.18614704, 1.30400832],\n",
              "       [1.94014694, 0.94928772, 0.58438675, 1.33779909, 0.19509779,\n",
              "        1.4459182 , 1.77302338, 0.6734462 , 1.45011847, 1.23142155],\n",
              "       [1.02821149, 1.1927577 , 0.61491968, 0.70698643, 1.10238145,\n",
              "        1.71807967, 1.57809976, 0.68874152, 1.81574557, 1.28847812],\n",
              "       [1.17440317, 0.94873033, 0.95941813, 1.02113926, 0.46209255,\n",
              "        1.87914094, 1.88469713, 1.12533658, 1.23042616, 1.851788  ],\n",
              "       [1.40237054, 1.41259725, 1.42201723, 0.73939994, 0.52835822,\n",
              "        1.7214764 , 1.74064409, 1.27538031, 1.46693987, 1.74358709],\n",
              "       [1.62359388, 1.10769508, 1.1239926 , 1.56416953, 0.80172617,\n",
              "        1.16040192, 1.54204124, 1.41054757, 1.5551644 , 1.34317542],\n",
              "       [1.49977607, 0.88997164, 1.43691027, 1.07091793, 0.76581178,\n",
              "        1.16552932, 1.26282353, 1.15931805, 1.39511517, 0.9145464 ],\n",
              "       [1.97485375, 1.36503626, 1.43179048, 0.835563  , 1.01639536,\n",
              "        1.34515426, 1.2861747 , 1.04954825, 1.34017532, 1.51323684],\n",
              "       [1.4102157 , 1.18720875, 1.42650078, 1.03491731, 0.3283213 ,\n",
              "        1.4147754 , 1.73407525, 0.62190911, 1.31953384, 1.63990008],\n",
              "       [1.41918136, 1.12995254, 0.53589929, 1.14023801, 0.88974881,\n",
              "        1.78925015, 1.01094851, 1.06744862, 1.18323517, 0.92184166],\n",
              "       [1.11938201, 0.55444748, 0.52620251, 1.27530495, 0.86822221,\n",
              "        1.03294659, 1.30792289, 0.61164659, 1.65979709, 1.6819326 ],\n",
              "       [1.98154561, 1.3768279 , 1.32515506, 0.72605365, 0.38000336,\n",
              "        1.92862207, 1.56443037, 1.21715986, 1.82125435, 1.39557712],\n",
              "       [1.17534052, 0.70926371, 0.95534382, 1.46509986, 1.10092725,\n",
              "        1.67788181, 1.23612909, 1.36372543, 1.78267711, 1.22987313],\n",
              "       [1.30219983, 1.35001364, 0.85913085, 0.74410043, 0.697899  ,\n",
              "        1.03790788, 1.20775566, 1.31198893, 1.65730785, 0.92805819],\n",
              "       [1.47623865, 1.13414027, 1.03747701, 1.17195828, 0.53319903,\n",
              "        1.6050037 , 1.85992445, 0.73432334, 0.97731221, 1.73692663],\n",
              "       [1.38703617, 1.00415734, 0.8873946 , 0.87222447, 0.34475426,\n",
              "        1.53641134, 1.33289513, 1.49064361, 1.22529811, 1.39604708],\n",
              "       [1.03041407, 0.81632562, 0.55356117, 1.19108218, 0.45257679,\n",
              "        1.10924881, 1.51385427, 1.28396001, 1.60798699, 1.75161973],\n",
              "       [1.06802267, 0.61873183, 1.22695705, 1.32484306, 1.02914367,\n",
              "        1.95536731, 1.7858963 , 1.31221792, 1.9305091 , 1.16200254],\n",
              "       [1.93874129, 1.14645654, 1.13354776, 0.86703672, 0.96572139,\n",
              "        1.61706531, 1.51256109, 1.07111269, 1.00229858, 1.36581217],\n",
              "       [1.90241581, 0.83483756, 0.88826946, 0.63012949, 0.3584998 ,\n",
              "        1.74827079, 1.32451602, 1.52807707, 1.75512432, 1.57982985],\n",
              "       [1.92011941, 0.63198408, 0.65536545, 1.29671705, 0.69401475,\n",
              "        1.03178522, 1.73391234, 1.28572146, 1.33724065, 1.40542893],\n",
              "       [1.1124256 , 0.82714762, 0.48669448, 1.23383699, 0.99243773,\n",
              "        1.89136524, 0.99540688, 1.04801233, 1.22727511, 1.60065897],\n",
              "       [1.30942517, 1.00910732, 1.29139083, 1.00771767, 0.56071348,\n",
              "        1.04482812, 1.6551039 , 1.54211559, 1.30516444, 1.48082364],\n",
              "       [1.3661482 , 0.49434288, 0.65987871, 0.84143537, 0.3733064 ,\n",
              "        1.09070677, 1.51151903, 1.50436391, 1.80034048, 1.64026133],\n",
              "       [1.54817749, 0.7510946 , 0.99853619, 1.38481   , 0.43603205,\n",
              "        1.96483305, 1.3827887 , 0.71669409, 1.34575407, 0.89265443],\n",
              "       [1.82083129, 0.79775228, 0.77734662, 0.64253778, 0.50760237,\n",
              "        1.29477127, 1.64251843, 0.67376015, 0.9982883 , 1.04787143],\n",
              "       [1.21638415, 0.96905406, 1.36210467, 0.79002277, 1.01838807,\n",
              "        1.88681462, 1.49410474, 1.3961719 , 1.26924997, 1.37401469],\n",
              "       [1.31671661, 0.66863888, 1.26644768, 1.27081867, 1.16834081,\n",
              "        1.7085245 , 1.65873564, 0.91189524, 1.62024902, 1.05208922],\n",
              "       [1.12773414, 0.98444153, 1.04143562, 0.70506615, 0.84763454,\n",
              "        1.50987586, 1.38682366, 1.48637811, 1.93736282, 1.26497503],\n",
              "       [1.42319477, 1.28972821, 0.70853491, 1.36424605, 0.8294971 ,\n",
              "        1.37263117, 1.69637438, 1.20030784, 1.5747791 , 1.85018438],\n",
              "       [1.05263405, 0.96047977, 1.12257142, 0.97256346, 0.95636311,\n",
              "        1.88089706, 1.13832106, 0.7720449 , 1.8426946 , 1.15858387],\n",
              "       [1.62549054, 0.81230586, 0.73467017, 1.22283812, 0.34548301,\n",
              "        1.93772393, 1.86987269, 1.00042913, 1.62873605, 1.6341879 ]])"
            ]
          },
          "metadata": {},
          "execution_count": 11
        }
      ],
      "source": [
        "import numpy as np\n",
        "X = np.random.random((32, 10)) #32x10 행렬 생성\n",
        "y = np.random.random((10,)) #10개 요소를 갖는 벡터 생성\n",
        "print(X.shape) #(32, 10)\n",
        "naive_add_matrix_and_vector(X,y)"
      ]
    },
    {
      "cell_type": "code",
      "execution_count": null,
      "metadata": {
        "execution": {
          "iopub.execute_input": "2022-05-21T00:57:23.536953Z",
          "iopub.status.busy": "2022-05-21T00:57:23.536681Z",
          "iopub.status.idle": "2022-05-21T00:57:23.541762Z",
          "shell.execute_reply": "2022-05-21T00:57:23.540974Z"
        },
        "id": "dBPKHsHi1qI7",
        "colab": {
          "base_uri": "https://localhost:8080/"
        },
        "outputId": "f508354a-f3d0-4a74-b22c-50cdb5c158c6"
      },
      "outputs": [
        {
          "output_type": "stream",
          "name": "stdout",
          "text": [
            "(1, 10)\n"
          ]
        }
      ],
      "source": [
        "y = np.expand_dims(y, axis=0) #배열의 형태를 맞추기 위해 dimension 0축으로 확장 (1, 10)\n",
        "print(y.shape)  #(1, 10)"
      ]
    },
    {
      "cell_type": "code",
      "execution_count": null,
      "metadata": {
        "execution": {
          "iopub.execute_input": "2022-05-21T00:57:23.545374Z",
          "iopub.status.busy": "2022-05-21T00:57:23.545120Z",
          "iopub.status.idle": "2022-05-21T00:57:23.549140Z",
          "shell.execute_reply": "2022-05-21T00:57:23.548341Z"
        },
        "id": "3fuvM3rd1qI7",
        "colab": {
          "base_uri": "https://localhost:8080/"
        },
        "outputId": "88111cc1-0987-499c-aad1-f8b4ca23937d"
      },
      "outputs": [
        {
          "output_type": "stream",
          "name": "stdout",
          "text": [
            "(32, 10)\n"
          ]
        }
      ],
      "source": [
        "Y = np.concatenate([y] * 32, axis=0) #0축 기준으로 각 32개의 y배열을 붙여준다.\n",
        "print(Y.shape) #(32, 10)"
      ]
    },
    {
      "cell_type": "code",
      "execution_count": null,
      "metadata": {
        "execution": {
          "iopub.execute_input": "2022-05-21T00:57:23.552981Z",
          "iopub.status.busy": "2022-05-21T00:57:23.552734Z",
          "iopub.status.idle": "2022-05-21T00:57:23.557779Z",
          "shell.execute_reply": "2022-05-21T00:57:23.557013Z"
        },
        "id": "DM59177S1qI7"
      },
      "outputs": [],
      "source": [
        "def naive_add_matrix_and_vector(x, y): #행렬과 벡터의 덧셈 과정\n",
        "    assert len(x.shape) == 2 #2D 배열\n",
        "    assert len(y.shape) == 1 #1D 벡터\n",
        "    assert x.shape[1] == y.shape[0]\n",
        "    x = x.copy()\n",
        "    for i in range(x.shape[0]): #행에 대해\n",
        "        for j in range(x.shape[1]): #열에 대해\n",
        "            x[i, j] += y[j] #브로드 캐스팅하여 각각 더한다.\n",
        "    print(x.shape) #(32, 10)\n",
        "    return x"
      ]
    },
    {
      "cell_type": "markdown",
      "source": [
        "**아래 사진은 broadcasting 과정**  \n",
        "모양이 달라도, 각 텐서값에 대해 연산을 해주기 때문에  \n",
        "결국에는 모양이 같게 복사하여 연산한 값과 동일하다.  "
      ],
      "metadata": {
        "id": "Hr972Jfh3Ni5"
      }
    },
    {
      "cell_type": "markdown",
      "source": [
        "![다운로드.png](data:image/png;base64,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)"
      ],
      "metadata": {
        "id": "BLB0VnM42haM"
      }
    },
    {
      "cell_type": "code",
      "execution_count": null,
      "metadata": {
        "execution": {
          "iopub.execute_input": "2022-05-21T00:57:23.561664Z",
          "iopub.status.busy": "2022-05-21T00:57:23.561412Z",
          "iopub.status.idle": "2022-05-21T00:57:23.566195Z",
          "shell.execute_reply": "2022-05-21T00:57:23.565424Z"
        },
        "id": "48yuFoqQ1qI7",
        "colab": {
          "base_uri": "https://localhost:8080/"
        },
        "outputId": "7f1643df-5e2f-4f81-b1ea-658ff42d2a4d"
      },
      "outputs": [
        {
          "output_type": "stream",
          "name": "stdout",
          "text": [
            "[[[[5.60880754e-01 1.99238659e-01 3.74120795e-01 ... 9.00095552e-01\n",
            "    6.69050450e-02 5.29454016e-01]\n",
            "   [1.30251260e-01 4.59732328e-01 5.20984249e-01 ... 2.56310534e-01\n",
            "    7.58540645e-01 9.16348066e-01]\n",
            "   [5.71043346e-01 1.18733500e-01 6.51664345e-01 ... 5.18813986e-01\n",
            "    6.60787263e-01 7.56952265e-01]\n",
            "   ...\n",
            "   [1.47193231e-02 9.49325151e-01 9.23118253e-01 ... 9.30584396e-01\n",
            "    8.72808058e-01 7.92676626e-01]\n",
            "   [5.54441981e-01 3.43047777e-01 1.41894031e-01 ... 9.03638576e-01\n",
            "    4.40463369e-01 8.15417719e-01]\n",
            "   [4.46883414e-01 7.41793987e-01 9.38046152e-01 ... 5.19695897e-02\n",
            "    7.26766741e-01 3.33900501e-01]]\n",
            "\n",
            "  [[5.18891574e-01 1.12314520e-02 4.82108690e-01 ... 2.04855926e-01\n",
            "    4.12833493e-01 4.17272630e-01]\n",
            "   [9.95984304e-01 8.25323261e-01 2.09359811e-01 ... 9.92699321e-01\n",
            "    6.72602393e-02 3.68822509e-01]\n",
            "   [2.06242092e-01 4.62849807e-02 2.17345024e-01 ... 6.13952575e-02\n",
            "    1.14098743e-01 8.60443680e-01]\n",
            "   ...\n",
            "   [2.62874431e-01 4.19488385e-01 4.30277833e-01 ... 1.48984364e-01\n",
            "    9.93321419e-01 1.02269129e-02]\n",
            "   [2.04162157e-01 6.97545904e-01 3.27084500e-01 ... 9.90735308e-02\n",
            "    6.09205543e-01 3.96902479e-01]\n",
            "   [5.69508240e-01 3.62643743e-01 2.30231319e-01 ... 7.06873033e-01\n",
            "    3.14993921e-01 5.67433983e-01]]\n",
            "\n",
            "  [[7.53176331e-01 6.94267065e-01 3.41461053e-01 ... 6.40656002e-01\n",
            "    4.23834137e-01 4.93688516e-01]\n",
            "   [1.19201080e-01 8.79393076e-01 1.48888053e-01 ... 5.83722791e-02\n",
            "    4.00884625e-01 3.02485030e-01]\n",
            "   [4.08907992e-01 1.09737058e-01 5.16742191e-01 ... 3.83088326e-01\n",
            "    9.20142168e-01 6.31625934e-01]\n",
            "   ...\n",
            "   [9.79326200e-01 8.67389344e-01 5.12057227e-01 ... 9.04518087e-01\n",
            "    1.50325664e-02 8.03690140e-02]\n",
            "   [3.06973081e-01 3.98254855e-01 6.70626983e-01 ... 5.50289567e-01\n",
            "    8.59593699e-02 6.23025514e-01]\n",
            "   [8.24738012e-01 1.70592945e-01 7.01883226e-01 ... 1.22870574e-01\n",
            "    1.57527175e-01 6.21438214e-01]]]\n",
            "\n",
            "\n",
            " [[[3.99000669e-01 3.43685235e-01 8.06266760e-01 ... 1.23421339e-01\n",
            "    8.91342788e-01 4.40689392e-02]\n",
            "   [6.50094762e-01 1.72703649e-01 9.55394362e-01 ... 1.26767568e-01\n",
            "    5.97258437e-01 8.82705834e-01]\n",
            "   [8.72958123e-01 4.66077724e-01 1.23829674e-01 ... 8.43770813e-01\n",
            "    1.67461849e-01 3.06917621e-01]\n",
            "   ...\n",
            "   [4.17381716e-01 7.58801502e-01 4.44290274e-01 ... 4.37609087e-01\n",
            "    5.45006710e-01 6.51531014e-01]\n",
            "   [1.76677043e-01 3.65905543e-01 8.46129009e-01 ... 1.66331089e-01\n",
            "    2.96065750e-01 3.05265173e-01]\n",
            "   [5.32687675e-01 4.44572935e-01 8.32620430e-01 ... 3.30333617e-02\n",
            "    4.07640316e-01 6.08362634e-01]]\n",
            "\n",
            "  [[9.67867835e-01 2.02937402e-01 2.72600440e-02 ... 1.27872396e-01\n",
            "    3.98057843e-01 5.78596839e-01]\n",
            "   [1.09666389e-01 6.61515912e-01 6.70497241e-01 ... 4.92359265e-01\n",
            "    1.00945875e-01 9.21058794e-01]\n",
            "   [6.58863346e-01 4.00076176e-01 4.95839756e-01 ... 5.87402028e-01\n",
            "    7.44698672e-01 5.96524043e-01]\n",
            "   ...\n",
            "   [9.36862493e-01 8.55959386e-01 2.99355326e-01 ... 2.14788609e-01\n",
            "    4.68241355e-01 5.55643277e-01]\n",
            "   [4.63317085e-01 1.97819288e-01 6.43373711e-01 ... 6.21234030e-01\n",
            "    5.86180817e-02 8.32986659e-01]\n",
            "   [5.74293556e-01 5.76065981e-01 6.54728345e-01 ... 9.79186578e-01\n",
            "    6.38823787e-01 5.62444340e-02]]\n",
            "\n",
            "  [[6.46322726e-01 5.05556228e-01 2.80864596e-01 ... 5.56876641e-01\n",
            "    6.13931625e-01 9.48699633e-01]\n",
            "   [4.53411556e-01 7.43126465e-02 8.71577091e-01 ... 5.36000414e-02\n",
            "    8.32257427e-01 9.34568680e-01]\n",
            "   [3.15882849e-01 9.17958998e-01 8.07396247e-01 ... 3.77895534e-01\n",
            "    4.71594794e-01 7.17032513e-01]\n",
            "   ...\n",
            "   [1.05877968e-01 2.73440925e-01 7.97239710e-02 ... 5.81239398e-02\n",
            "    3.95656164e-01 9.36554148e-01]\n",
            "   [6.04891435e-01 2.03779588e-01 5.96030267e-02 ... 6.64020802e-01\n",
            "    5.39268092e-01 5.49517844e-01]\n",
            "   [5.92388757e-01 4.30891045e-02 8.07261125e-01 ... 1.05205263e-01\n",
            "    3.91643044e-02 7.47158664e-01]]]\n",
            "\n",
            "\n",
            " [[[6.29749299e-02 9.28988458e-01 6.38885622e-01 ... 6.38111045e-01\n",
            "    1.41618179e-01 4.76133285e-01]\n",
            "   [8.61294457e-01 4.68313979e-01 9.27327389e-01 ... 8.80966072e-01\n",
            "    4.46531037e-01 7.02206855e-01]\n",
            "   [9.06892430e-01 1.59236419e-01 3.74346555e-01 ... 2.81429142e-01\n",
            "    2.40685139e-01 2.50126574e-01]\n",
            "   ...\n",
            "   [3.69921919e-01 5.19775737e-02 6.02589199e-01 ... 7.09084513e-01\n",
            "    8.26518750e-01 2.27783005e-01]\n",
            "   [1.86930922e-01 7.47388725e-01 8.04749456e-01 ... 7.62559711e-01\n",
            "    8.62180275e-02 4.23281190e-01]\n",
            "   [5.75011344e-01 7.20818188e-01 5.26684011e-01 ... 9.57815037e-01\n",
            "    8.79731994e-01 3.56522145e-01]]\n",
            "\n",
            "  [[1.72340435e-04 9.04272068e-01 3.37886079e-01 ... 3.92426210e-01\n",
            "    4.96912803e-02 5.80818376e-01]\n",
            "   [2.92216086e-01 3.60167980e-01 5.30646589e-01 ... 2.93645938e-01\n",
            "    8.23431613e-01 2.16388722e-01]\n",
            "   [5.30064155e-01 1.29792284e-01 5.64044343e-01 ... 2.48735970e-01\n",
            "    5.30799993e-01 3.75894221e-01]\n",
            "   ...\n",
            "   [4.66937268e-01 3.02540366e-01 4.48562172e-01 ... 9.80307390e-01\n",
            "    6.46384679e-01 6.22502719e-01]\n",
            "   [4.07802570e-01 4.61887882e-01 7.67079087e-01 ... 4.38572689e-01\n",
            "    8.17643963e-01 4.51633886e-01]\n",
            "   [4.89236136e-01 1.19205612e-01 1.46885981e-01 ... 9.99750131e-01\n",
            "    7.09935533e-01 7.14128025e-01]]\n",
            "\n",
            "  [[9.63615662e-01 5.45838051e-01 4.28339890e-01 ... 3.01655512e-01\n",
            "    6.43632387e-01 5.35993772e-02]\n",
            "   [9.21009501e-01 2.86336620e-02 6.33776976e-02 ... 3.75351499e-01\n",
            "    4.53013047e-01 9.48479388e-01]\n",
            "   [4.64144113e-01 3.81344664e-01 5.22271107e-01 ... 3.17760370e-01\n",
            "    2.75946207e-01 2.92374905e-01]\n",
            "   ...\n",
            "   [4.25939354e-01 4.24552959e-01 6.55691857e-01 ... 2.96892275e-01\n",
            "    2.43547973e-02 9.77412256e-01]\n",
            "   [9.17798704e-01 1.33272080e-01 2.66862690e-01 ... 9.78773710e-01\n",
            "    8.40910922e-01 7.71341489e-01]\n",
            "   [4.65230865e-01 8.77154717e-01 3.33007115e-01 ... 2.11312094e-01\n",
            "    1.75828165e-01 4.71679919e-01]]]\n",
            "\n",
            "\n",
            " ...\n",
            "\n",
            "\n",
            " [[[3.08599837e-01 9.03709934e-01 3.96845535e-01 ... 3.87061780e-01\n",
            "    5.04628388e-01 1.70620803e-01]\n",
            "   [6.50211987e-01 9.31065104e-01 1.17224733e-01 ... 7.68163592e-01\n",
            "    7.69967786e-01 1.24596326e-01]\n",
            "   [3.49801339e-01 2.96760722e-01 1.57132842e-01 ... 1.15418094e-01\n",
            "    1.41072383e-01 2.16059603e-01]\n",
            "   ...\n",
            "   [5.88272852e-01 5.56685771e-01 4.80205490e-01 ... 8.40954181e-01\n",
            "    4.57936333e-01 8.74074320e-01]\n",
            "   [6.43118078e-01 2.21610072e-02 2.47542454e-01 ... 1.61991469e-01\n",
            "    6.56907134e-01 2.95007647e-01]\n",
            "   [6.67467956e-01 1.42427538e-02 7.60275643e-01 ... 5.97429945e-01\n",
            "    6.96529433e-01 4.35132528e-01]]\n",
            "\n",
            "  [[6.45295976e-01 6.45818820e-02 3.86965986e-01 ... 7.39015705e-01\n",
            "    7.17936844e-01 5.59625019e-01]\n",
            "   [5.17930197e-01 9.12826637e-01 8.50124034e-02 ... 9.58138831e-01\n",
            "    4.81552564e-01 5.71575638e-01]\n",
            "   [1.32131448e-01 4.79792007e-01 6.92408647e-01 ... 7.52973807e-01\n",
            "    6.57331583e-01 2.23404275e-01]\n",
            "   ...\n",
            "   [5.35625238e-01 3.52699183e-01 3.83780973e-01 ... 7.90017083e-01\n",
            "    9.48359146e-01 8.21940763e-01]\n",
            "   [7.77909053e-01 9.21484662e-01 7.67593382e-01 ... 1.28742183e-01\n",
            "    9.75726676e-01 6.90085733e-02]\n",
            "   [5.23050696e-01 9.74190446e-01 1.85785607e-01 ... 6.18015089e-01\n",
            "    2.70549248e-01 7.88663856e-01]]\n",
            "\n",
            "  [[3.81173470e-01 2.92137136e-01 3.41263696e-01 ... 5.24452771e-01\n",
            "    7.36429201e-01 6.46666807e-01]\n",
            "   [1.34945271e-01 4.35068816e-01 9.96297369e-01 ... 4.67060635e-01\n",
            "    3.83901869e-01 6.55901360e-01]\n",
            "   [6.82889937e-01 7.93055749e-01 8.00666158e-04 ... 4.54319900e-01\n",
            "    8.38748907e-01 1.76800824e-01]\n",
            "   ...\n",
            "   [1.76377707e-01 5.68022894e-01 8.72172597e-01 ... 3.22310835e-01\n",
            "    2.77158415e-01 8.18440691e-03]\n",
            "   [2.74341177e-02 1.54638840e-01 5.09278128e-01 ... 2.59979866e-01\n",
            "    2.92207721e-01 5.20120059e-01]\n",
            "   [6.19058762e-01 9.35521684e-01 5.11885046e-01 ... 6.04457598e-01\n",
            "    3.73393684e-01 5.32231363e-01]]]\n",
            "\n",
            "\n",
            " [[[5.16244066e-01 5.16129082e-01 2.87351086e-01 ... 5.81951972e-01\n",
            "    8.90327504e-01 9.15729463e-01]\n",
            "   [7.67764283e-01 3.60539577e-01 3.40285192e-02 ... 3.86652934e-03\n",
            "    2.24699905e-01 4.37083904e-01]\n",
            "   [4.88292450e-01 3.96608624e-01 4.73995063e-01 ... 1.73519294e-01\n",
            "    3.11438580e-01 9.63349496e-01]\n",
            "   ...\n",
            "   [8.11668957e-01 6.09824008e-01 4.57308777e-01 ... 8.06872993e-01\n",
            "    6.03119031e-01 7.13285071e-01]\n",
            "   [4.76934606e-01 2.33881909e-01 5.70504190e-01 ... 4.32375833e-01\n",
            "    6.05860146e-01 9.72824146e-01]\n",
            "   [3.20615765e-01 4.11147022e-01 9.35692438e-02 ... 9.40274809e-01\n",
            "    7.58715305e-01 9.27420665e-01]]\n",
            "\n",
            "  [[3.37232397e-01 3.01657381e-01 4.98451072e-01 ... 7.01285753e-01\n",
            "    7.27660024e-01 6.00491103e-01]\n",
            "   [9.80451817e-01 8.46072832e-01 5.26607118e-01 ... 3.46528539e-01\n",
            "    8.04371364e-01 4.21050386e-01]\n",
            "   [7.71197414e-02 7.48638739e-01 9.02069823e-01 ... 6.06628922e-01\n",
            "    7.03915528e-01 1.08862555e-01]\n",
            "   ...\n",
            "   [6.52206712e-01 2.35476594e-01 8.26775005e-01 ... 2.25879347e-02\n",
            "    2.98731498e-01 3.39015440e-01]\n",
            "   [3.02399775e-01 8.78573031e-01 9.55698114e-01 ... 8.60397677e-01\n",
            "    2.25084553e-01 6.63360686e-01]\n",
            "   [7.39074701e-01 1.31415642e-01 6.08950549e-01 ... 5.16092386e-01\n",
            "    6.22861479e-01 2.63373125e-01]]\n",
            "\n",
            "  [[6.63447736e-03 2.38083223e-01 3.79476602e-01 ... 2.60920168e-01\n",
            "    1.20066454e-01 6.39420461e-01]\n",
            "   [9.52392075e-01 3.77315031e-01 5.98779413e-01 ... 1.67523802e-01\n",
            "    6.39793726e-01 3.97276334e-01]\n",
            "   [4.70864840e-01 9.34528408e-01 3.86444123e-01 ... 5.81668922e-01\n",
            "    1.91113523e-01 2.13746617e-01]\n",
            "   ...\n",
            "   [9.01048052e-01 8.99047328e-01 2.39945029e-01 ... 4.60307276e-01\n",
            "    2.32389793e-01 7.85095594e-02]\n",
            "   [5.56236542e-01 5.03085723e-01 5.43698421e-01 ... 9.85045990e-01\n",
            "    7.24173568e-01 4.32496056e-01]\n",
            "   [2.46106530e-01 2.98182547e-01 7.01190265e-01 ... 5.20537879e-01\n",
            "    2.72211326e-01 6.81116541e-01]]]\n",
            "\n",
            "\n",
            " [[[8.90028122e-01 6.26834999e-01 2.25444938e-01 ... 3.02718066e-01\n",
            "    8.98504745e-02 7.89205190e-01]\n",
            "   [2.74598835e-01 9.09849767e-01 6.98560369e-01 ... 7.69057224e-01\n",
            "    1.86010407e-01 7.65259746e-01]\n",
            "   [5.79747692e-02 5.57472901e-01 4.25591871e-02 ... 1.00759831e-01\n",
            "    9.22277489e-02 8.37629618e-01]\n",
            "   ...\n",
            "   [5.03644750e-01 6.81940069e-01 7.75743593e-01 ... 5.27228336e-01\n",
            "    4.01325232e-01 6.42847223e-01]\n",
            "   [9.45657919e-01 7.11250030e-01 1.67688524e-01 ... 8.23220034e-02\n",
            "    8.79331551e-02 2.59648503e-01]\n",
            "   [7.42390304e-01 3.89402612e-01 3.02296282e-01 ... 3.75149964e-01\n",
            "    2.86300470e-01 4.53772051e-01]]\n",
            "\n",
            "  [[4.54846829e-01 6.88014266e-01 5.38593973e-01 ... 5.76788455e-01\n",
            "    9.60167000e-01 1.81487851e-01]\n",
            "   [3.75664654e-01 4.12466231e-01 5.36237369e-01 ... 8.37518270e-01\n",
            "    1.76480762e-01 6.89723780e-01]\n",
            "   [2.16272245e-01 2.95815617e-02 4.51202390e-01 ... 7.63140729e-02\n",
            "    4.13038357e-01 9.87665240e-02]\n",
            "   ...\n",
            "   [1.61239011e-02 1.94796008e-01 1.47469823e-01 ... 9.22860394e-01\n",
            "    6.30698682e-01 4.24760266e-01]\n",
            "   [7.56378806e-02 9.73206354e-01 4.95283649e-02 ... 7.81111379e-01\n",
            "    9.56394620e-01 8.49179611e-01]\n",
            "   [4.30434994e-01 2.01010367e-01 3.76458217e-01 ... 7.84653904e-01\n",
            "    4.59065190e-01 4.25156950e-01]]\n",
            "\n",
            "  [[2.62036120e-02 6.72818951e-01 7.98793077e-02 ... 2.75019587e-01\n",
            "    8.18670516e-01 7.88486948e-01]\n",
            "   [8.02677295e-01 7.94291357e-01 5.43390419e-01 ... 2.28403715e-01\n",
            "    8.12044788e-01 5.39469691e-01]\n",
            "   [2.72875021e-01 1.42378040e-01 1.56851614e-01 ... 5.76765248e-01\n",
            "    6.45660863e-01 1.31640307e-03]\n",
            "   ...\n",
            "   [6.73669212e-01 8.80267955e-01 4.60029048e-01 ... 5.24437086e-01\n",
            "    3.45108935e-01 6.47370645e-01]\n",
            "   [3.16536438e-01 6.49660755e-02 6.69806781e-01 ... 6.99316795e-01\n",
            "    2.67876593e-01 8.52637547e-01]\n",
            "   [8.63820123e-01 9.32698904e-01 6.34118515e-01 ... 5.09651333e-01\n",
            "    9.24587654e-01 6.75929612e-01]]]]\n",
            "[[6.36772721e-01 6.44777630e-01 3.73595829e-01 6.28519856e-01\n",
            "  8.84395679e-01 8.80204028e-01 6.25129726e-01 5.88908762e-01\n",
            "  8.19083943e-01 4.96637558e-01]\n",
            " [4.58554013e-01 1.35103609e-01 5.41256522e-01 9.19260035e-01\n",
            "  4.17858759e-01 8.29635136e-01 2.14861292e-01 8.91859986e-01\n",
            "  3.77065231e-01 8.12055323e-02]\n",
            " [1.64415401e-01 6.41800790e-01 8.38576906e-01 5.02492987e-01\n",
            "  1.15975428e-01 7.78329592e-01 4.15361422e-02 3.77414808e-01\n",
            "  9.23423032e-01 1.38965856e-01]\n",
            " [7.04487652e-01 1.50542968e-01 4.98048406e-02 8.51859733e-01\n",
            "  6.59062381e-01 4.62883974e-02 3.25694783e-02 8.65782964e-01\n",
            "  9.57636313e-01 6.28399077e-01]\n",
            " [3.72098460e-01 9.49302008e-01 4.62576976e-01 2.64419062e-01\n",
            "  4.24860653e-04 7.11087797e-01 1.62894211e-02 4.15199283e-01\n",
            "  9.22954691e-01 9.58992250e-01]\n",
            " [3.94398033e-01 9.52998384e-01 5.06403104e-02 4.91332350e-01\n",
            "  8.52232471e-01 3.67456155e-01 4.38976898e-02 8.37846478e-01\n",
            "  9.35441512e-01 3.98221741e-01]\n",
            " [7.11863839e-01 6.24214924e-01 1.94500837e-01 6.88456420e-01\n",
            "  4.71275284e-01 2.35484952e-01 6.29062975e-01 1.48763437e-01\n",
            "  8.29929836e-01 6.49536500e-01]\n",
            " [2.24063789e-01 1.59783340e-01 2.64370046e-01 8.71908896e-01\n",
            "  5.25549927e-01 3.11079559e-01 7.09218130e-01 6.96024022e-01\n",
            "  1.60307986e-01 2.57781141e-01]\n",
            " [5.36748740e-01 7.12031061e-02 1.18916728e-01 8.31935237e-01\n",
            "  7.44146012e-01 7.57763671e-01 8.04994522e-01 7.10048826e-01\n",
            "  8.96479014e-01 8.11226669e-01]\n",
            " [1.94225818e-01 1.07646714e-01 3.52924850e-01 3.32376788e-01\n",
            "  9.25025703e-01 8.84346632e-01 8.83068857e-01 5.33533683e-01\n",
            "  1.63199830e-01 6.16798779e-01]\n",
            " [5.69059347e-01 8.25507634e-03 9.34966817e-01 9.19971359e-01\n",
            "  5.05402411e-01 4.50642541e-01 5.10944462e-01 5.64080840e-01\n",
            "  6.92081710e-01 8.83878898e-01]\n",
            " [2.90296406e-01 5.38155739e-01 4.21355371e-01 1.88261222e-02\n",
            "  6.18376972e-01 2.36442725e-01 1.52558552e-01 6.99132663e-01\n",
            "  9.80286972e-01 4.35664577e-01]\n",
            " [8.98679746e-01 4.78335308e-02 6.45690147e-01 1.70258058e-01\n",
            "  8.94914386e-01 6.34541579e-02 6.40986544e-01 2.38431754e-01\n",
            "  6.31553400e-01 9.53997033e-01]\n",
            " [4.18763764e-02 3.71820661e-01 9.95993032e-01 4.83578959e-01\n",
            "  3.98607895e-01 2.09361137e-01 6.35160569e-01 5.10062333e-02\n",
            "  2.26105695e-01 1.20877631e-01]\n",
            " [1.14609692e-01 4.79024278e-01 4.52847437e-01 6.01223185e-01\n",
            "  7.88480789e-01 6.46598363e-01 3.86904364e-01 6.35704694e-01\n",
            "  8.70780618e-02 7.78471720e-01]\n",
            " [4.36683735e-01 4.38128036e-01 5.27131601e-01 3.04628696e-01\n",
            "  9.07548356e-01 5.07227125e-03 8.51731718e-01 2.81532427e-01\n",
            "  6.37779650e-01 4.06299971e-01]\n",
            " [5.94850986e-01 1.46628277e-01 3.38195627e-01 6.58580891e-01\n",
            "  1.42814945e-01 6.36759568e-01 1.77761199e-01 8.29703679e-01\n",
            "  4.05525637e-01 8.95176482e-01]\n",
            " [2.73705425e-01 1.58371422e-01 9.52319052e-01 2.22716711e-02\n",
            "  5.66275890e-01 8.61707253e-01 8.59939889e-01 1.17344148e-01\n",
            "  4.79402636e-01 3.85966839e-01]\n",
            " [9.36661098e-01 5.29727290e-01 6.82305462e-01 2.68567983e-01\n",
            "  9.21857004e-01 7.16183841e-01 2.10684339e-01 9.31912741e-01\n",
            "  7.51841023e-07 7.51691966e-01]\n",
            " [7.18711869e-01 3.43163147e-01 7.20101689e-01 6.66909469e-01\n",
            "  4.70098583e-01 5.32104323e-01 4.55179096e-01 8.62544903e-01\n",
            "  4.36674693e-01 2.77985418e-01]\n",
            " [3.52734387e-01 4.41913941e-01 1.77371164e-02 4.36533621e-01\n",
            "  4.81364095e-01 5.91727306e-01 9.99986712e-01 8.12371260e-01\n",
            "  7.98704188e-01 2.92495640e-01]\n",
            " [1.36354983e-01 5.70597421e-01 1.43559515e-01 7.41229122e-01\n",
            "  1.72048643e-01 7.09347626e-01 1.50001429e-01 2.23673692e-01\n",
            "  2.82205502e-01 9.24802987e-01]\n",
            " [7.84150053e-01 5.77136901e-01 9.17362691e-01 8.94946246e-01\n",
            "  8.57348368e-01 6.13537219e-01 1.43613967e-01 6.51616287e-01\n",
            "  6.88392931e-01 4.74185395e-01]\n",
            " [2.75394617e-01 3.03931073e-01 2.67243981e-01 9.78096861e-01\n",
            "  6.75765198e-02 3.73736478e-01 8.47219918e-01 8.16202180e-05\n",
            "  1.78803611e-01 6.53465007e-01]\n",
            " [6.08708542e-01 2.23429949e-01 3.32714492e-01 7.74258579e-01\n",
            "  8.02902153e-01 1.33650904e-01 9.13568882e-01 4.79841446e-01\n",
            "  8.95286499e-01 5.61387638e-01]\n",
            " [6.13095404e-01 9.42933628e-01 5.50565412e-01 7.67269416e-01\n",
            "  3.59292176e-01 3.26692427e-01 7.80568627e-01 6.55793901e-01\n",
            "  2.86626419e-01 3.74486624e-02]\n",
            " [4.39954770e-01 6.03606826e-01 5.84860304e-01 6.57293297e-01\n",
            "  7.63085439e-01 9.78147691e-01 4.97248814e-01 3.14029138e-01\n",
            "  6.85295437e-01 7.19206691e-01]\n",
            " [8.28039776e-01 2.67661281e-01 3.51622065e-01 6.02467534e-01\n",
            "  4.35434200e-01 2.97635031e-01 7.95985190e-01 3.30930170e-01\n",
            "  9.93752659e-01 9.95918977e-01]\n",
            " [9.15797935e-01 3.65713057e-01 2.10706212e-01 1.35432979e-01\n",
            "  9.04442588e-01 3.86406802e-01 1.73599495e-01 1.67085336e-01\n",
            "  4.13417140e-01 1.29790189e-01]\n",
            " [6.74355131e-01 1.23979666e-01 9.20104265e-01 5.94965588e-01\n",
            "  4.22753716e-01 2.56424064e-01 5.15714273e-01 5.22817130e-01\n",
            "  4.59155338e-01 2.58823923e-01]\n",
            " [9.64106730e-01 3.47660517e-01 2.79795372e-01 2.59888339e-02\n",
            "  8.39143721e-01 9.02754225e-01 6.58548846e-02 9.71534622e-02\n",
            "  8.02644849e-02 7.96502997e-01]\n",
            " [4.43232184e-01 5.24266543e-01 3.34941186e-01 1.00435390e-01\n",
            "  2.85606605e-01 4.03078677e-01 6.25089039e-01 6.55172087e-01\n",
            "  7.13894804e-01 4.35856153e-01]]\n",
            "[[[[0.63677272 0.64477763 0.3741208  ... 0.90009555 0.81908394\n",
            "    0.52945402]\n",
            "   [0.45855401 0.45973233 0.54125652 ... 0.89185999 0.75854064\n",
            "    0.91634807]\n",
            "   [0.57104335 0.64180079 0.83857691 ... 0.51881399 0.92342303\n",
            "    0.75695226]\n",
            "   ...\n",
            "   [0.67435513 0.94932515 0.92311825 ... 0.9305844  0.87280806\n",
            "    0.79267663]\n",
            "   [0.96410673 0.34766052 0.27979537 ... 0.90363858 0.44046337\n",
            "    0.81541772]\n",
            "   [0.44688341 0.74179399 0.93804615 ... 0.65517209 0.72676674\n",
            "    0.43585615]]\n",
            "\n",
            "  [[0.63677272 0.64477763 0.48210869 ... 0.58890876 0.81908394\n",
            "    0.49663756]\n",
            "   [0.9959843  0.82532326 0.54125652 ... 0.99269932 0.37706523\n",
            "    0.36882251]\n",
            "   [0.20624209 0.64180079 0.83857691 ... 0.37741481 0.92342303\n",
            "    0.86044368]\n",
            "   ...\n",
            "   [0.67435513 0.41948839 0.92010426 ... 0.52281713 0.99332142\n",
            "    0.25882392]\n",
            "   [0.96410673 0.6975459  0.3270845  ... 0.09907353 0.60920554\n",
            "    0.796503  ]\n",
            "   [0.56950824 0.52426654 0.33494119 ... 0.70687303 0.7138948\n",
            "    0.56743398]]\n",
            "\n",
            "  [[0.75317633 0.69426706 0.37359583 ... 0.640656   0.81908394\n",
            "    0.49663756]\n",
            "   [0.45855401 0.87939308 0.54125652 ... 0.89185999 0.40088463\n",
            "    0.30248503]\n",
            "   [0.40890799 0.64180079 0.83857691 ... 0.38308833 0.92342303\n",
            "    0.63162593]\n",
            "   ...\n",
            "   [0.9793262  0.86738934 0.92010426 ... 0.90451809 0.45915534\n",
            "    0.25882392]\n",
            "   [0.96410673 0.39825485 0.67062698 ... 0.55028957 0.08595937\n",
            "    0.796503  ]\n",
            "   [0.82473801 0.52426654 0.70188323 ... 0.65517209 0.7138948\n",
            "    0.62143821]]]\n",
            "\n",
            "\n",
            " [[[0.63677272 0.64477763 0.80626676 ... 0.58890876 0.89134279\n",
            "    0.49663756]\n",
            "   [0.65009476 0.17270365 0.95539436 ... 0.89185999 0.59725844\n",
            "    0.88270583]\n",
            "   [0.87295812 0.64180079 0.83857691 ... 0.84377081 0.92342303\n",
            "    0.30691762]\n",
            "   ...\n",
            "   [0.67435513 0.7588015  0.92010426 ... 0.52281713 0.54500671\n",
            "    0.65153101]\n",
            "   [0.96410673 0.36590554 0.84612901 ... 0.16633109 0.29606575\n",
            "    0.796503  ]\n",
            "   [0.53268767 0.52426654 0.83262043 ... 0.65517209 0.7138948\n",
            "    0.60836263]]\n",
            "\n",
            "  [[0.96786784 0.64477763 0.37359583 ... 0.58890876 0.81908394\n",
            "    0.57859684]\n",
            "   [0.45855401 0.66151591 0.67049724 ... 0.89185999 0.37706523\n",
            "    0.92105879]\n",
            "   [0.65886335 0.64180079 0.83857691 ... 0.58740203 0.92342303\n",
            "    0.59652404]\n",
            "   ...\n",
            "   [0.93686249 0.85595939 0.92010426 ... 0.52281713 0.46824136\n",
            "    0.55564328]\n",
            "   [0.96410673 0.34766052 0.64337371 ... 0.62123403 0.08026448\n",
            "    0.83298666]\n",
            "   [0.57429356 0.57606598 0.65472834 ... 0.97918658 0.7138948\n",
            "    0.43585615]]\n",
            "\n",
            "  [[0.64632273 0.64477763 0.37359583 ... 0.58890876 0.81908394\n",
            "    0.94869963]\n",
            "   [0.45855401 0.13510361 0.87157709 ... 0.89185999 0.83225743\n",
            "    0.93456868]\n",
            "   [0.31588285 0.917959   0.83857691 ... 0.37789553 0.92342303\n",
            "    0.71703251]\n",
            "   ...\n",
            "   [0.67435513 0.27344093 0.92010426 ... 0.52281713 0.45915534\n",
            "    0.93655415]\n",
            "   [0.96410673 0.34766052 0.27979537 ... 0.6640208  0.53926809\n",
            "    0.796503  ]\n",
            "   [0.59238876 0.52426654 0.80726112 ... 0.65517209 0.7138948\n",
            "    0.74715866]]]\n",
            "\n",
            "\n",
            " [[[0.63677272 0.92898846 0.63888562 ... 0.63811105 0.81908394\n",
            "    0.49663756]\n",
            "   [0.86129446 0.46831398 0.92732739 ... 0.89185999 0.44653104\n",
            "    0.70220686]\n",
            "   [0.90689243 0.64180079 0.83857691 ... 0.37741481 0.92342303\n",
            "    0.25012657]\n",
            "   ...\n",
            "   [0.67435513 0.12397967 0.92010426 ... 0.70908451 0.82651875\n",
            "    0.25882392]\n",
            "   [0.96410673 0.74738873 0.80474946 ... 0.76255971 0.08621803\n",
            "    0.796503  ]\n",
            "   [0.57501134 0.72081819 0.52668401 ... 0.95781504 0.87973199\n",
            "    0.43585615]]\n",
            "\n",
            "  [[0.63677272 0.90427207 0.37359583 ... 0.58890876 0.81908394\n",
            "    0.58081838]\n",
            "   [0.45855401 0.36016798 0.54125652 ... 0.89185999 0.82343161\n",
            "    0.21638872]\n",
            "   [0.53006416 0.64180079 0.83857691 ... 0.37741481 0.92342303\n",
            "    0.37589422]\n",
            "   ...\n",
            "   [0.67435513 0.30254037 0.92010426 ... 0.98030739 0.64638468\n",
            "    0.62250272]\n",
            "   [0.96410673 0.46188788 0.76707909 ... 0.43857269 0.81764396\n",
            "    0.796503  ]\n",
            "   [0.48923614 0.52426654 0.33494119 ... 0.99975013 0.7138948\n",
            "    0.71412802]]\n",
            "\n",
            "  [[0.96361566 0.64477763 0.42833989 ... 0.58890876 0.81908394\n",
            "    0.49663756]\n",
            "   [0.9210095  0.13510361 0.54125652 ... 0.89185999 0.45301305\n",
            "    0.94847939]\n",
            "   [0.46414411 0.64180079 0.83857691 ... 0.37741481 0.92342303\n",
            "    0.29237491]\n",
            "   ...\n",
            "   [0.67435513 0.42455296 0.92010426 ... 0.52281713 0.45915534\n",
            "    0.97741226]\n",
            "   [0.96410673 0.34766052 0.27979537 ... 0.97877371 0.84091092\n",
            "    0.796503  ]\n",
            "   [0.46523087 0.87715472 0.33494119 ... 0.65517209 0.7138948\n",
            "    0.47167992]]]\n",
            "\n",
            "\n",
            " ...\n",
            "\n",
            "\n",
            " [[[0.63677272 0.90370993 0.39684554 ... 0.58890876 0.81908394\n",
            "    0.49663756]\n",
            "   [0.65021199 0.9310651  0.54125652 ... 0.89185999 0.76996779\n",
            "    0.12459633]\n",
            "   [0.34980134 0.64180079 0.83857691 ... 0.37741481 0.92342303\n",
            "    0.2160596 ]\n",
            "   ...\n",
            "   [0.67435513 0.55668577 0.92010426 ... 0.84095418 0.45915534\n",
            "    0.87407432]\n",
            "   [0.96410673 0.34766052 0.27979537 ... 0.16199147 0.65690713\n",
            "    0.796503  ]\n",
            "   [0.66746796 0.52426654 0.76027564 ... 0.65517209 0.7138948\n",
            "    0.43585615]]\n",
            "\n",
            "  [[0.64529598 0.64477763 0.38696599 ... 0.7390157  0.81908394\n",
            "    0.55962502]\n",
            "   [0.5179302  0.91282664 0.54125652 ... 0.95813883 0.48155256\n",
            "    0.57157564]\n",
            "   [0.1644154  0.64180079 0.83857691 ... 0.75297381 0.92342303\n",
            "    0.22340427]\n",
            "   ...\n",
            "   [0.67435513 0.35269918 0.92010426 ... 0.79001708 0.94835915\n",
            "    0.82194076]\n",
            "   [0.96410673 0.92148466 0.76759338 ... 0.12874218 0.97572668\n",
            "    0.796503  ]\n",
            "   [0.5230507  0.97419045 0.33494119 ... 0.65517209 0.7138948\n",
            "    0.78866386]]\n",
            "\n",
            "  [[0.63677272 0.64477763 0.37359583 ... 0.58890876 0.81908394\n",
            "    0.64666681]\n",
            "   [0.45855401 0.43506882 0.99629737 ... 0.89185999 0.38390187\n",
            "    0.65590136]\n",
            "   [0.68288994 0.79305575 0.83857691 ... 0.4543199  0.92342303\n",
            "    0.17680082]\n",
            "   ...\n",
            "   [0.67435513 0.56802289 0.92010426 ... 0.52281713 0.45915534\n",
            "    0.25882392]\n",
            "   [0.96410673 0.34766052 0.50927813 ... 0.25997987 0.29220772\n",
            "    0.796503  ]\n",
            "   [0.61905876 0.93552168 0.51188505 ... 0.65517209 0.7138948\n",
            "    0.53223136]]]\n",
            "\n",
            "\n",
            " [[[0.63677272 0.64477763 0.37359583 ... 0.58890876 0.8903275\n",
            "    0.91572946]\n",
            "   [0.76776428 0.36053958 0.54125652 ... 0.89185999 0.37706523\n",
            "    0.4370839 ]\n",
            "   [0.48829245 0.64180079 0.83857691 ... 0.37741481 0.92342303\n",
            "    0.9633495 ]\n",
            "   ...\n",
            "   [0.81166896 0.60982401 0.92010426 ... 0.80687299 0.60311903\n",
            "    0.71328507]\n",
            "   [0.96410673 0.34766052 0.57050419 ... 0.43237583 0.60586015\n",
            "    0.97282415]\n",
            "   [0.44323218 0.52426654 0.33494119 ... 0.94027481 0.7587153\n",
            "    0.92742066]]\n",
            "\n",
            "  [[0.63677272 0.64477763 0.49845107 ... 0.70128575 0.81908394\n",
            "    0.6004911 ]\n",
            "   [0.98045182 0.84607283 0.54125652 ... 0.89185999 0.80437136\n",
            "    0.42105039]\n",
            "   [0.1644154  0.74863874 0.90206982 ... 0.60662892 0.92342303\n",
            "    0.13896586]\n",
            "   ...\n",
            "   [0.67435513 0.23547659 0.92010426 ... 0.52281713 0.45915534\n",
            "    0.33901544]\n",
            "   [0.96410673 0.87857303 0.95569811 ... 0.86039768 0.22508455\n",
            "    0.796503  ]\n",
            "   [0.7390747  0.52426654 0.60895055 ... 0.65517209 0.7138948\n",
            "    0.43585615]]\n",
            "\n",
            "  [[0.63677272 0.64477763 0.3794766  ... 0.58890876 0.81908394\n",
            "    0.63942046]\n",
            "   [0.95239207 0.37731503 0.59877941 ... 0.89185999 0.63979373\n",
            "    0.39727633]\n",
            "   [0.47086484 0.93452841 0.83857691 ... 0.58166892 0.92342303\n",
            "    0.21374662]\n",
            "   ...\n",
            "   [0.90104805 0.89904733 0.92010426 ... 0.52281713 0.45915534\n",
            "    0.25882392]\n",
            "   [0.96410673 0.50308572 0.54369842 ... 0.98504599 0.72417357\n",
            "    0.796503  ]\n",
            "   [0.44323218 0.52426654 0.70119027 ... 0.65517209 0.7138948\n",
            "    0.68111654]]]\n",
            "\n",
            "\n",
            " [[[0.89002812 0.64477763 0.37359583 ... 0.58890876 0.81908394\n",
            "    0.78920519]\n",
            "   [0.45855401 0.90984977 0.69856037 ... 0.89185999 0.37706523\n",
            "    0.76525975]\n",
            "   [0.1644154  0.64180079 0.83857691 ... 0.37741481 0.92342303\n",
            "    0.83762962]\n",
            "   ...\n",
            "   [0.67435513 0.68194007 0.92010426 ... 0.52722834 0.45915534\n",
            "    0.64284722]\n",
            "   [0.96410673 0.71125003 0.27979537 ... 0.09715346 0.08793316\n",
            "    0.796503  ]\n",
            "   [0.7423903  0.52426654 0.33494119 ... 0.65517209 0.7138948\n",
            "    0.45377205]]\n",
            "\n",
            "  [[0.63677272 0.68801427 0.53859397 ... 0.58890876 0.960167\n",
            "    0.49663756]\n",
            "   [0.45855401 0.41246623 0.54125652 ... 0.89185999 0.37706523\n",
            "    0.68972378]\n",
            "   [0.21627225 0.64180079 0.83857691 ... 0.37741481 0.92342303\n",
            "    0.13896586]\n",
            "   ...\n",
            "   [0.67435513 0.19479601 0.92010426 ... 0.92286039 0.63069868\n",
            "    0.42476027]\n",
            "   [0.96410673 0.97320635 0.27979537 ... 0.78111138 0.95639462\n",
            "    0.84917961]\n",
            "   [0.44323218 0.52426654 0.37645822 ... 0.7846539  0.7138948\n",
            "    0.43585615]]\n",
            "\n",
            "  [[0.63677272 0.67281895 0.37359583 ... 0.58890876 0.81908394\n",
            "    0.78848695]\n",
            "   [0.80267729 0.79429136 0.54339042 ... 0.89185999 0.81204479\n",
            "    0.53946969]\n",
            "   [0.27287502 0.64180079 0.83857691 ... 0.57676525 0.92342303\n",
            "    0.13896586]\n",
            "   ...\n",
            "   [0.67435513 0.88026795 0.92010426 ... 0.52443709 0.45915534\n",
            "    0.64737064]\n",
            "   [0.96410673 0.34766052 0.66980678 ... 0.6993168  0.26787659\n",
            "    0.85263755]\n",
            "   [0.86382012 0.9326989  0.63411852 ... 0.65517209 0.92458765\n",
            "    0.67592961]]]]\n"
          ]
        }
      ],
      "source": [
        "#원소별 maximum 연산 하기\n",
        "import numpy as np\n",
        "x = np.random.random((64, 3, 32, 10))\n",
        "y = np.random.random((32, 10))\n",
        "\n",
        "print(x)\n",
        "print(y)\n",
        "z = np.maximum(x, y) #출력 크기는 x와 동일 #(64, 3, 32, 10)\n",
        "print(z)"
      ]
    },
    {
      "cell_type": "markdown",
      "metadata": {
        "id": "gtaTHBhr1qI7"
      },
      "source": [
        "### 텐서 곱셈"
      ]
    },
    {
      "cell_type": "code",
      "execution_count": null,
      "metadata": {
        "execution": {
          "iopub.execute_input": "2022-05-21T00:57:23.570018Z",
          "iopub.status.busy": "2022-05-21T00:57:23.569765Z",
          "iopub.status.idle": "2022-05-21T00:57:23.574104Z",
          "shell.execute_reply": "2022-05-21T00:57:23.573257Z"
        },
        "id": "Bfm1DPx91qI7",
        "colab": {
          "base_uri": "https://localhost:8080/"
        },
        "outputId": "118ca7df-d57a-4c65-ec1c-1e99b8f776d5"
      },
      "outputs": [
        {
          "output_type": "stream",
          "name": "stdout",
          "text": [
            "[0.00133272 0.88185765 0.65213444]\n",
            "(3,)\n",
            "[0.00133272 0.88185765 0.65213444]\n",
            "(3,)\n",
            "[0.00133272 0.88185765 0.65213444]\n",
            "(3,)\n",
            "[0.79208739 0.74114528 0.29354999]\n",
            "(3,)\n",
            "[0.79208739 0.74114528 0.29354999]\n",
            "(3,)\n",
            "[0.79208739 0.74114528 0.29354999]\n",
            "(3,)\n",
            "[0.72753681 0.89206182 0.81370798]\n",
            "(3,)\n",
            "[0.72753681 0.89206182 0.81370798]\n",
            "(3,)\n",
            "[0.72753681 0.89206182 0.81370798]\n",
            "(3,)\n"
          ]
        }
      ],
      "source": [
        "x = np.random.random((32,))\n",
        "y = np.random.random((32,))\n",
        "z = np.dot(x, y) #그대로 요소끼리 곱해준다.\n",
        "\n",
        "x = np.random.random((3,3))\n",
        "y = np.random.random((3,3))\n",
        "z = naive_matrix_dot(x,y)"
      ]
    },
    {
      "cell_type": "code",
      "execution_count": null,
      "metadata": {
        "execution": {
          "iopub.execute_input": "2022-05-21T00:57:23.578149Z",
          "iopub.status.busy": "2022-05-21T00:57:23.577898Z",
          "iopub.status.idle": "2022-05-21T00:57:23.582594Z",
          "shell.execute_reply": "2022-05-21T00:57:23.581768Z"
        },
        "id": "0NHLG02B1qI7"
      },
      "outputs": [],
      "source": [
        "def naive_vector_dot(x, y):\n",
        "    assert len(x.shape) == 1\n",
        "    assert len(y.shape) == 1\n",
        "    assert x.shape[0] == y.shape[0]\n",
        "    z = 0.\n",
        "    for i in range(x.shape[0]): #0축에 대해서 루프돌면서\n",
        "        z += x[i] * y[i] #그대로 곱해주고 z의 요소에 할당\n",
        "    return z"
      ]
    },
    {
      "cell_type": "code",
      "execution_count": null,
      "metadata": {
        "execution": {
          "iopub.execute_input": "2022-05-21T00:57:23.586856Z",
          "iopub.status.busy": "2022-05-21T00:57:23.586576Z",
          "iopub.status.idle": "2022-05-21T00:57:23.592373Z",
          "shell.execute_reply": "2022-05-21T00:57:23.591083Z"
        },
        "id": "vv6ks6x61qI8"
      },
      "outputs": [],
      "source": [
        "def naive_matrix_vector_dot(x, y):\n",
        "    #텐서의 모양이 다른 경우\n",
        "    assert len(x.shape) == 2 #2D\n",
        "    assert len(y.shape) == 1 #1D\n",
        "    assert x.shape[1] == y.shape[0]\n",
        "    z = np.zeros(x.shape[0]) #행과 같은 크기의 0이 채워진 Z벡터 생성\n",
        "    for i in range(x.shape[0]): #행만큼\n",
        "        for j in range(x.shape[1]): #열만큼\n",
        "            z[i] += x[i, j] * y[j] #X행과 Y벡터 사이에서 곱셈 연산\n",
        "    return z #모양은 벡터의 크기만큼 반환됨(아래 사진 첨부 참조)"
      ]
    },
    {
      "cell_type": "markdown",
      "source": [
        "![KakaoTalk_20230923_114448787.jpg](data:image/jpeg;base64,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)"
      ],
      "metadata": {
        "id": "Ih5Am2WY8c-r"
      }
    },
    {
      "cell_type": "code",
      "execution_count": null,
      "metadata": {
        "execution": {
          "iopub.execute_input": "2022-05-21T00:57:23.595861Z",
          "iopub.status.busy": "2022-05-21T00:57:23.595594Z",
          "iopub.status.idle": "2022-05-21T00:57:23.599907Z",
          "shell.execute_reply": "2022-05-21T00:57:23.599230Z"
        },
        "id": "Y_AwR-rh1qI8"
      },
      "outputs": [],
      "source": [
        "def naive_matrix_vector_dot(x, y):\n",
        "#행렬-벡터 dot matrix는 교환 법칙이 성립하지 않는다\n",
        "    z = np.zeros(x.shape[0])\n",
        "    for i in range(x.shape[0]):\n",
        "        z[i] = naive_vector_dot(x[i, :], y)\n",
        "    return z"
      ]
    },
    {
      "cell_type": "code",
      "execution_count": null,
      "metadata": {
        "execution": {
          "iopub.execute_input": "2022-05-21T00:57:23.604217Z",
          "iopub.status.busy": "2022-05-21T00:57:23.603640Z",
          "iopub.status.idle": "2022-05-21T00:57:23.609035Z",
          "shell.execute_reply": "2022-05-21T00:57:23.608386Z"
        },
        "id": "_IJjhQB31qI8"
      },
      "outputs": [],
      "source": [
        "def naive_matrix_dot(x, y):\n",
        "  #행렬 간의 dot-matrix는 X행과 Y열이 같은 크기여야 연산 가능하다\n",
        "    assert len(x.shape) == 2\n",
        "    assert len(y.shape) == 2\n",
        "    assert x.shape[1] == y.shape[0]\n",
        "    z = np.zeros((x.shape[0], y.shape[1])) #0으로 값 초기화\n",
        "    for i in range(x.shape[0]): #행에 대해서\n",
        "        for j in range(y.shape[1]): #열에 대해서\n",
        "            #row와 column에 각 요소값들 저장\n",
        "            #루프가 rowxcolumn만큼 돈다.\n",
        "            row_x = x[i, :]\n",
        "            print(row_x)\n",
        "            column_y = y[:, j]\n",
        "            print(column_y.shape)\n",
        "            z[i, j] = naive_vector_dot(row_x, column_y)\n",
        "    return z"
      ]
    },
    {
      "cell_type": "markdown",
      "metadata": {
        "id": "kaVH1u8X1qI8"
      },
      "source": [
        "### 텐서 크기 변환"
      ]
    },
    {
      "cell_type": "code",
      "execution_count": null,
      "metadata": {
        "execution": {
          "iopub.execute_input": "2022-05-21T00:57:23.612816Z",
          "iopub.status.busy": "2022-05-21T00:57:23.612353Z",
          "iopub.status.idle": "2022-05-21T00:57:23.615796Z",
          "shell.execute_reply": "2022-05-21T00:57:23.615179Z"
        },
        "id": "Yc92w48C1qI8",
        "colab": {
          "base_uri": "https://localhost:8080/"
        },
        "outputId": "ec0663ef-214a-4c39-8635-91bc0b45cf1b"
      },
      "outputs": [
        {
          "output_type": "stream",
          "name": "stdout",
          "text": [
            "(60000, 784)\n"
          ]
        }
      ],
      "source": [
        "train_images = train_images.reshape((60000, 28 * 28)) #(60000, 28, 28) -> (60000, 784)로 변환이 가능\n",
        "#코드 추가\n",
        "print(train_images.shape) #(60000, 784)"
      ]
    },
    {
      "cell_type": "code",
      "execution_count": null,
      "metadata": {
        "execution": {
          "iopub.execute_input": "2022-05-21T00:57:23.620077Z",
          "iopub.status.busy": "2022-05-21T00:57:23.619555Z",
          "iopub.status.idle": "2022-05-21T00:57:23.625554Z",
          "shell.execute_reply": "2022-05-21T00:57:23.624598Z"
        },
        "id": "0hKBrXod1qI8",
        "outputId": "512d3ecd-d3f8-4df5-9937-51a394cefa68",
        "colab": {
          "base_uri": "https://localhost:8080/"
        }
      },
      "outputs": [
        {
          "output_type": "stream",
          "name": "stdout",
          "text": [
            "(3, 2)\n"
          ]
        }
      ],
      "source": [
        "import numpy as np\n",
        "\n",
        "x = np.array([[0., 1.], #3행 2열의 배열을 만듬\n",
        "             [2., 3.],\n",
        "             [4., 5.]])\n",
        "print(x.shape) #(3, 2)"
      ]
    },
    {
      "cell_type": "code",
      "execution_count": null,
      "metadata": {
        "execution": {
          "iopub.execute_input": "2022-05-21T00:57:23.629139Z",
          "iopub.status.busy": "2022-05-21T00:57:23.628859Z",
          "iopub.status.idle": "2022-05-21T00:57:23.634545Z",
          "shell.execute_reply": "2022-05-21T00:57:23.633514Z"
        },
        "id": "86-wf5je1qI8",
        "outputId": "3c6e9c75-1d4a-4176-d8bf-fcb26be50345",
        "colab": {
          "base_uri": "https://localhost:8080/"
        }
      },
      "outputs": [
        {
          "output_type": "execute_result",
          "data": {
            "text/plain": [
              "array([[0.],\n",
              "       [1.],\n",
              "       [2.],\n",
              "       [3.],\n",
              "       [4.],\n",
              "       [5.]])"
            ]
          },
          "metadata": {},
          "execution_count": 7
        }
      ],
      "source": [
        "x = x.reshape((6, 1)) #3x2 = 6x1로 변환\n",
        "x"
      ]
    },
    {
      "cell_type": "code",
      "source": [
        "x = x.reshape((2, 3)) #6x1 = 2x3으로 reshape 가능\n",
        "x"
      ],
      "metadata": {
        "id": "gtw2H4682AOF",
        "outputId": "b867fa1e-ce8a-464b-a37d-fddef3dcd698",
        "colab": {
          "base_uri": "https://localhost:8080/"
        }
      },
      "execution_count": null,
      "outputs": [
        {
          "output_type": "execute_result",
          "data": {
            "text/plain": [
              "array([[0., 1., 2.],\n",
              "       [3., 4., 5.]])"
            ]
          },
          "metadata": {},
          "execution_count": 9
        }
      ]
    },
    {
      "cell_type": "code",
      "execution_count": null,
      "metadata": {
        "execution": {
          "iopub.execute_input": "2022-05-21T00:57:23.639766Z",
          "iopub.status.busy": "2022-05-21T00:57:23.639078Z",
          "iopub.status.idle": "2022-05-21T00:57:23.644899Z",
          "shell.execute_reply": "2022-05-21T00:57:23.644035Z"
        },
        "id": "Dl9-o-GI1qI8",
        "outputId": "00c3f86c-25af-44d8-b917-86fd09144378",
        "colab": {
          "base_uri": "https://localhost:8080/"
        }
      },
      "outputs": [
        {
          "output_type": "stream",
          "name": "stdout",
          "text": [
            "(300, 20)\n"
          ]
        },
        {
          "output_type": "execute_result",
          "data": {
            "text/plain": [
              "(20, 300)"
            ]
          },
          "metadata": {},
          "execution_count": 10
        }
      ],
      "source": [
        "x = np.zeros((300, 20)) #300행 20열의 행렬을 만듦\n",
        "print(x.shape)\n",
        "x = np.transpose(x) #transpose -> 행렬의 열과 행의 위치를 바꿈\n",
        "x.shape #(20, 300)"
      ]
    },
    {
      "cell_type": "markdown",
      "metadata": {
        "id": "MniATBRC1qI9"
      },
      "source": [
        "### 텐서 연산의 기하학적 해석"
      ]
    },
    {
      "cell_type": "markdown",
      "source": [
        "텐서 연산을 조작하는 기법은 선형대수에서 배웠던 기하학적 공간에 있는 좌표 포인트로   \n",
        "옮겨서 해석할 수 있기 때문에 기하학적으로 해석이 가능하다.  \n",
        "예를 들어 2D 벡터를 단순 오른쪽 방향이나 왼쪽 방향으로 회전시키는 원리는  \n",
        "SIN, COS 함수를 이용해 구현할 수 있다. 텐서도 동일하게 적용됨."
      ],
      "metadata": {
        "id": "NnmgIJ6VibES"
      }
    },
    {
      "cell_type": "markdown",
      "metadata": {
        "id": "Vkfc22a01qI9"
      },
      "source": [
        "### 딥러닝의 기하학적 해석"
      ]
    },
    {
      "cell_type": "markdown",
      "source": [
        "딥러닝에서 신경망이 하는 일은 주로 2개 이상의 클래스를 깔끔하게 분류하는 작업을 한다.   \n",
        "손으로 종이 공을 조금씩 펼쳐서 값을 확인하는 것처럼 딥러닝의 신경망 연산을 이용하면 3D 공간에서 간단한 변환들을 이용해 구현한다.  \n",
        "즉, 복잡하고 분산되어 있는 기하학적 데이터들에 대해 분류가능한 깔끔한 경계를 찾고 분류하는 일 수행"
      ],
      "metadata": {
        "id": "_CiB3tkhjIv8"
      }
    },
    {
      "cell_type": "markdown",
      "source": [
        "## 여기까지 4주차 과제 제출"
      ],
      "metadata": {
        "id": "nHXWud2Lng4C"
      }
    },
    {
      "cell_type": "markdown",
      "metadata": {
        "id": "sAFQT9yo1qI9"
      },
      "source": [
        "## 신경망의 엔진: 그레이디언트 기반 최적화"
      ]
    },
    {
      "cell_type": "markdown",
      "source": [
        "초기에는 가중치 행렬이 작은 난수로 채워져 있다.(무작위 초기화 단계)  \n",
        "훈련은 다음과 같은 훈련 루프 안에서 발생한다.  \n",
        "1. 샘플 x와 이에 대응하는 y의 배치 추출  \n",
        "2. forwardpass를 진행하고 예측 y_pred을 도출  \n",
        "3. y_pred와 y_true 차이를 측정하여 손실 도출  \n",
        "4. 손실이 조금씩 감소되도록 모델의 모든 가중치 update  \n",
        "\n",
        "4번 단계에서 문제가 생긴다.  \n",
        "가중치 값이 개별적으로 여러개가 있을 때 값이 증가 or 감소 or 크기는 어떻게 결정??  \n",
        "교재에서 제시한 방법은 관심있는 하나의 가중치만 다른 값 적용, 나머지 가중치 요소들은 고정해보는 것  \n",
        "####하지만 이러한 접근 방식은 모든 가중치 행렬의 원소마다 forwardpass를 진행해야 하므로 매우 비효율적이다.  \n",
        "####더 나은 방법인 경사하강법이 존재한다.\n",
        "####<경사하강법 가정>\n",
        "#####모델에 사용하는 모든 입력을 매끄럽고 연속적인 2,3,4....n차 함수로 가정\n",
        "연속 함수에서 어떤 변수에 대해 미분 가능하다는 점을 이용하여 예측 가능한 방향으로 하강하는 것을 도와줌  \n",
        "특히, 그래디언트(미분값)을 이용하면 가중치를 다양한 방향으로 이동했을 때, 손실이 얼마나 변하는지를 알 수 있음."
      ],
      "metadata": {
        "id": "-aS4VVZE7iHa"
      }
    },
    {
      "cell_type": "markdown",
      "metadata": {
        "id": "Sa7y4mc-1qI9"
      },
      "source": [
        "### 도함수란?"
      ]
    },
    {
      "cell_type": "markdown",
      "source": [
        "![다운로드.jpg](data:image/jpeg;base64,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)"
      ],
      "metadata": {
        "id": "niE6_FuQ-4HN"
      }
    },
    {
      "cell_type": "markdown",
      "source": [
        "다음의 연속적인 함수를 가정해보자.  \n",
        "이 함수는 매끈하므로 x의 변화량이 충분히 작다고 가정할 때,  \n",
        "어떤 지점 p에서 기울기 a의 선형함수로 f라는 함수를 근사화 할 수 있다.  \n",
        "따라서 다음과 같은 수식이 만들어짐  \n",
        "f(x+epsilon_x) = y + a * epsilon_x  \n",
        "이 근사치는 epsilon_x가 p에 충분히 가까울 때 유효하다. 위 식에서 기울기를 f의 도함수라고 부른다.  \n",
        "####즉, a의 절댓값(도함수의 크기)는 이러한 증가나 감소가 얼마나 빠르게 일어나는지? 를 알려준다는 것이다.  \n",
        "\n",
        "\n",
        "---\n",
        "####모든 점에서 미분 가능하다는 것은 도함수를 유도할 수 있다는 의미.  \n",
        "함수를 미분할 수 있다는 것은 f(x)의 값을 최소화하는 x를 찾는 작업인 최적화(optimization)을 할 수 있다는 것을 의미..  \n",
        "즉, 내가 epsilon_x만큼 x를 업데이트 하고 싶을 때, x의 도함수를 알고 있다면,  \n",
        "x가 바뀜에 따라 f(X)가 어떻게 바뀔지 알 수 있.  \n",
        "\n"
      ],
      "metadata": {
        "id": "0il3yY-6-Ch4"
      }
    },
    {
      "cell_type": "markdown",
      "metadata": {
        "id": "DmdsFrvu1qI9"
      },
      "source": [
        "### 텐서 연산의 도함수: 그레이디언트"
      ]
    },
    {
      "cell_type": "markdown",
      "source": [
        "텐서 연산(또는 텐서 함수)의 도함수를 그래디언트(gradient)라고 부른다.  \n",
        "텐서 함수의 그래디언트는 함수가 설명하는 다차원 함수의 곡률(curvature)을 나타낸다.  \n",
        "grad(loss_value(함수이름), w0)가 나타내는 것은 무엇일까?  \n",
        "w0에서 함수f(w)의 그래디언트를 의미한다.\n",
        "w0 근처에서 w에 대한 loss_value 함수의 gradient   \n",
        "하나의 가중치를 가진 f(x)의 도함수는 곡선 f의 기울기이다.  \n",
        "####따라서 grad(loss_value,w0)는 w0에서 가장 가파르게 상승하는 방향과 그 방향의 기울기를 나타낸다고 볼 수 있다.  \n",
        "즉 loss_value가 바뀌는 방향과 크기를 나타냄.  \n",
        "편도함수는 f의 특정 방향 기울기를 나타냄."
      ],
      "metadata": {
        "id": "_3sQ7fjWBImo"
      }
    },
    {
      "cell_type": "markdown",
      "metadata": {
        "id": "HGJX4BYw1qI9"
      },
      "source": [
        "### 확률적 경사 하강법"
      ]
    },
    {
      "cell_type": "markdown",
      "source": [
        "어떤 미분가능한 함수가 주어지면 이 함수의 최솟값도 구할 수 있다.  \n",
        "함수의 최솟값은 도함수(기울기)값이 0인 값이라고 우리는 알고 있다.  \n",
        "grad(f(w),w) = 0을 만족하는 식을 풀면 해결이 된다.  \n",
        "이 식은 모델의 가중치 개수 n개의 변수로 이루어진 다항식이라고 볼 수 있다.  \n",
        "그러나 n=2 or n=3의 다항식을 푸는 것은 비교적 간단하지만 대부분의 딥러닝 모델의 파라미터의 개수가 수천개이상이다.  \n",
        "따라서 현재 손실 값을 토대로 하여 다음 손실값을 업데이트하는 점진적으로 경사하강법을 적용하여 손실이 0에 수렴하게 하는 w를 찾는 방법을 사용할 수 있다.  \n",
        "\n",
        "\n",
        "1.   샘플 x와 타겟 y_true를 추출한다\n",
        "2.   x 샘플로 모델에 입력하고 그 출력 y_pred를 구한다.\n",
        "3.   해당 배치에서 y_pred와 y_true의 오차를 계산하여 모델의 손실을 계산\n",
        "4.   모델 파라미터에 대하여 손실 함수의 gradient(도함수값)를 계산 => backward pass\n",
        "5.   그래디언트의 반대방향으로 파라미터를 조금씩 이동\n",
        "\n",
        "우리는 이것을 미니 배치 확률적 경사하강법이라고 부른다.\n",
        "확률적(stochastic)의 의미는 각 배치 데이터가 무작위로 선택된다는 의미  \n",
        "아래 사진은 모델 파라미터가 하나고 샘플(batch-size 1)이 한 개일 때,  \n",
        "점진적으로 파라미터의 값이 변하는 그래프 이다. (경사하강법)  \n",
        "\n",
        "\n"
      ],
      "metadata": {
        "id": "N4PqOpi3IHI1"
      }
    },
    {
      "cell_type": "markdown",
      "source": [
        "![다운로드 (1).png](data:image/png;base64,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)"
      ],
      "metadata": {
        "id": "K6YswCshIzEf"
      }
    },
    {
      "cell_type": "markdown",
      "source": [
        "손실함수를 더 구체적으로 이해하기 위해 파라미터가 2개인 2D 손실함수의 경사하강법을 시각해볼 수 있다.  \n",
        "하지만 신경망이 실제 훈련하는 과정을 파라미터가 백만개라면, 정확하게 공간 표현이 불가능하기 때문에 저차원 표현으로 얻은 인사이트가 항상 일치하지  \n",
        "않는다는 것을 유념해야 한다.  \n",
        "또한 업데이트 시 다음 가중치를 갱신할 때 현재 그래디언트 값뿐만 아니라  \n",
        "지금까지 업데이트된 가중치를 여러 가지 방식으로 고려하는 SGD 최적화 방법이 존재.  \n",
        "SGD, Adagrad, RMSprop 등이 있는데 이러한 것들을 모두 최적화 방법(Optimization method)라고 부른다.  \n",
        "특히 최적화 방법 중에서 모멘텀은 SGD의 문제점인 수렴 속도와 지역 최솟값을 모두 해결하는 기법이다.  \n"
      ],
      "metadata": {
        "id": "iLIZoK4A_BNY"
      }
    },
    {
      "cell_type": "markdown",
      "source": [
        "![다운로드 (1).jpg](data:image/jpeg;base64,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)"
      ],
      "metadata": {
        "id": "B17DifTg_w0c"
      }
    },
    {
      "cell_type": "markdown",
      "source": [
        "### **(추가) 지역 최솟값 문제**\n",
        "초기 파라미터 값의 위치를 어떻게 설정하느냐에 따라 경사하강 과정에서 기울기 == 0인 지점이 2개 이상일 경우, 지역 최솟값에 도달할 수 있다.  \n",
        "그 지점 근처에서는 왼쪽으로 또는 오른쪽으로 이동해도 손실값이 증가하므로 계산과정에서 충분히 착각 가능하다.  \n",
        "물리학적으로 모멘텀 계산방식을 이용하면 현재 기울기 값뿐만 아니라 이전 가속도를 통한 속도를 함께 고려하여 W를 업데이트하는 방식을 이용하기 때문에 이러한 문제를 피할 수 있다.   \n"
      ],
      "metadata": {
        "id": "NLpd3Er_BcAg"
      }
    },
    {
      "cell_type": "markdown",
      "source": [
        "![다운로드 (2).png](data:image/png;base64,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)"
      ],
      "metadata": {
        "id": "56dCWYefBost"
      }
    },
    {
      "cell_type": "markdown",
      "metadata": {
        "id": "vuwyaSaB1qI9"
      },
      "source": [
        "### 도함수 연결: 역전파 알고리즘"
      ]
    },
    {
      "cell_type": "markdown",
      "source": [
        "파라미터의 개수가 여러개인 복잡한 식의 그래디언트를 어떻게 계산할 수 있을까?  \n",
        "2개 이상의 층을 가진 모델의 경우 어떻게 그래디언트를 전파할 수 있을까?  \n",
        "역전파 알고리즘은 이것을 해결해준다.  "
      ],
      "metadata": {
        "id": "E8coS1obkLyl"
      }
    },
    {
      "cell_type": "markdown",
      "metadata": {
        "id": "dLFHRaA_1qI9"
      },
      "source": [
        "#### 연쇄 법칙"
      ]
    },
    {
      "cell_type": "markdown",
      "source": [
        "역전파는 도함수를 이용해서 기초적 연산을 조합하여 복잡한 연산의 그레디언트를 쉽게 계산할 수 있는 방법이다.   \n",
        "미적분의 연쇄 법칙을 이용하면 여러가지 층으로 연결된 함수의 도함수를 쉽게 구할 수 있다.    \n",
        "연쇄 법칙을 간단히 이야기하면 사슬처럼 f와 g의 도함수를 알고 있다면 fg의 도함수를 쉽게 지워지는 방식으로 구할 수 있다는 것이다.   (x1 = g(x), y = f(x1))일 때, grad(y,x) == grad(y, x1) * grad(x1, x) -> 연쇄 법칙"
      ],
      "metadata": {
        "id": "9AYAZUwzki8u"
      }
    },
    {
      "cell_type": "markdown",
      "metadata": {
        "id": "uFf4jwDb1qI9"
      },
      "source": [
        "#### 계산 그래프를 활용한 자동 미분"
      ]
    },
    {
      "cell_type": "markdown",
      "source": [
        "![다운로드 (4).png](data:image/png;base64,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)"
      ],
      "metadata": {
        "id": "RLoDrZ6jmzT2"
      }
    },
    {
      "cell_type": "markdown",
      "source": [
        "![img.png](data:image/png;base64,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)"
      ],
      "metadata": {
        "id": "YckF-sFDoJtV"
      }
    },
    {
      "cell_type": "markdown",
      "source": [
        "역전파를 계산 그래프 관점에서 생각해보자.  \n",
        "위 그래프는 입력 데이터 샘플 x가 주어졌을 때, feedforward과정을 거쳐 도출된 prediction값과 y_true값을 이용하여 loss값을 구하는 과정을 보기 쉽게 구조화한 것이다.  \n",
        "아래 사진은 dy/dx를 구하는 과정을 연쇄 법칙을 통해 알기 쉽게 나타낸 것이다.  \n",
        "사진과 같이 b, a, x에 대해 각각 미분하면 함수가 곱해진 형태이기 때문에 연쇄법칙에 따라 지워지고 dy/dx만 남게 되는 구조이다.  \n",
        "필자는 위 사진들을 통해 역전파 과정이 어떻게 이루어지는지 쉽게 알 수 있어 좋았다.  "
      ],
      "metadata": {
        "id": "urfnzLVOm2j5"
      }
    },
    {
      "cell_type": "markdown",
      "metadata": {
        "id": "1FH_nw__1qI9"
      },
      "source": [
        "#### 텐서플로의 그레이디언트 테이프"
      ]
    },
    {
      "cell_type": "markdown",
      "source": [
        "그레이디언트 테이프란 역전파 과정에서의 미분 과정을 자동으로 실행할 수 있는 일종의 API이다.  \n",
        "API는 파이썬의 해당 블록안의 모든 텐서 연산을 계산 그래프 형태로 기록한다음, 이러한 그래프 형태를 이용해서 변수에 대한 gradient를 계산할 수 있다.  \n"
      ],
      "metadata": {
        "id": "C3kOKYiyHDqy"
      }
    },
    {
      "cell_type": "code",
      "execution_count": 3,
      "metadata": {
        "execution": {
          "iopub.execute_input": "2022-05-21T00:57:23.649769Z",
          "iopub.status.busy": "2022-05-21T00:57:23.649237Z",
          "iopub.status.idle": "2022-05-21T00:57:23.656183Z",
          "shell.execute_reply": "2022-05-21T00:57:23.655436Z"
        },
        "id": "gTu3wWTB1qI9",
        "colab": {
          "base_uri": "https://localhost:8080/"
        },
        "outputId": "01453ade-029d-4c55-c2f6-daf6299007e6"
      },
      "outputs": [
        {
          "output_type": "stream",
          "name": "stdout",
          "text": [
            "tf.Tensor(2.0, shape=(), dtype=float32)\n"
          ]
        }
      ],
      "source": [
        "import tensorflow as tf\n",
        "x = tf.Variable(0.) #초기값 0으로 스칼라 변수를 설정\n",
        "with tf.GradientTape() as tape: #gradient tape 블록 시작점\n",
        "    y = 2 * x + 3 #블록 안에서 텐서 연산 진행\n",
        "grad_of_y_wrt_x = tape.gradient(y, x) #tape를 사용, x에 대한 출력 y의 gradient 계산\n",
        "#추가\n",
        "print(grad_of_y_wrt_x) #tf.Tensor(2.0, shape=(), dtype=float32) gradient 값 2 출력, 스칼라값이므로 shape X"
      ]
    },
    {
      "cell_type": "code",
      "execution_count": 4,
      "metadata": {
        "execution": {
          "iopub.execute_input": "2022-05-21T00:57:23.659954Z",
          "iopub.status.busy": "2022-05-21T00:57:23.659320Z",
          "iopub.status.idle": "2022-05-21T00:57:23.665978Z",
          "shell.execute_reply": "2022-05-21T00:57:23.665192Z"
        },
        "id": "wQyEYbZo1qI-",
        "colab": {
          "base_uri": "https://localhost:8080/"
        },
        "outputId": "d356d38c-e1a7-4e49-e407-c9fe4a33339a"
      },
      "outputs": [
        {
          "output_type": "stream",
          "name": "stdout",
          "text": [
            "tf.Tensor(\n",
            "[[2. 2.]\n",
            " [2. 2.]], shape=(2, 2), dtype=float32)\n"
          ]
        }
      ],
      "source": [
        "x = tf.Variable(tf.zeros((2, 2)))        #크기가 2 by 2인 초기값 0 변수 생성\n",
        "with tf.GradientTape() as tape:          #블록의 시작점\n",
        "    y = 2 * x + 3\n",
        "grad_of_y_wrt_x = tape.gradient(y, x)    #x에 대한 y출력값을 tape를 이용하여 도출\n",
        "print(grad_of_y_wrt_x)                   #(2, 2) 크기의 텐서로 y = 2*x+3의 곡률을 나타낸다."
      ]
    },
    {
      "cell_type": "code",
      "execution_count": 9,
      "metadata": {
        "execution": {
          "iopub.execute_input": "2022-05-21T00:57:23.669642Z",
          "iopub.status.busy": "2022-05-21T00:57:23.669139Z",
          "iopub.status.idle": "2022-05-21T00:57:23.677360Z",
          "shell.execute_reply": "2022-05-21T00:57:23.676599Z"
        },
        "id": "zbst9LJC1qI-",
        "colab": {
          "base_uri": "https://localhost:8080/"
        },
        "outputId": "b43602d6-1413-440d-8fe0-2ab5676e1767"
      },
      "outputs": [
        {
          "output_type": "stream",
          "name": "stdout",
          "text": [
            "[<tf.Tensor: shape=(2, 2), dtype=float32, numpy=\n",
            "array([[0.7141578 , 0.7141578 ],\n",
            "       [0.74324167, 0.74324167]], dtype=float32)>, <tf.Tensor: shape=(2,), dtype=float32, numpy=array([2., 2.], dtype=float32)>]\n"
          ]
        }
      ],
      "source": [
        "W = tf.Variable(tf.random.uniform((2, 2))) #2by2 크기의 랜덤 변수 생성\n",
        "b = tf.Variable(tf.zeros((2,)))            #0으로 초기화된 1 dimension 크기의 변수 선언\n",
        "\n",
        "x = tf.random.uniform((2, 2))              #2by2 랜덤 변수 생성\n",
        "with tf.GradientTape() as tape:            #tape 블록 시작\n",
        "    y = tf.matmul(x, W) + b                #행렬곱함수를 통해 y도출\n",
        "grad_of_y_wrt_W_and_b = tape.gradient(y, [W, b])   #리스트를 입력으로 넣어서 출력 도출\n",
        "print(grad_of_y_wrt_W_and_b) #w에 대한 그래디언트(2,2), b에 대한 그래디언트 값(2, ) 각각 출력"
      ]
    },
    {
      "cell_type": "markdown",
      "metadata": {
        "id": "ma33AlGI1qI-"
      },
      "source": [
        "## 첫 번째 예제 다시 살펴보기"
      ]
    },
    {
      "cell_type": "markdown",
      "source": [
        "모델, 층, 손실함수, 최적화 함수 사이의 관계를 도식화하면 다음과 같다.\n",
        "층이 서로 연결되어 모델의 한 부분을 구성하고 모델은 입력 데이터를 예측값으로 뱉어낸다.  \n",
        "우리의 목적은 모델이 예측한 값이 정답값과 얼마나 잘 맞는지를 측정하는 것이다.  \n",
        "optimizer는 손실 값을 이용하여 모델의 가중치를 갱신하는데 쓰인다. (경사하강법)"
      ],
      "metadata": {
        "id": "hSxu-VIEVozA"
      }
    },
    {
      "cell_type": "markdown",
      "source": [
        "![다운로드 (3).png](data:image/png;base64,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)"
      ],
      "metadata": {
        "id": "xIL3AEK2WAdS"
      }
    },
    {
      "cell_type": "code",
      "execution_count": 37,
      "metadata": {
        "execution": {
          "iopub.execute_input": "2022-05-21T00:57:23.681093Z",
          "iopub.status.busy": "2022-05-21T00:57:23.680602Z",
          "iopub.status.idle": "2022-05-21T00:57:24.079600Z",
          "shell.execute_reply": "2022-05-21T00:57:24.078307Z"
        },
        "id": "QwI0nrkj1qI-",
        "colab": {
          "base_uri": "https://localhost:8080/"
        },
        "outputId": "5fe3401b-663d-4dfa-8180-00863837eca8"
      },
      "outputs": [
        {
          "output_type": "stream",
          "name": "stdout",
          "text": [
            "(60000, 28, 28)\n"
          ]
        }
      ],
      "source": [
        "(train_images, train_labels), (test_images, test_labels) = mnist.load_data()\n",
        "print(train_images.shape)\n",
        "train_images = train_images.reshape((60000, 28*28))  #훈련 데이터 60000장\n",
        "train_images = train_images.astype(\"float32\") / 255\n",
        "test_images = test_images.reshape((10000, 28*28))    #테스트 데이터 10000장\n",
        "#reshape하는 이유 : 이미지는 2차원으로 되어 있는데 2차원 이미지를 1차원 벡터로 쭉 나열하기 위해서\n",
        "test_images = test_images.astype(\"float32\") / 255"
      ]
    },
    {
      "cell_type": "code",
      "execution_count": 34,
      "metadata": {
        "execution": {
          "iopub.execute_input": "2022-05-21T00:57:24.084071Z",
          "iopub.status.busy": "2022-05-21T00:57:24.083440Z",
          "iopub.status.idle": "2022-05-21T00:57:24.092511Z",
          "shell.execute_reply": "2022-05-21T00:57:24.091627Z"
        },
        "id": "lmY9b4qU1qI-"
      },
      "outputs": [],
      "source": [
        "model = keras.Sequential([\n",
        "    layers.Dense(512, activation=\"relu\"), #2개의 dense 층으로 구성, 512개 차원 mapping\n",
        "    layers.Dense(10, activation=\"softmax\") #출력은 10개 노드로 출력, 분류 모델이므로 softmax 함수 이용\n",
        "])"
      ]
    },
    {
      "cell_type": "code",
      "execution_count": 35,
      "metadata": {
        "execution": {
          "iopub.execute_input": "2022-05-21T00:57:24.096195Z",
          "iopub.status.busy": "2022-05-21T00:57:24.095736Z",
          "iopub.status.idle": "2022-05-21T00:57:24.104256Z",
          "shell.execute_reply": "2022-05-21T00:57:24.103588Z"
        },
        "id": "hfeRt6LZ1qI-"
      },
      "outputs": [],
      "source": [
        "model.compile(optimizer=\"rmsprop\", #경사하강법 방식은 rmsprop 최적화 방식에 의해 결정\n",
        "              loss=\"sparse_categorical_crossentropy\", #다중 분류 손실함수 적용\n",
        "              metrics=[\"accuracy\"])"
      ]
    },
    {
      "cell_type": "code",
      "execution_count": 36,
      "metadata": {
        "execution": {
          "iopub.execute_input": "2022-05-21T00:57:24.107793Z",
          "iopub.status.busy": "2022-05-21T00:57:24.107143Z",
          "iopub.status.idle": "2022-05-21T00:57:34.534710Z",
          "shell.execute_reply": "2022-05-21T00:57:34.533527Z"
        },
        "id": "K903L3_y1qI-",
        "outputId": "ba53863f-61ba-4df8-fa7c-0fee4182678d",
        "colab": {
          "base_uri": "https://localhost:8080/"
        }
      },
      "outputs": [
        {
          "output_type": "stream",
          "name": "stdout",
          "text": [
            "Epoch 1/5\n",
            "469/469 [==============================] - 3s 3ms/step - loss: 0.2618 - accuracy: 0.9251\n",
            "Epoch 2/5\n",
            "469/469 [==============================] - 1s 3ms/step - loss: 0.1063 - accuracy: 0.9683\n",
            "Epoch 3/5\n",
            "469/469 [==============================] - 1s 3ms/step - loss: 0.0694 - accuracy: 0.9791\n",
            "Epoch 4/5\n",
            "469/469 [==============================] - 2s 4ms/step - loss: 0.0510 - accuracy: 0.9847\n",
            "Epoch 5/5\n",
            "469/469 [==============================] - 1s 3ms/step - loss: 0.0384 - accuracy: 0.9885\n"
          ]
        },
        {
          "output_type": "execute_result",
          "data": {
            "text/plain": [
              "<keras.src.callbacks.History at 0x7be1c34bb7f0>"
            ]
          },
          "metadata": {},
          "execution_count": 36
        }
      ],
      "source": [
        "model.fit(train_images, train_labels, epochs=5, batch_size=128) #총 feedforward 횟수 : 60000/128x5번 128개씩 묶음."
      ]
    },
    {
      "cell_type": "markdown",
      "metadata": {
        "id": "XAmtOQyq1qI-"
      },
      "source": [
        "### 텐서플로를 사용해 첫 번째 예제를 밑바닥부터 다시 구현하기"
      ]
    },
    {
      "cell_type": "markdown",
      "metadata": {
        "id": "RsBD9EST1qI_"
      },
      "source": [
        "#### 단순한 Dense 클래스"
      ]
    },
    {
      "cell_type": "code",
      "execution_count": 38,
      "metadata": {
        "execution": {
          "iopub.execute_input": "2022-05-21T00:57:34.539073Z",
          "iopub.status.busy": "2022-05-21T00:57:34.538100Z",
          "iopub.status.idle": "2022-05-21T00:57:34.544603Z",
          "shell.execute_reply": "2022-05-21T00:57:34.543941Z"
        },
        "id": "2T0kW_M81qI_"
      },
      "outputs": [],
      "source": [
        "import tensorflow as tf\n",
        "\n",
        "class NaiveDense:\n",
        "    def __init__(self, input_size, output_size, activation): #생성자 파트\n",
        "    #입력 차원, 출력 차원, 활성화 함수 등을 정의\n",
        "        self.activation = activation\n",
        "\n",
        "        w_shape = (input_size, output_size) #랜덤한 값으로 초기화된 (in, out) 크기의 행렬 생성\n",
        "        w_initial_value = tf.random.uniform(w_shape, minval=0, maxval=1e-1)\n",
        "        self.W = tf.Variable(w_initial_value)\n",
        "\n",
        "        b_shape = (output_size,) #bias 편향\n",
        "        b_initial_value = tf.zeros(b_shape) #0으로 초기화된 (output,)크기의 벡터 생성\n",
        "        self.b = tf.Variable(b_initial_value)\n",
        "\n",
        "    def __call__(self, inputs): #여기서 텐서 연산 feedforward 진행\n",
        "        return self.activation(tf.matmul(inputs, self.W) + self.b)\n",
        "\n",
        "    @property\n",
        "    def weights(self): #층마다 가중치 뽑아내는 메서드\n",
        "        return [self.W, self.b]"
      ]
    },
    {
      "cell_type": "markdown",
      "metadata": {
        "id": "qVHHdEOF1qI_"
      },
      "source": [
        "#### 단순한 Sequential 클래스"
      ]
    },
    {
      "cell_type": "code",
      "execution_count": 39,
      "metadata": {
        "execution": {
          "iopub.execute_input": "2022-05-21T00:57:34.549011Z",
          "iopub.status.busy": "2022-05-21T00:57:34.548061Z",
          "iopub.status.idle": "2022-05-21T00:57:34.553613Z",
          "shell.execute_reply": "2022-05-21T00:57:34.552900Z"
        },
        "id": "lQ8O3Mti1qI_"
      },
      "outputs": [],
      "source": [
        "class NaiveSequential:\n",
        "#각 모델의 층을 연결하는 클래스 정의\n",
        "    def __init__(self, layers): #층의 개수 입력받\n",
        "        self.layers = layers\n",
        "\n",
        "    def __call__(self, inputs): #매직 매소드-> 층을 순서대로 호출\n",
        "        x = inputs\n",
        "        for layer in self.layers:\n",
        "           x = layer(x)\n",
        "        return x\n",
        "\n",
        "    @property #각 층의 파라미터들을 추출\n",
        "    def weights(self):\n",
        "       weights = []\n",
        "       for layer in self.layers:\n",
        "           weights += layer.weights #각 층마다의 파라미터 더함\n",
        "       return weights"
      ]
    },
    {
      "cell_type": "code",
      "execution_count": 40,
      "metadata": {
        "execution": {
          "iopub.execute_input": "2022-05-21T00:57:34.557429Z",
          "iopub.status.busy": "2022-05-21T00:57:34.556712Z",
          "iopub.status.idle": "2022-05-21T00:57:34.565352Z",
          "shell.execute_reply": "2022-05-21T00:57:34.564638Z"
        },
        "id": "L40rhe-A1qI_"
      },
      "outputs": [],
      "source": [
        "model = NaiveSequential([ #위 2개의 클래스를 활용하여 케라스 모델 직접 생성 가능\n",
        "    NaiveDense(input_size=28 * 28, output_size=512, activation=tf.nn.relu),\n",
        "    NaiveDense(input_size=512, output_size=10, activation=tf.nn.softmax)\n",
        "])\n",
        "assert len(model.weights) == 4"
      ]
    },
    {
      "cell_type": "markdown",
      "metadata": {
        "id": "gYioh4jn1qI_"
      },
      "source": [
        "#### 배치 제너레이터"
      ]
    },
    {
      "cell_type": "code",
      "execution_count": 41,
      "metadata": {
        "execution": {
          "iopub.execute_input": "2022-05-21T00:57:34.569718Z",
          "iopub.status.busy": "2022-05-21T00:57:34.568911Z",
          "iopub.status.idle": "2022-05-21T00:57:34.575841Z",
          "shell.execute_reply": "2022-05-21T00:57:34.575023Z"
        },
        "id": "bRwX8xXS1qI_"
      },
      "outputs": [],
      "source": [
        "import math\n",
        "\n",
        "#미니 배치만큼 값을 뽑아내는 클래스 정의부\n",
        "class BatchGenerator:\n",
        "    def __init__(self, images, labels, batch_size=128): #생성자 파트\n",
        "        #배치사이즈, 인덱스, 레이블, 배치의 개수 등을 정의\n",
        "        assert len(images) == len(labels)\n",
        "        self.index = 0\n",
        "        self.images = images\n",
        "        self.labels = labels\n",
        "        self.batch_size = batch_size\n",
        "        self.num_batches = math.ceil(len(images) / batch_size)\n",
        "\n",
        "    def next(self):\n",
        "        #다음 배치들을 불러오는 메소드\n",
        "        images = self.images[self.index : self.index + self.batch_size]\n",
        "        #배치 사이즈만큼 이미지 인덱스를 인덱싱해주세요\n",
        "        labels = self.labels[self.index : self.index + self.batch_size]\n",
        "        #라벨도 마찬가지의 방법 적용\n",
        "        self.index += self.batch_size #128개씩 인덱스에 더함으로써 어디까지 진행했는지 파악\n",
        "        return images, labels"
      ]
    },
    {
      "cell_type": "markdown",
      "metadata": {
        "id": "UZ89mMQQ1qI_"
      },
      "source": [
        "### 훈련 스텝 실행하기"
      ]
    },
    {
      "cell_type": "code",
      "execution_count": 42,
      "metadata": {
        "execution": {
          "iopub.execute_input": "2022-05-21T00:57:34.579548Z",
          "iopub.status.busy": "2022-05-21T00:57:34.579204Z",
          "iopub.status.idle": "2022-05-21T00:57:34.584549Z",
          "shell.execute_reply": "2022-05-21T00:57:34.583770Z"
        },
        "id": "ts_uBtwz1qJA"
      },
      "outputs": [],
      "source": [
        "def one_training_step(model, images_batch, labels_batch):\n",
        "#훈련 스텝 메소드 : 배치 데이터에서 모델을 실행하고 가중치를 업뎃하는 작업\n",
        "    with tf.GradientTape() as tape: #그래디언트 테잎 활용\n",
        "        predictions = model(images_batch) #모델의 예측 계산\n",
        "        per_sample_losses = tf.keras.losses.sparse_categorical_crossentropy(\n",
        "            labels_batch, predictions)\n",
        "        average_loss = tf.reduce_mean(per_sample_losses) #샘플들의 손실을 평균하여 assign\n",
        "    gradients = tape.gradient(average_loss, model.weights) #현재 손실, w값이용하여 그래디언트 값 계산\n",
        "    update_weights(gradients, model.weights) #그래디언트를 이용하여 weight값 업뎃\n",
        "    return average_loss #차이 리턴"
      ]
    },
    {
      "cell_type": "code",
      "execution_count": 43,
      "metadata": {
        "execution": {
          "iopub.execute_input": "2022-05-21T00:57:34.587934Z",
          "iopub.status.busy": "2022-05-21T00:57:34.587645Z",
          "iopub.status.idle": "2022-05-21T00:57:34.591908Z",
          "shell.execute_reply": "2022-05-21T00:57:34.591071Z"
        },
        "id": "jaZr2QHV1qJA"
      },
      "outputs": [],
      "source": [
        "learning_rate = 1e-3 #사용자가 정해주는 파라미터 : 학습률\n",
        "\n",
        "def update_weights(gradients, weights): #gradient가지고 가중치 업뎃하는 메소드\n",
        "    for g, w in zip(gradients, weights): #zip으로 묶어서 하나씩 풀어주세요.\n",
        "        w.assign_sub(g * learning_rate) # w = w - g*learning_rate와 동일한 수식"
      ]
    },
    {
      "cell_type": "code",
      "execution_count": 46,
      "metadata": {
        "execution": {
          "iopub.execute_input": "2022-05-21T00:57:34.595476Z",
          "iopub.status.busy": "2022-05-21T00:57:34.595223Z",
          "iopub.status.idle": "2022-05-21T00:57:34.600016Z",
          "shell.execute_reply": "2022-05-21T00:57:34.599071Z"
        },
        "id": "Nn_jpOBZ1qJA"
      },
      "outputs": [],
      "source": [
        "from tensorflow.keras import optimizers\n",
        "\n",
        "optimizer = optimizers.SGD(learning_rate=1e-3)\n",
        "\n",
        "def update_weights(gradients, weights): #실제로는 다음과 같은 케라스내부의 optimizer 인스턴스의 apply_gradients 함수를 적용한다.\n",
        "    optimizer.apply_gradients(zip(gradients, weights))"
      ]
    },
    {
      "cell_type": "markdown",
      "metadata": {
        "id": "yQFTzrXG1qJA"
      },
      "source": [
        "### 전체 훈련 루프"
      ]
    },
    {
      "cell_type": "code",
      "execution_count": 48,
      "metadata": {
        "execution": {
          "iopub.execute_input": "2022-05-21T00:57:34.603512Z",
          "iopub.status.busy": "2022-05-21T00:57:34.603225Z",
          "iopub.status.idle": "2022-05-21T00:57:34.608868Z",
          "shell.execute_reply": "2022-05-21T00:57:34.607981Z"
        },
        "id": "LeD5r6c51qJA"
      },
      "outputs": [],
      "source": [
        "def fit(model, images, labels, epochs, batch_size=128): #fit 함수 -> 실제 훈련 스텝을 하나씩 반복하는 함수\n",
        "    for epoch_counter in range(epochs):\n",
        "        print(f\"에포크 {epoch_counter}\")\n",
        "        batch_generator = BatchGenerator(images, labels) #메소드 호출\n",
        "        for batch_counter in range(batch_generator.num_batches):\n",
        "            images_batch, labels_batch = batch_generator.next() #배치 데이터 값들 추출\n",
        "            loss = one_training_step(model, images_batch, labels_batch) #메소드 추출하여 loss값 리턴\n",
        "            if batch_counter % 100 == 0:\n",
        "                print(f\"{batch_counter}번째 배치 손실: {loss:.2f}\") #n*100번째 batch 마다 loss 출력"
      ]
    },
    {
      "cell_type": "code",
      "execution_count": 55,
      "metadata": {
        "execution": {
          "iopub.execute_input": "2022-05-21T00:57:34.612683Z",
          "iopub.status.busy": "2022-05-21T00:57:34.612226Z",
          "iopub.status.idle": "2022-05-21T00:58:10.090355Z",
          "shell.execute_reply": "2022-05-21T00:58:10.089432Z"
        },
        "id": "fLGhrHuT1qJA",
        "outputId": "2c8c633d-bfcf-4678-d0b9-1810c00ece9d",
        "colab": {
          "base_uri": "https://localhost:8080/"
        }
      },
      "outputs": [
        {
          "output_type": "stream",
          "name": "stdout",
          "text": [
            "에포크 0\n",
            "0번째 배치 손실: 0.64\n",
            "100번째 배치 손실: 0.66\n",
            "200번째 배치 손실: 0.56\n",
            "300번째 배치 손실: 0.63\n",
            "400번째 배치 손실: 0.71\n",
            "에포크 1\n",
            "0번째 배치 손실: 0.60\n",
            "100번째 배치 손실: 0.62\n",
            "200번째 배치 손실: 0.52\n",
            "300번째 배치 손실: 0.60\n",
            "400번째 배치 손실: 0.68\n",
            "에포크 2\n",
            "0번째 배치 손실: 0.57\n",
            "100번째 배치 손실: 0.59\n",
            "200번째 배치 손실: 0.50\n",
            "300번째 배치 손실: 0.57\n",
            "400번째 배치 손실: 0.66\n",
            "에포크 3\n",
            "0번째 배치 손실: 0.55\n",
            "100번째 배치 손실: 0.56\n",
            "200번째 배치 손실: 0.47\n",
            "300번째 배치 손실: 0.55\n",
            "400번째 배치 손실: 0.64\n",
            "에포크 4\n",
            "0번째 배치 손실: 0.53\n",
            "100번째 배치 손실: 0.54\n",
            "200번째 배치 손실: 0.45\n",
            "300번째 배치 손실: 0.53\n",
            "400번째 배치 손실: 0.62\n",
            "에포크 5\n",
            "0번째 배치 손실: 0.51\n",
            "100번째 배치 손실: 0.52\n",
            "200번째 배치 손실: 0.44\n",
            "300번째 배치 손실: 0.51\n",
            "400번째 배치 손실: 0.61\n",
            "에포크 6\n",
            "0번째 배치 손실: 0.50\n",
            "100번째 배치 손실: 0.50\n",
            "200번째 배치 손실: 0.42\n",
            "300번째 배치 손실: 0.50\n",
            "400번째 배치 손실: 0.60\n",
            "에포크 7\n",
            "0번째 배치 손실: 0.48\n",
            "100번째 배치 손실: 0.48\n",
            "200번째 배치 손실: 0.41\n",
            "300번째 배치 손실: 0.48\n",
            "400번째 배치 손실: 0.58\n",
            "에포크 8\n",
            "0번째 배치 손실: 0.47\n",
            "100번째 배치 손실: 0.47\n",
            "200번째 배치 손실: 0.39\n",
            "300번째 배치 손실: 0.47\n",
            "400번째 배치 손실: 0.57\n",
            "에포크 9\n",
            "0번째 배치 손실: 0.46\n",
            "100번째 배치 손실: 0.45\n",
            "200번째 배치 손실: 0.38\n",
            "300번째 배치 손실: 0.46\n",
            "400번째 배치 손실: 0.57\n"
          ]
        }
      ],
      "source": [
        "from tensorflow.keras.datasets import mnist\n",
        "(train_images, train_labels), (test_images, test_labels) = mnist.load_data()\n",
        "\n",
        "train_images = train_images.reshape((60000, 28 * 28))\n",
        "train_images = train_images.astype(\"float32\") / 255\n",
        "test_images = test_images.reshape((10000, 28 * 28))\n",
        "test_images = test_images.astype(\"float32\") / 255\n",
        "\n",
        "fit(model, train_images, train_labels, epochs=10, batch_size=128) #fit 함수 호출하여 실제 훈련 진행"
      ]
    },
    {
      "cell_type": "markdown",
      "metadata": {
        "id": "h5TNNZ_E1qJA"
      },
      "source": [
        "### 모델 평가하기"
      ]
    },
    {
      "cell_type": "code",
      "execution_count": 60,
      "metadata": {
        "execution": {
          "iopub.execute_input": "2022-05-21T00:58:10.094649Z",
          "iopub.status.busy": "2022-05-21T00:58:10.094318Z",
          "iopub.status.idle": "2022-05-21T00:58:10.165292Z",
          "shell.execute_reply": "2022-05-21T00:58:10.164371Z"
        },
        "id": "S4XG6fSU1qJA",
        "outputId": "9d623cfb-3266-4497-f8ec-423f36117b0b",
        "colab": {
          "base_uri": "https://localhost:8080/"
        }
      },
      "outputs": [
        {
          "output_type": "stream",
          "name": "stdout",
          "text": [
            "(10000, 10)\n",
            "[7 2 1 ... 4 5 6]\n",
            "(10000,)\n",
            "[ True  True  True ...  True  True  True]\n",
            "정확도: 0.86\n"
          ]
        }
      ],
      "source": [
        "predictions = model(test_images) #테스트 셋 이용하여 모델에 넣기(여기서는 학습 안함!!!), 학습된 모델에 단순 집어넣는거\n",
        "predictions = predictions.numpy() #numpy로 만들어서 할당\n",
        "print(predictions.shape) #(10000, 10)\n",
        "predicted_labels = np.argmax(predictions, axis=1) #1 dimension을 기준으로 해서 가장 큰 값의 인덱스를 뽑아줌\n",
        "print(predicted_labels) #[7 2 1 ... 4 5 6]\n",
        "print(predicted_labels.shape) #(10000,) -> 가장 큰 값의 인덱스 10000개를 1d 배열로 가지고 있음.\n",
        "matches = predicted_labels == test_labels #각각의 정답과 비교하여 matches라는 리스트에 1 또는 0 (true or false) 값 저장\n",
        "print(matches)\n",
        "print(f\"정확도: {matches.mean():.2f}\") #정확도: 0.86"
      ]
    },
    {
      "cell_type": "markdown",
      "metadata": {
        "id": "DSlIQZ5f1qJB"
      },
      "source": [
        "## 요약"
      ]
    },
    {
      "cell_type": "markdown",
      "source": [
        "*   텐서는 머신 러닝 및 딥러닝 시스템의 기초 자료구조 중 하나이다.  \n",
        "*   텐서는 dtype, ndim, shape 속성 등을 제공한다.\n",
        "*   텐서 연산(reshape, matmul, 덧셈, broadcast) 등을 통해 텐서의 모양을 파악하고 자유롭게 조작가능함.  \n",
        "*   학습이란, 훈련 데이터 샘플과 그에 대응하는 정답(지도학습 경우)이 주어졌을 때, 손실함수를 가장 최소화 하는 파라미터를 찾아가는 과정이라고 볼 수 있다.  \n",
        "*   데이터 샘플에 대해 일일이 loss값 계산 및 backward연산을 진행하면 한번 도는데 시간은 짧게 걸리지만 전체적으로 봤을 때, 지그재그 형식으로 움직이기 때문에 전체 훈련 시간이 오래 걸릴 수 있다. 또. 모든 데이터의 그래디언트 계산 및 가중치를 한꺼번에 업뎃하는 방식은 한 번 iteration 하는데 걸리는 시간이 오래 걸린다. 따라서 미니 배치 사이즈로 나누어서 feedforward, backward를 진행한다. 이를 **미니 배치 경사 하강법**이라고 한다.\n",
        "*   학습 과정은 신경망의 텐서 그래프 및 연산들이 미분가능하기 때문에 가능한 일이다. 따라서 현재 파라미터와 배치를 그래디언트 값에 mapping 시켜주기 위해 연쇄 법칙을 이용한다. (지워지고 지워지는 방식). 이를 역전파라고 한다.\n"
      ],
      "metadata": {
        "id": "wG8acAVEh1Vz"
      }
    }
  ],
  "metadata": {
    "colab": {
      "provenance": [],
      "toc_visible": true
    },
    "kernelspec": {
      "display_name": "default:Python",
      "language": "python",
      "name": "conda-env-default-py"
    },
    "language_info": {
      "codemirror_mode": {
        "name": "ipython",
        "version": 3
      },
      "file_extension": ".py",
      "mimetype": "text/x-python",
      "name": "python",
      "nbconvert_exporter": "python",
      "pygments_lexer": "ipython3",
      "version": "3.9.10"
    },
    "accelerator": "GPU",
    "gpuClass": "standard"
  },
  "nbformat": 4,
  "nbformat_minor": 0
}