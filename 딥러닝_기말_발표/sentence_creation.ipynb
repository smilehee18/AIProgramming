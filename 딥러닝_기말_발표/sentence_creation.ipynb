{
  "nbformat": 4,
  "nbformat_minor": 0,
  "metadata": {
    "colab": {
      "provenance": [],
      "gpuType": "T4"
    },
    "kernelspec": {
      "name": "python3",
      "display_name": "Python 3"
    },
    "language_info": {
      "name": "python"
    },
    "accelerator": "GPU"
  },
  "cells": [
    {
      "cell_type": "markdown",
      "source": [
        "추가 내용) 기존에 validation set이 없었던것을 추가함.   \n",
        "validation loss가 증가하는 구간 체크, 드롭아웃, LSTM 노드수 설정하여 재학습  \n",
        "**테스트 시에 런타임 유형을 \"GPU\"로 설정하는 것을 권장합니다.**"
      ],
      "metadata": {
        "id": "xpiJLrfMcV_A"
      }
    },
    {
      "cell_type": "code",
      "execution_count": null,
      "metadata": {
        "id": "nuOmFQv1TA6Q"
      },
      "outputs": [],
      "source": [
        "# 기본 라이브러리\n",
        "import pandas as pd\n",
        "import numpy as np\n",
        "import tensorflow as tf\n",
        "import matplotlib.pyplot as plt"
      ]
    },
    {
      "cell_type": "code",
      "source": [
        "# 네이버 영화리뷰 데이터셋 불러오기\n",
        "file = tf.keras.utils.get_file(\n",
        "    'ratings_train.txt',\n",
        "    origin='https://raw.githubusercontent.com/e9t/nsmc/master/ratings_train.txt',\n",
        "    extract=True)\n",
        "\n",
        "df = pd.read_csv(file, sep='\\t')"
      ],
      "metadata": {
        "colab": {
          "base_uri": "https://localhost:8080/"
        },
        "id": "H-VwSiUyTINT",
        "outputId": "c59bbe30-a688-410c-e570-364bec813095"
      },
      "execution_count": null,
      "outputs": [
        {
          "output_type": "stream",
          "name": "stdout",
          "text": [
            "Downloading data from https://raw.githubusercontent.com/e9t/nsmc/master/ratings_train.txt\n",
            "14628807/14628807 [==============================] - 0s 0us/step\n"
          ]
        }
      ]
    },
    {
      "cell_type": "code",
      "source": [
        "len(df)"
      ],
      "metadata": {
        "colab": {
          "base_uri": "https://localhost:8080/"
        },
        "id": "6VPZgT_Ac5N0",
        "outputId": "a30e2fae-00e3-44cc-e847-a1287b9864ac"
      },
      "execution_count": null,
      "outputs": [
        {
          "output_type": "execute_result",
          "data": {
            "text/plain": [
              "150000"
            ]
          },
          "metadata": {},
          "execution_count": 4
        }
      ]
    },
    {
      "cell_type": "code",
      "source": [
        "# 데이터 임의샘플 확인\n",
        "df[1262:1272]"
      ],
      "metadata": {
        "colab": {
          "base_uri": "https://localhost:8080/",
          "height": 363
        },
        "id": "YEZMqhISTN2B",
        "outputId": "168e3638-46c3-484a-fdbd-342bb572e806"
      },
      "execution_count": null,
      "outputs": [
        {
          "output_type": "execute_result",
          "data": {
            "text/plain": [
              "           id                                           document  label\n",
              "1262  5027645           간만에 잘만든영화봣다 불륜의내면심리를 제대로 분석한 아트작이다 유럽영화짱      1\n",
              "1263  8934341                  이 영화 시리즈로 인해 나는 휴 잭맨 팬이 되었다고 한다 ㅋ      1\n",
              "1264   915148                       한번쯤 이 여인들처럼 떠나보고 싶어지게 하는 영화.      1\n",
              "1265  4295299                                        이건 또 뭔가요;;;      0\n",
              "1266  3816306           빨간 풍선을 따라가는 아이, 아이를 통해 행복해지는 이들.. 아름답다..      1\n",
              "1267  2907640                                     휴.. 나 이거 왜봤지..      0\n",
              "1268  9855891                                      나름 그냥 그저그런 영화      0\n",
              "1269  5815880                      조엘 슈마허 최악의 영화 차라리 배트맨과 로빈이 좋음      0\n",
              "1270  9413946                      대단한 것일 줄 착각. 재미도 없고, 긴장감도 없고.      0\n",
              "1271  8683953  이영화의 유일한 미덕인 태국가요를 재조명 해주었다는데 이 별을 바친다.태국노래 cd...      0"
            ],
            "text/html": [
              "\n",
              "  <div id=\"df-79f38da7-7f09-4c4d-84ab-f0638280196a\" class=\"colab-df-container\">\n",
              "    <div>\n",
              "<style scoped>\n",
              "    .dataframe tbody tr th:only-of-type {\n",
              "        vertical-align: middle;\n",
              "    }\n",
              "\n",
              "    .dataframe tbody tr th {\n",
              "        vertical-align: top;\n",
              "    }\n",
              "\n",
              "    .dataframe thead th {\n",
              "        text-align: right;\n",
              "    }\n",
              "</style>\n",
              "<table border=\"1\" class=\"dataframe\">\n",
              "  <thead>\n",
              "    <tr style=\"text-align: right;\">\n",
              "      <th></th>\n",
              "      <th>id</th>\n",
              "      <th>document</th>\n",
              "      <th>label</th>\n",
              "    </tr>\n",
              "  </thead>\n",
              "  <tbody>\n",
              "    <tr>\n",
              "      <th>1262</th>\n",
              "      <td>5027645</td>\n",
              "      <td>간만에 잘만든영화봣다 불륜의내면심리를 제대로 분석한 아트작이다 유럽영화짱</td>\n",
              "      <td>1</td>\n",
              "    </tr>\n",
              "    <tr>\n",
              "      <th>1263</th>\n",
              "      <td>8934341</td>\n",
              "      <td>이 영화 시리즈로 인해 나는 휴 잭맨 팬이 되었다고 한다 ㅋ</td>\n",
              "      <td>1</td>\n",
              "    </tr>\n",
              "    <tr>\n",
              "      <th>1264</th>\n",
              "      <td>915148</td>\n",
              "      <td>한번쯤 이 여인들처럼 떠나보고 싶어지게 하는 영화.</td>\n",
              "      <td>1</td>\n",
              "    </tr>\n",
              "    <tr>\n",
              "      <th>1265</th>\n",
              "      <td>4295299</td>\n",
              "      <td>이건 또 뭔가요;;;</td>\n",
              "      <td>0</td>\n",
              "    </tr>\n",
              "    <tr>\n",
              "      <th>1266</th>\n",
              "      <td>3816306</td>\n",
              "      <td>빨간 풍선을 따라가는 아이, 아이를 통해 행복해지는 이들.. 아름답다..</td>\n",
              "      <td>1</td>\n",
              "    </tr>\n",
              "    <tr>\n",
              "      <th>1267</th>\n",
              "      <td>2907640</td>\n",
              "      <td>휴.. 나 이거 왜봤지..</td>\n",
              "      <td>0</td>\n",
              "    </tr>\n",
              "    <tr>\n",
              "      <th>1268</th>\n",
              "      <td>9855891</td>\n",
              "      <td>나름 그냥 그저그런 영화</td>\n",
              "      <td>0</td>\n",
              "    </tr>\n",
              "    <tr>\n",
              "      <th>1269</th>\n",
              "      <td>5815880</td>\n",
              "      <td>조엘 슈마허 최악의 영화 차라리 배트맨과 로빈이 좋음</td>\n",
              "      <td>0</td>\n",
              "    </tr>\n",
              "    <tr>\n",
              "      <th>1270</th>\n",
              "      <td>9413946</td>\n",
              "      <td>대단한 것일 줄 착각. 재미도 없고, 긴장감도 없고.</td>\n",
              "      <td>0</td>\n",
              "    </tr>\n",
              "    <tr>\n",
              "      <th>1271</th>\n",
              "      <td>8683953</td>\n",
              "      <td>이영화의 유일한 미덕인 태국가요를 재조명 해주었다는데 이 별을 바친다.태국노래 cd...</td>\n",
              "      <td>0</td>\n",
              "    </tr>\n",
              "  </tbody>\n",
              "</table>\n",
              "</div>\n",
              "    <div class=\"colab-df-buttons\">\n",
              "\n",
              "  <div class=\"colab-df-container\">\n",
              "    <button class=\"colab-df-convert\" onclick=\"convertToInteractive('df-79f38da7-7f09-4c4d-84ab-f0638280196a')\"\n",
              "            title=\"Convert this dataframe to an interactive table.\"\n",
              "            style=\"display:none;\">\n",
              "\n",
              "  <svg xmlns=\"http://www.w3.org/2000/svg\" height=\"24px\" viewBox=\"0 -960 960 960\">\n",
              "    <path d=\"M120-120v-720h720v720H120Zm60-500h600v-160H180v160Zm220 220h160v-160H400v160Zm0 220h160v-160H400v160ZM180-400h160v-160H180v160Zm440 0h160v-160H620v160ZM180-180h160v-160H180v160Zm440 0h160v-160H620v160Z\"/>\n",
              "  </svg>\n",
              "    </button>\n",
              "\n",
              "  <style>\n",
              "    .colab-df-container {\n",
              "      display:flex;\n",
              "      gap: 12px;\n",
              "    }\n",
              "\n",
              "    .colab-df-convert {\n",
              "      background-color: #E8F0FE;\n",
              "      border: none;\n",
              "      border-radius: 50%;\n",
              "      cursor: pointer;\n",
              "      display: none;\n",
              "      fill: #1967D2;\n",
              "      height: 32px;\n",
              "      padding: 0 0 0 0;\n",
              "      width: 32px;\n",
              "    }\n",
              "\n",
              "    .colab-df-convert:hover {\n",
              "      background-color: #E2EBFA;\n",
              "      box-shadow: 0px 1px 2px rgba(60, 64, 67, 0.3), 0px 1px 3px 1px rgba(60, 64, 67, 0.15);\n",
              "      fill: #174EA6;\n",
              "    }\n",
              "\n",
              "    .colab-df-buttons div {\n",
              "      margin-bottom: 4px;\n",
              "    }\n",
              "\n",
              "    [theme=dark] .colab-df-convert {\n",
              "      background-color: #3B4455;\n",
              "      fill: #D2E3FC;\n",
              "    }\n",
              "\n",
              "    [theme=dark] .colab-df-convert:hover {\n",
              "      background-color: #434B5C;\n",
              "      box-shadow: 0px 1px 3px 1px rgba(0, 0, 0, 0.15);\n",
              "      filter: drop-shadow(0px 1px 2px rgba(0, 0, 0, 0.3));\n",
              "      fill: #FFFFFF;\n",
              "    }\n",
              "  </style>\n",
              "\n",
              "    <script>\n",
              "      const buttonEl =\n",
              "        document.querySelector('#df-79f38da7-7f09-4c4d-84ab-f0638280196a button.colab-df-convert');\n",
              "      buttonEl.style.display =\n",
              "        google.colab.kernel.accessAllowed ? 'block' : 'none';\n",
              "\n",
              "      async function convertToInteractive(key) {\n",
              "        const element = document.querySelector('#df-79f38da7-7f09-4c4d-84ab-f0638280196a');\n",
              "        const dataTable =\n",
              "          await google.colab.kernel.invokeFunction('convertToInteractive',\n",
              "                                                    [key], {});\n",
              "        if (!dataTable) return;\n",
              "\n",
              "        const docLinkHtml = 'Like what you see? Visit the ' +\n",
              "          '<a target=\"_blank\" href=https://colab.research.google.com/notebooks/data_table.ipynb>data table notebook</a>'\n",
              "          + ' to learn more about interactive tables.';\n",
              "        element.innerHTML = '';\n",
              "        dataTable['output_type'] = 'display_data';\n",
              "        await google.colab.output.renderOutput(dataTable, element);\n",
              "        const docLink = document.createElement('div');\n",
              "        docLink.innerHTML = docLinkHtml;\n",
              "        element.appendChild(docLink);\n",
              "      }\n",
              "    </script>\n",
              "  </div>\n",
              "\n",
              "\n",
              "<div id=\"df-6f864cd6-836d-473b-a927-03b84eb8de5f\">\n",
              "  <button class=\"colab-df-quickchart\" onclick=\"quickchart('df-6f864cd6-836d-473b-a927-03b84eb8de5f')\"\n",
              "            title=\"Suggest charts\"\n",
              "            style=\"display:none;\">\n",
              "\n",
              "<svg xmlns=\"http://www.w3.org/2000/svg\" height=\"24px\"viewBox=\"0 0 24 24\"\n",
              "     width=\"24px\">\n",
              "    <g>\n",
              "        <path d=\"M19 3H5c-1.1 0-2 .9-2 2v14c0 1.1.9 2 2 2h14c1.1 0 2-.9 2-2V5c0-1.1-.9-2-2-2zM9 17H7v-7h2v7zm4 0h-2V7h2v10zm4 0h-2v-4h2v4z\"/>\n",
              "    </g>\n",
              "</svg>\n",
              "  </button>\n",
              "\n",
              "<style>\n",
              "  .colab-df-quickchart {\n",
              "      --bg-color: #E8F0FE;\n",
              "      --fill-color: #1967D2;\n",
              "      --hover-bg-color: #E2EBFA;\n",
              "      --hover-fill-color: #174EA6;\n",
              "      --disabled-fill-color: #AAA;\n",
              "      --disabled-bg-color: #DDD;\n",
              "  }\n",
              "\n",
              "  [theme=dark] .colab-df-quickchart {\n",
              "      --bg-color: #3B4455;\n",
              "      --fill-color: #D2E3FC;\n",
              "      --hover-bg-color: #434B5C;\n",
              "      --hover-fill-color: #FFFFFF;\n",
              "      --disabled-bg-color: #3B4455;\n",
              "      --disabled-fill-color: #666;\n",
              "  }\n",
              "\n",
              "  .colab-df-quickchart {\n",
              "    background-color: var(--bg-color);\n",
              "    border: none;\n",
              "    border-radius: 50%;\n",
              "    cursor: pointer;\n",
              "    display: none;\n",
              "    fill: var(--fill-color);\n",
              "    height: 32px;\n",
              "    padding: 0;\n",
              "    width: 32px;\n",
              "  }\n",
              "\n",
              "  .colab-df-quickchart:hover {\n",
              "    background-color: var(--hover-bg-color);\n",
              "    box-shadow: 0 1px 2px rgba(60, 64, 67, 0.3), 0 1px 3px 1px rgba(60, 64, 67, 0.15);\n",
              "    fill: var(--button-hover-fill-color);\n",
              "  }\n",
              "\n",
              "  .colab-df-quickchart-complete:disabled,\n",
              "  .colab-df-quickchart-complete:disabled:hover {\n",
              "    background-color: var(--disabled-bg-color);\n",
              "    fill: var(--disabled-fill-color);\n",
              "    box-shadow: none;\n",
              "  }\n",
              "\n",
              "  .colab-df-spinner {\n",
              "    border: 2px solid var(--fill-color);\n",
              "    border-color: transparent;\n",
              "    border-bottom-color: var(--fill-color);\n",
              "    animation:\n",
              "      spin 1s steps(1) infinite;\n",
              "  }\n",
              "\n",
              "  @keyframes spin {\n",
              "    0% {\n",
              "      border-color: transparent;\n",
              "      border-bottom-color: var(--fill-color);\n",
              "      border-left-color: var(--fill-color);\n",
              "    }\n",
              "    20% {\n",
              "      border-color: transparent;\n",
              "      border-left-color: var(--fill-color);\n",
              "      border-top-color: var(--fill-color);\n",
              "    }\n",
              "    30% {\n",
              "      border-color: transparent;\n",
              "      border-left-color: var(--fill-color);\n",
              "      border-top-color: var(--fill-color);\n",
              "      border-right-color: var(--fill-color);\n",
              "    }\n",
              "    40% {\n",
              "      border-color: transparent;\n",
              "      border-right-color: var(--fill-color);\n",
              "      border-top-color: var(--fill-color);\n",
              "    }\n",
              "    60% {\n",
              "      border-color: transparent;\n",
              "      border-right-color: var(--fill-color);\n",
              "    }\n",
              "    80% {\n",
              "      border-color: transparent;\n",
              "      border-right-color: var(--fill-color);\n",
              "      border-bottom-color: var(--fill-color);\n",
              "    }\n",
              "    90% {\n",
              "      border-color: transparent;\n",
              "      border-bottom-color: var(--fill-color);\n",
              "    }\n",
              "  }\n",
              "</style>\n",
              "\n",
              "  <script>\n",
              "    async function quickchart(key) {\n",
              "      const quickchartButtonEl =\n",
              "        document.querySelector('#' + key + ' button');\n",
              "      quickchartButtonEl.disabled = true;  // To prevent multiple clicks.\n",
              "      quickchartButtonEl.classList.add('colab-df-spinner');\n",
              "      try {\n",
              "        const charts = await google.colab.kernel.invokeFunction(\n",
              "            'suggestCharts', [key], {});\n",
              "      } catch (error) {\n",
              "        console.error('Error during call to suggestCharts:', error);\n",
              "      }\n",
              "      quickchartButtonEl.classList.remove('colab-df-spinner');\n",
              "      quickchartButtonEl.classList.add('colab-df-quickchart-complete');\n",
              "    }\n",
              "    (() => {\n",
              "      let quickchartButtonEl =\n",
              "        document.querySelector('#df-6f864cd6-836d-473b-a927-03b84eb8de5f button');\n",
              "      quickchartButtonEl.style.display =\n",
              "        google.colab.kernel.accessAllowed ? 'block' : 'none';\n",
              "    })();\n",
              "  </script>\n",
              "</div>\n",
              "    </div>\n",
              "  </div>\n"
            ]
          },
          "metadata": {},
          "execution_count": 5
        }
      ]
    },
    {
      "cell_type": "code",
      "source": [
        "# 형태소 분석기 -> 한국어 텍스트를 형태소 단위로 분리 작업 수행\n",
        "!pip install konlpy\n",
        "from konlpy.tag import Okt\n",
        "okt = Okt()"
      ],
      "metadata": {
        "colab": {
          "base_uri": "https://localhost:8080/"
        },
        "id": "wtvY1YBhTQ1n",
        "outputId": "8d84c13f-51e7-4a2a-d557-1ee287c935a7"
      },
      "execution_count": null,
      "outputs": [
        {
          "output_type": "stream",
          "name": "stdout",
          "text": [
            "Collecting konlpy\n",
            "  Downloading konlpy-0.6.0-py2.py3-none-any.whl (19.4 MB)\n",
            "\u001b[2K     \u001b[90m━━━━━━━━━━━━━━━━━━━━━━━━━━━━━━━━━━━━━━━━\u001b[0m \u001b[32m19.4/19.4 MB\u001b[0m \u001b[31m46.8 MB/s\u001b[0m eta \u001b[36m0:00:00\u001b[0m\n",
            "\u001b[?25hCollecting JPype1>=0.7.0 (from konlpy)\n",
            "  Downloading JPype1-1.4.1-cp310-cp310-manylinux_2_12_x86_64.manylinux2010_x86_64.whl (465 kB)\n",
            "\u001b[2K     \u001b[90m━━━━━━━━━━━━━━━━━━━━━━━━━━━━━━━━━━━━━━━━\u001b[0m \u001b[32m465.3/465.3 kB\u001b[0m \u001b[31m42.7 MB/s\u001b[0m eta \u001b[36m0:00:00\u001b[0m\n",
            "\u001b[?25hRequirement already satisfied: lxml>=4.1.0 in /usr/local/lib/python3.10/dist-packages (from konlpy) (4.9.3)\n",
            "Requirement already satisfied: numpy>=1.6 in /usr/local/lib/python3.10/dist-packages (from konlpy) (1.23.5)\n",
            "Requirement already satisfied: packaging in /usr/local/lib/python3.10/dist-packages (from JPype1>=0.7.0->konlpy) (23.2)\n",
            "Installing collected packages: JPype1, konlpy\n",
            "Successfully installed JPype1-1.4.1 konlpy-0.6.0\n"
          ]
        }
      ]
    },
    {
      "cell_type": "code",
      "source": [
        "# 데이터 전처리\n",
        "def word_tokenization(text):\n",
        "  return [word for word in okt.morphs(text)] #입력된 텍스트를 형태소 단위로 분리\n",
        "\n",
        "def preprocessing(df):\n",
        "  df = df.dropna()  #데이터에서 결측값이 있는 행을 제거\n",
        "  df['document'] = df['document'].str.replace(\"[^A-Za-z0-9가-힣ㄱ-ㅎㅏ-ㅣ ]\",\"\") #영문자, 숫자, 한글만 남기고 제거\n",
        "  data =  df['document'].apply((lambda x: word_tokenization(x)))\n",
        "  return data"
      ],
      "metadata": {
        "id": "UYjO7JTyTq3J"
      },
      "execution_count": null,
      "outputs": []
    },
    {
      "cell_type": "code",
      "source": [
        "# 텍스트 데이터 1000개 전처리 후 불러오기\n",
        "review = preprocessing(df[1000:2000])\n",
        "\n",
        "#validation set 코드 추가\n",
        "valid_review = df[2000:2500] #validation set은 train set과 다르게 설정\n",
        "valid_review = preprocessing(valid_review) #형태소 분리 함수 호출\n",
        "print(len(review)) #테스트 프린트\n",
        "print(len(valid_review))\n"
      ],
      "metadata": {
        "colab": {
          "base_uri": "https://localhost:8080/"
        },
        "id": "qXbzw2QZTu7u",
        "outputId": "ae6bc93f-b0be-45a8-d976-2046a4130396"
      },
      "execution_count": null,
      "outputs": [
        {
          "output_type": "stream",
          "name": "stderr",
          "text": [
            "<ipython-input-7-8a4ae9934285>:7: FutureWarning: The default value of regex will change from True to False in a future version.\n",
            "  df['document'] = df['document'].str.replace(\"[^A-Za-z0-9가-힣ㄱ-ㅎㅏ-ㅣ ]\",\"\") #영문자, 숫자, 한글만 남기고 제거\n"
          ]
        },
        {
          "output_type": "stream",
          "name": "stdout",
          "text": [
            "1000\n",
            "500\n"
          ]
        }
      ]
    },
    {
      "cell_type": "code",
      "source": [
        "# 형태소 분리된 데이터 확인\n",
        "print(review[:10]) #10개 data만 확인\n",
        "print(valid_review[:10])"
      ],
      "metadata": {
        "colab": {
          "base_uri": "https://localhost:8080/"
        },
        "id": "WMCmUl-FTxcu",
        "outputId": "169f876c-a056-4a1f-ae24-47c3b8f6fa23"
      },
      "execution_count": null,
      "outputs": [
        {
          "output_type": "stream",
          "name": "stdout",
          "text": [
            "1000    [정말, 최고, 의, 명작, 성인, 이, 되고, 본, 이집트, 의, 왕자, 는, 또...\n",
            "1001    [이영화, 만, 성공, 했어도, 스퀘어, 가, 에, 닉스, 랑, 합병, 할, 일, ...\n",
            "1002                                 [울컥, 하는, 사회, 현실, ㅠㅠ]\n",
            "1003       [기대, 를, 하나, 도안, 하, 면, 할, 일, 없을, 때, 보기, 좋은, 영화]\n",
            "1004    [소림사, 관문, 통과, 하기, 진짜, 어렵다는거, 보여준, 영화, 극장, 에서, ...\n",
            "1005                              [시리즈, 안, 나오나, ㅠㅠㅠㅠㅠㅠㅠㅠ]\n",
            "1006        [끝난다는, 사실, 이, 너무, 슬퍼요, 가슴, 이, 뻥, 뚫려, 버린것, 같아]\n",
            "1007                                             [펑점, 조절]\n",
            "1008                            [와이, 건, 진짜, 으리, 으리, 한, 데]\n",
            "1009                                [손발, 이, 오, 그라드, 네, 요]\n",
            "Name: document, dtype: object\n",
            "2000                                   [최최최, 최악, 악, 악, 악]\n",
            "2001                   [10, 점, 외, 에, 줄, 수, 있는, 점수, 는, 없다]\n",
            "2002                [동성애, 에, 대한, 편견, 과, 불쾌감, 을, 심어주는, 영화]\n",
            "2003    [큰, 재미, 는, 없지만, 나름, 대로, 의미, 는, 있는듯, 4, 명의, 배우,...\n",
            "2004    [이건, 진짜, 6, 점, 이, 적당함, 평점, 내려야, 됨, 화끈한, 액션, 이,...\n",
            "2005                                 [이, 때, 부터가, 쓰레기, 였지]\n",
            "2006         [잘못, 참, 햇, 지만, 아이, 를, 통해, 불행했던, 남자, 가, 행복했던]\n",
            "2007    [영화, 에서, 하지원, 캐릭터, 가, 진짜, 신경질, 이, 난다, 불필요한, 캐릭...\n",
            "2008                             [난, 재밌게, 봤는데, 왜, 그러지, ㅋ]\n",
            "2009                       [굿, 10, 자, 굿, 10, 자, 굿, 10, 자]\n",
            "Name: document, dtype: object\n"
          ]
        }
      ]
    },
    {
      "cell_type": "code",
      "source": [
        "# 동적 N-GRAM 시퀀스 생성\n",
        "from tensorflow.keras.preprocessing.text import Tokenizer\n",
        "from tensorflow.keras.preprocessing.sequence import pad_sequences\n",
        "\n",
        "#리뷰 데이터를 토큰화, n-gram 시퀀스 형태로 변환\n",
        "def get_sequences(review, tokenizer):\n",
        "  tokenized_sentences = tokenizer.texts_to_sequences(review)\n",
        "\n",
        "  input_sequences = []\n",
        "  for token in tokenized_sentences:\n",
        "    for t in range(1, len(token)):\n",
        "        n_gram_sequence = token[:t+1] #연속된 토큰 끼리 묶어서 시퀀스 생성\n",
        "        input_sequences.append(n_gram_sequence) #input_sequences 리스트에 추가\n",
        "\n",
        "  return input_sequences\n",
        "\n",
        "##여기부터\n",
        "tokenizer = Tokenizer(num_words=4000) #형태소 개수 4000개로 고정(벡터값 1~4000)\n",
        "tokenizer.fit_on_texts(review) #리뷰 데이터 단어 사전에 매핑\n",
        "total_words = 4000\n",
        "\n",
        "input_sequences = get_sequences(review, tokenizer) #get_sequences 함수 호출 -> train\n",
        "valid_input_sequences = get_sequences(valid_review, tokenizer) #get_sequences 함수 호출 -> validation\n",
        "\n",
        "print(input_sequences[:10])        # n_gram으로 리스트된 데이터샘플 확인\n",
        "print(valid_input_sequences[:10])\n",
        "print(total_words) #형태소 개수 4000개"
      ],
      "metadata": {
        "colab": {
          "base_uri": "https://localhost:8080/"
        },
        "id": "tx3ALHrXT1BR",
        "outputId": "257598b4-0828-4a94-af8b-ce447a3e55f6"
      },
      "execution_count": null,
      "outputs": [
        {
          "output_type": "stream",
          "name": "stdout",
          "text": [
            "[[14, 31], [14, 31, 3], [14, 31, 3, 139], [14, 31, 3, 139, 538], [14, 31, 3, 139, 538, 1], [14, 31, 3, 139, 538, 1, 410], [14, 31, 3, 139, 538, 1, 410, 63], [14, 31, 3, 139, 538, 1, 410, 63, 1380], [14, 31, 3, 139, 538, 1, 410, 63, 1380, 3], [14, 31, 3, 139, 538, 1, 410, 63, 1380, 3, 790]]\n",
            "[[97, 2313], [97, 2313, 2313], [97, 2313, 2313, 2313], [81, 15], [81, 15, 753], [81, 15, 753, 7], [81, 15, 753, 7, 196], [81, 15, 753, 7, 196, 95], [81, 15, 753, 7, 196, 95, 115], [81, 15, 753, 7, 196, 95, 115, 233]]\n",
            "4000\n"
          ]
        }
      ]
    },
    {
      "cell_type": "code",
      "source": [
        "len(input_sequences) #시퀀스 길이가 총 11358개"
      ],
      "metadata": {
        "colab": {
          "base_uri": "https://localhost:8080/"
        },
        "id": "mQf8z3szxpm6",
        "outputId": "f694a1b5-8363-48f6-feff-4a76f2e0f5b0"
      },
      "execution_count": null,
      "outputs": [
        {
          "output_type": "execute_result",
          "data": {
            "text/plain": [
              "11358"
            ]
          },
          "metadata": {},
          "execution_count": 27
        }
      ]
    },
    {
      "cell_type": "code",
      "source": [
        "#패딩\n",
        "# 훈련 데이터와 검증 데이터의 시퀀스 길이 중 최대값을 계산 -> 수정\n",
        "# 훈련의 입력 시퀀스 길이를 통일시켜주기 위함.\n",
        "max_len = max(max([len(word) for word in input_sequences]),  #인풋 시퀀스의 가장 긴 리스트 길이를 반환\n",
        "              max([len(word) for word in valid_input_sequences])) #검증 시퀀스의 가장 긴 n-gram에서 n을 반환\n",
        "\n",
        "print(\"max_len:\", max_len) #59-gram 리스트가 최대인것을 확인\n",
        "\n",
        "#모델의 입력 시퀀스 길이를 맞춰주기 위해 len이 59가 아닌 리스트 값들을 0값으로 패딩\n",
        "train_input_sequences = np.array(pad_sequences(input_sequences,\n",
        "                                         maxlen=max_len,\n",
        "                                         padding='pre'))\n",
        "\n",
        "#코드 추가 -> validation set도 마찬가지로 시퀀스 길이를 59로 통일시켜줌\n",
        "print(\"valid_max_len:\", max_len)\n",
        "valid_input_sequences = np.array(pad_sequences(valid_input_sequences,\n",
        "                                         maxlen=max_len,\n",
        "                                         padding='pre'))"
      ],
      "metadata": {
        "colab": {
          "base_uri": "https://localhost:8080/"
        },
        "id": "hHkGzvg8T9sG",
        "outputId": "aa5b4698-b4a3-4cb6-bab3-2a5d2afdff6a"
      },
      "execution_count": null,
      "outputs": [
        {
          "output_type": "stream",
          "name": "stdout",
          "text": [
            "max_len: 59\n",
            "valid_max_len: 59\n"
          ]
        }
      ]
    },
    {
      "cell_type": "code",
      "source": [
        "# 입력텍스트와 타겟\n",
        "from tensorflow.keras.utils import to_categorical\n",
        "\n",
        "X = train_input_sequences[:,:-1]  # 마지막 값은 제외함\n",
        "y = to_categorical(train_input_sequences[:,-1],\n",
        "                   num_classes=total_words) # 마지막 형태소 값을 예측하기 위한 clssification 문제로 활용\n",
        "\n",
        "valid_X = valid_input_sequences[:,:-1]  # 마지막 값은 제외함\n",
        "valid_y = to_categorical(valid_input_sequences[:,-1],\n",
        "                   num_classes=total_words) # 마지막 값만 원-핫 인코딩 벡터로 변환 (형태소 4000개)"
      ],
      "metadata": {
        "id": "almLHnxCT_6l"
      },
      "execution_count": null,
      "outputs": []
    },
    {
      "cell_type": "code",
      "source": [
        "# y를 설명하기 위한 예시 -> 원핫 인코딩\n",
        "a = to_categorical([0, 1, 2, 3], num_classes=4)\n",
        "a"
      ],
      "metadata": {
        "colab": {
          "base_uri": "https://localhost:8080/"
        },
        "id": "B716-eseUC9N",
        "outputId": "059ae617-9f49-4d18-f832-9931fa18bff7"
      },
      "execution_count": null,
      "outputs": [
        {
          "output_type": "execute_result",
          "data": {
            "text/plain": [
              "array([[1., 0., 0., 0.],\n",
              "       [0., 1., 0., 0.],\n",
              "       [0., 0., 1., 0.],\n",
              "       [0., 0., 0., 1.]], dtype=float32)"
            ]
          },
          "metadata": {},
          "execution_count": 13
        }
      ]
    },
    {
      "cell_type": "code",
      "source": [
        "len(y)"
      ],
      "metadata": {
        "colab": {
          "base_uri": "https://localhost:8080/"
        },
        "id": "boHdX8lM0GH8",
        "outputId": "acbb468a-2733-42e6-e2f9-ecf15986561d"
      },
      "execution_count": null,
      "outputs": [
        {
          "output_type": "execute_result",
          "data": {
            "text/plain": [
              "11358"
            ]
          },
          "metadata": {},
          "execution_count": 30
        }
      ]
    },
    {
      "cell_type": "code",
      "source": [
        "len(y[0])"
      ],
      "metadata": {
        "colab": {
          "base_uri": "https://localhost:8080/"
        },
        "id": "Skvi2l2j0VDT",
        "outputId": "8447c3ca-b167-4331-c4a0-d02b0d2819b9"
      },
      "execution_count": null,
      "outputs": [
        {
          "output_type": "execute_result",
          "data": {
            "text/plain": [
              "4000"
            ]
          },
          "metadata": {},
          "execution_count": 31
        }
      ]
    },
    {
      "cell_type": "code",
      "source": [
        "len(X[0])"
      ],
      "metadata": {
        "colab": {
          "base_uri": "https://localhost:8080/"
        },
        "id": "VOWCJXSg0onJ",
        "outputId": "2da7c1e3-2d15-4cb0-ec62-398e947c53b3"
      },
      "execution_count": null,
      "outputs": [
        {
          "output_type": "execute_result",
          "data": {
            "text/plain": [
              "58"
            ]
          },
          "metadata": {},
          "execution_count": 33
        }
      ]
    },
    {
      "cell_type": "code",
      "source": [
        "from tensorflow.keras.models import Sequential\n",
        "from tensorflow.keras.layers import Embedding, LSTM, Dense, Bidirectional, Dropout\n",
        "\n",
        "embedding_dim = 256\n",
        "\n",
        "model = Sequential([\n",
        "    Embedding(input_dim=total_words,   #입력 차원 : 4000\n",
        "              output_dim=embedding_dim,#출력 차원 : 256\n",
        "              input_length=max_len-1), #입력 시퀀스 길이 : 59 - 1(마지막 시퀀스를 예측하기 위함)\n",
        "    Bidirectional(LSTM(units=256)),\n",
        "    Dense(units=total_words, activation='softmax'), #마지막 레이어 : 4000개 시퀀스 classification\n",
        "])\n",
        "model.compile(loss='categorical_crossentropy', #원-핫 인코딩 벡터\n",
        "              optimizer='adam',\n",
        "              metrics=['accuracy'])\n",
        "history = model.fit(\n",
        "         x=X,\n",
        "         y=y,\n",
        "         epochs=20, #초기 에폭 수 : 20\n",
        "         validation_data=(valid_X, valid_y),#validation set 성능 평가 위해 추가,\n",
        "         batch_size = 32, #배치사이즈 default 값 : 32개임\n",
        "         verbose=1)"
      ],
      "metadata": {
        "colab": {
          "base_uri": "https://localhost:8080/"
        },
        "id": "k50ZLGKUUG_b",
        "outputId": "4fffa7b1-d552-4696-bad0-3efe40ca4d0f"
      },
      "execution_count": null,
      "outputs": [
        {
          "output_type": "stream",
          "name": "stdout",
          "text": [
            "Epoch 1/20\n",
            "355/355 [==============================] - 33s 64ms/step - loss: 7.5691 - accuracy: 0.0253 - val_loss: 6.7369 - val_accuracy: 0.0411\n",
            "Epoch 2/20\n",
            "355/355 [==============================] - 9s 26ms/step - loss: 7.0016 - accuracy: 0.0365 - val_loss: 6.5725 - val_accuracy: 0.0434\n",
            "Epoch 3/20\n",
            "355/355 [==============================] - 7s 19ms/step - loss: 6.6305 - accuracy: 0.0445 - val_loss: 6.6508 - val_accuracy: 0.0518\n",
            "Epoch 4/20\n",
            "355/355 [==============================] - 7s 20ms/step - loss: 6.0361 - accuracy: 0.0675 - val_loss: 6.6675 - val_accuracy: 0.0624\n",
            "Epoch 5/20\n",
            "355/355 [==============================] - 6s 16ms/step - loss: 5.2157 - accuracy: 0.1027 - val_loss: 6.9196 - val_accuracy: 0.0647\n",
            "Epoch 6/20\n",
            "355/355 [==============================] - 6s 16ms/step - loss: 4.3044 - accuracy: 0.1751 - val_loss: 7.1649 - val_accuracy: 0.0652\n",
            "Epoch 7/20\n",
            "355/355 [==============================] - 6s 18ms/step - loss: 3.4199 - accuracy: 0.3177 - val_loss: 7.3795 - val_accuracy: 0.0673\n",
            "Epoch 8/20\n",
            "355/355 [==============================] - 6s 18ms/step - loss: 2.6455 - accuracy: 0.4682 - val_loss: 7.6102 - val_accuracy: 0.0652\n",
            "Epoch 9/20\n",
            "355/355 [==============================] - 5s 15ms/step - loss: 2.0018 - accuracy: 0.6107 - val_loss: 7.7835 - val_accuracy: 0.0640\n",
            "Epoch 10/20\n",
            "355/355 [==============================] - 7s 19ms/step - loss: 1.4999 - accuracy: 0.7216 - val_loss: 7.9741 - val_accuracy: 0.0640\n",
            "Epoch 11/20\n",
            "355/355 [==============================] - 5s 15ms/step - loss: 1.1165 - accuracy: 0.8075 - val_loss: 8.1356 - val_accuracy: 0.0564\n",
            "Epoch 12/20\n",
            "355/355 [==============================] - 5s 14ms/step - loss: 0.8271 - accuracy: 0.8715 - val_loss: 8.3198 - val_accuracy: 0.0562\n",
            "Epoch 13/20\n",
            "355/355 [==============================] - 6s 17ms/step - loss: 0.6096 - accuracy: 0.9102 - val_loss: 8.4633 - val_accuracy: 0.0559\n",
            "Epoch 14/20\n",
            "355/355 [==============================] - 5s 13ms/step - loss: 0.4609 - accuracy: 0.9346 - val_loss: 8.6319 - val_accuracy: 0.0587\n",
            "Epoch 15/20\n",
            "355/355 [==============================] - 6s 17ms/step - loss: 0.3625 - accuracy: 0.9453 - val_loss: 8.7547 - val_accuracy: 0.0578\n",
            "Epoch 16/20\n",
            "355/355 [==============================] - 5s 13ms/step - loss: 0.2943 - accuracy: 0.9506 - val_loss: 8.8991 - val_accuracy: 0.0578\n",
            "Epoch 17/20\n",
            "355/355 [==============================] - 6s 16ms/step - loss: 0.2472 - accuracy: 0.9531 - val_loss: 9.0002 - val_accuracy: 0.0564\n",
            "Epoch 18/20\n",
            "355/355 [==============================] - 5s 15ms/step - loss: 0.2204 - accuracy: 0.9538 - val_loss: 9.1300 - val_accuracy: 0.0585\n",
            "Epoch 19/20\n",
            "355/355 [==============================] - 5s 14ms/step - loss: 0.2014 - accuracy: 0.9532 - val_loss: 9.2080 - val_accuracy: 0.0538\n",
            "Epoch 20/20\n",
            "355/355 [==============================] - 6s 16ms/step - loss: 0.1869 - accuracy: 0.9548 - val_loss: 9.3046 - val_accuracy: 0.0564\n"
          ]
        }
      ]
    },
    {
      "cell_type": "code",
      "source": [
        "model.summary()"
      ],
      "metadata": {
        "colab": {
          "base_uri": "https://localhost:8080/"
        },
        "id": "mr7sJbcwzBRZ",
        "outputId": "f0cb4e0d-0347-490d-95dd-7ac8b2a7b409"
      },
      "execution_count": null,
      "outputs": [
        {
          "output_type": "stream",
          "name": "stdout",
          "text": [
            "Model: \"sequential\"\n",
            "_________________________________________________________________\n",
            " Layer (type)                Output Shape              Param #   \n",
            "=================================================================\n",
            " embedding (Embedding)       (None, 58, 256)           1024000   \n",
            "                                                                 \n",
            " bidirectional (Bidirection  (None, 512)               1050624   \n",
            " al)                                                             \n",
            "                                                                 \n",
            " dense (Dense)               (None, 4000)              2052000   \n",
            "                                                                 \n",
            "=================================================================\n",
            "Total params: 4126624 (15.74 MB)\n",
            "Trainable params: 4126624 (15.74 MB)\n",
            "Non-trainable params: 0 (0.00 Byte)\n",
            "_________________________________________________________________\n"
          ]
        }
      ]
    },
    {
      "cell_type": "code",
      "source": [
        "#코드 추가 -> 정확도 및 손실 그래프 그리기\n",
        "import matplotlib.pyplot as plt\n",
        "history_dict = history.history\n",
        "loss_values = history_dict['loss']\n",
        "val_loss_values = history_dict['val_loss']\n",
        "\n",
        "epochs = range(1, len(loss_values)+1)\n",
        "plt.plot(epochs, loss_values, \"ro\", label=\"Training_loss\")\n",
        "plt.plot(epochs, val_loss_values, \"b\", label=\"Validation loss\")\n",
        "plt.title(\"Train and Validation Loss Graph\")\n",
        "plt.xlabel(\"Epochs\")\n",
        "plt.ylabel(\"Loss\")\n",
        "plt.legend()\n",
        "plt.show()"
      ],
      "metadata": {
        "colab": {
          "base_uri": "https://localhost:8080/",
          "height": 472
        },
        "id": "rpsYGUtQW7QH",
        "outputId": "0ee8d6e0-3cff-41a6-87ab-cb300ff1f929"
      },
      "execution_count": null,
      "outputs": [
        {
          "output_type": "display_data",
          "data": {
            "text/plain": [
              "<Figure size 640x480 with 1 Axes>"
            ],
            "image/png": "[encoded data removed]"
          },
          "metadata": {}
        }
      ]
    },
    {
      "cell_type": "code",
      "source": [
        "plt.clf()\n",
        "acc = history_dict[\"accuracy\"]\n",
        "val_acc = history_dict[\"val_accuracy\"]\n",
        "plt.plot(epochs, acc, \"ro\", label=\"Training acc\")\n",
        "plt.plot(epochs, val_acc, \"b\", label=\"Validation acc\")\n",
        "plt.title(\"Training and validation accuracy\")\n",
        "plt.xlabel(\"Epochs\")\n",
        "plt.ylabel(\"Accuracy\")\n",
        "plt.legend()\n",
        "plt.show()"
      ],
      "metadata": {
        "colab": {
          "base_uri": "https://localhost:8080/",
          "height": 472
        },
        "id": "uBwqNaraJEfn",
        "outputId": "08ae995f-a5f4-4e7e-e183-6637839b8098"
      },
      "execution_count": null,
      "outputs": [
        {
          "output_type": "display_data",
          "data": {
            "text/plain": [
              "<Figure size 640x480 with 1 Axes>"
            ],
            "image/png": "[encoded data removed]"
          },
          "metadata": {}
        }
      ]
    },
    {
      "cell_type": "code",
      "source": [
        "# 문장생성함수 (시작 텍스트, 생성 단어 개수)\n",
        "def text_generation(sos, count): #형태소 시퀀스 1개 기반으로 텍스트를 생성하는 함수\n",
        "    for _ in range(1, count):\n",
        "        token_list = tokenizer.texts_to_sequences([sos])[0] #sos 형태소를 토큰화\n",
        "        #남은 시퀀스 길이 0으로 패딩\n",
        "        #[325] -> [0, 0, 0,  ... 0, 325]\n",
        "        token_list = pad_sequences([token_list],\n",
        "                                   maxlen=max_len-1, #다음 시퀀스 예측 -> max_len-1으로 세팅\n",
        "                                   padding='pre')\n",
        "        predicted = np.argmax(model.predict(token_list), axis=1) # model.predict -> 최댓값 인덱스를 반환(0~3999)\n",
        "        #print(token_list)\n",
        "        print(predicted)\n",
        "\n",
        "        #단어 사전 검사하면서 인덱스에 매핑되는 단어 리턴\n",
        "        for word, idx in tokenizer.word_index.items():\n",
        "            if idx == predicted:\n",
        "                output = word\n",
        "                break\n",
        "        sos += \" \" + output #최종 출력부에 형태소를 합쳐줌\n",
        "    return sos #시퀀스 출력부 반환"
      ],
      "metadata": {
        "id": "IFay_woLUKNl"
      },
      "execution_count": null,
      "outputs": []
    },
    {
      "cell_type": "code",
      "source": [
        "# argmax 설명: 최대값의 인덱스 반환\n",
        "data = [[0.1, 0.2, 0.7], [0.3, 0.5, 0.2], [0.4, 0.3, 0.3]]\n",
        "np.argmax([data], axis=-1)"
      ],
      "metadata": {
        "colab": {
          "base_uri": "https://localhost:8080/"
        },
        "id": "wXcbojtYUM4q",
        "outputId": "525b19e1-2fd7-42ae-b097-b5f18cd72417"
      },
      "execution_count": null,
      "outputs": [
        {
          "output_type": "execute_result",
          "data": {
            "text/plain": [
              "array([[2, 1, 0]])"
            ]
          },
          "metadata": {},
          "execution_count": 27
        }
      ]
    },
    {
      "cell_type": "code",
      "source": [
        "text_generation(\"배우\", 8)"
      ],
      "metadata": {
        "colab": {
          "base_uri": "https://localhost:8080/",
          "height": 686
        },
        "id": "q7abRDKkGFH7",
        "outputId": "44e59360-a44b-488e-d72a-0a537d1d034a"
      },
      "execution_count": null,
      "outputs": [
        {
          "output_type": "stream",
          "name": "stdout",
          "text": [
            "1/1 [==============================] - 0s 20ms/step\n",
            "[[ 0  0  0  0  0  0  0  0  0  0  0  0  0  0  0  0  0  0  0  0  0  0  0  0\n",
            "   0  0  0  0  0  0  0  0  0  0  0  0  0  0  0  0  0  0  0  0  0  0  0  0\n",
            "   0  0  0  0  0  0  0  0  0 41]]\n",
            "[8]\n",
            "1/1 [==============================] - 0s 22ms/step\n",
            "[[ 0  0  0  0  0  0  0  0  0  0  0  0  0  0  0  0  0  0  0  0  0  0  0  0\n",
            "   0  0  0  0  0  0  0  0  0  0  0  0  0  0  0  0  0  0  0  0  0  0  0  0\n",
            "   0  0  0  0  0  0  0  0 41  8]]\n",
            "[29]\n",
            "1/1 [==============================] - 0s 20ms/step\n",
            "[[ 0  0  0  0  0  0  0  0  0  0  0  0  0  0  0  0  0  0  0  0  0  0  0  0\n",
            "   0  0  0  0  0  0  0  0  0  0  0  0  0  0  0  0  0  0  0  0  0  0  0  0\n",
            "   0  0  0  0  0  0  0 41  8 29]]\n",
            "[6]\n",
            "1/1 [==============================] - 0s 24ms/step\n",
            "[[ 0  0  0  0  0  0  0  0  0  0  0  0  0  0  0  0  0  0  0  0  0  0  0  0\n",
            "   0  0  0  0  0  0  0  0  0  0  0  0  0  0  0  0  0  0  0  0  0  0  0  0\n",
            "   0  0  0  0  0  0 41  8 29  6]]\n",
            "[37]\n",
            "1/1 [==============================] - 0s 19ms/step\n",
            "[[ 0  0  0  0  0  0  0  0  0  0  0  0  0  0  0  0  0  0  0  0  0  0  0  0\n",
            "   0  0  0  0  0  0  0  0  0  0  0  0  0  0  0  0  0  0  0  0  0  0  0  0\n",
            "   0  0  0  0  0 41  8 29  6 37]]\n",
            "[51]\n",
            "1/1 [==============================] - 0s 21ms/step\n",
            "[[ 0  0  0  0  0  0  0  0  0  0  0  0  0  0  0  0  0  0  0  0  0  0  0  0\n",
            "   0  0  0  0  0  0  0  0  0  0  0  0  0  0  0  0  0  0  0  0  0  0  0  0\n",
            "   0  0  0  0 41  8 29  6 37 51]]\n",
            "[475]\n",
            "1/1 [==============================] - 0s 21ms/step\n",
            "[[  0   0   0   0   0   0   0   0   0   0   0   0   0   0   0   0   0   0\n",
            "    0   0   0   0   0   0   0   0   0   0   0   0   0   0   0   0   0   0\n",
            "    0   0   0   0   0   0   0   0   0   0   0   0   0   0   0  41   8  29\n",
            "    6  37  51 475]]\n",
            "[43]\n"
          ]
        },
        {
          "output_type": "execute_result",
          "data": {
            "text/plain": [
              "'배우 들 연기 도 잘 하고 재미있어요 ㅋㅋ'"
            ],
            "application/vnd.google.colaboratory.intrinsic+json": {
              "type": "string"
            }
          },
          "metadata": {},
          "execution_count": 28
        }
      ]
    },
    {
      "cell_type": "code",
      "source": [
        "text_generation(\"꿀잼\", 12)"
      ],
      "metadata": {
        "colab": {
          "base_uri": "https://localhost:8080/",
          "height": 433
        },
        "id": "TyX2Iw7WGPzn",
        "outputId": "e4712175-1fb4-42e0-bd64-af33d04051d7"
      },
      "execution_count": null,
      "outputs": [
        {
          "output_type": "stream",
          "name": "stdout",
          "text": [
            "1/1 [==============================] - 0s 19ms/step\n",
            "[2]\n",
            "1/1 [==============================] - 0s 20ms/step\n",
            "[436]\n",
            "1/1 [==============================] - 0s 19ms/step\n",
            "[28]\n",
            "1/1 [==============================] - 0s 19ms/step\n",
            "[223]\n",
            "1/1 [==============================] - 0s 19ms/step\n",
            "[49]\n",
            "1/1 [==============================] - 0s 19ms/step\n",
            "[5]\n",
            "1/1 [==============================] - 0s 24ms/step\n",
            "[1843]\n",
            "1/1 [==============================] - 0s 19ms/step\n",
            "[1844]\n",
            "1/1 [==============================] - 0s 18ms/step\n",
            "[119]\n",
            "1/1 [==============================] - 0s 18ms/step\n",
            "[62]\n",
            "1/1 [==============================] - 0s 20ms/step\n",
            "[62]\n"
          ]
        },
        {
          "output_type": "execute_result",
          "data": {
            "text/plain": [
              "'꿀잼 영화 추억 이다 ㅜㅜ 스토리 가 없는것 같군요 난 왜 왜'"
            ],
            "application/vnd.google.colaboratory.intrinsic+json": {
              "type": "string"
            }
          },
          "metadata": {},
          "execution_count": 22
        }
      ]
    },
    {
      "cell_type": "code",
      "source": [
        "text_generation(\"눈물 이\", 12)"
      ],
      "metadata": {
        "colab": {
          "base_uri": "https://localhost:8080/",
          "height": 433
        },
        "id": "nbUZUGRdURWO",
        "outputId": "e34fb8ef-ea55-4284-e3b2-0245902a8727"
      },
      "execution_count": null,
      "outputs": [
        {
          "output_type": "stream",
          "name": "stdout",
          "text": [
            "1/1 [==============================] - 0s 18ms/step\n",
            "[940]\n",
            "1/1 [==============================] - 0s 18ms/step\n",
            "[4]\n",
            "1/1 [==============================] - 0s 18ms/step\n",
            "[3007]\n",
            "1/1 [==============================] - 0s 17ms/step\n",
            "[3008]\n",
            "1/1 [==============================] - 0s 18ms/step\n",
            "[176]\n",
            "1/1 [==============================] - 0s 22ms/step\n",
            "[10]\n",
            "1/1 [==============================] - 0s 18ms/step\n",
            "[3009]\n",
            "1/1 [==============================] - 0s 18ms/step\n",
            "[75]\n",
            "1/1 [==============================] - 0s 18ms/step\n",
            "[75]\n",
            "1/1 [==============================] - 0s 17ms/step\n",
            "[71]\n",
            "1/1 [==============================] - 0s 18ms/step\n",
            "[16]\n"
          ]
        },
        {
          "output_type": "execute_result",
          "data": {
            "text/plain": [
              "'눈물 이 길 을 가다 죽었다 이유 는 차가와 서 서 더 다'"
            ],
            "application/vnd.google.colaboratory.intrinsic+json": {
              "type": "string"
            }
          },
          "metadata": {},
          "execution_count": 23
        }
      ]
    },
    {
      "cell_type": "code",
      "source": [
        "text_generation(\"손발 이\", 12)"
      ],
      "metadata": {
        "colab": {
          "base_uri": "https://localhost:8080/",
          "height": 433
        },
        "id": "MjqYKmPCUUS3",
        "outputId": "c59e5321-2d0a-427f-c5b0-c1ef9056a02b"
      },
      "execution_count": null,
      "outputs": [
        {
          "output_type": "stream",
          "name": "stdout",
          "text": [
            "1/1 [==============================] - 0s 18ms/step\n",
            "[1402]\n",
            "1/1 [==============================] - 0s 20ms/step\n",
            "[1403]\n",
            "1/1 [==============================] - 0s 22ms/step\n",
            "[89]\n",
            "1/1 [==============================] - 0s 20ms/step\n",
            "[57]\n",
            "1/1 [==============================] - 0s 18ms/step\n",
            "[57]\n",
            "1/1 [==============================] - 0s 20ms/step\n",
            "[77]\n",
            "1/1 [==============================] - 0s 22ms/step\n",
            "[5]\n",
            "1/1 [==============================] - 0s 21ms/step\n",
            "[1337]\n",
            "1/1 [==============================] - 0s 21ms/step\n",
            "[1170]\n",
            "1/1 [==============================] - 0s 21ms/step\n",
            "[696]\n",
            "1/1 [==============================] - 0s 21ms/step\n",
            "[53]\n"
          ]
        },
        {
          "output_type": "execute_result",
          "data": {
            "text/plain": [
              "'손발 이 오 그라드 네 요 요 대 가 그려 준 그림 보고'"
            ],
            "application/vnd.google.colaboratory.intrinsic+json": {
              "type": "string"
            }
          },
          "metadata": {},
          "execution_count": 24
        }
      ]
    },
    {
      "cell_type": "code",
      "source": [
        "text_generation(\"박수 가\", 8)"
      ],
      "metadata": {
        "colab": {
          "base_uri": "https://localhost:8080/",
          "height": 288
        },
        "id": "py4Cc-b5HKTq",
        "outputId": "27efd775-9527-425e-fe82-72e94daa7e38"
      },
      "execution_count": null,
      "outputs": [
        {
          "output_type": "stream",
          "name": "stdout",
          "text": [
            "1/1 [==============================] - 0s 22ms/step\n",
            "[1369]\n",
            "1/1 [==============================] - 0s 21ms/step\n",
            "[1320]\n",
            "1/1 [==============================] - 0s 20ms/step\n",
            "[1]\n",
            "1/1 [==============================] - 0s 33ms/step\n",
            "[109]\n",
            "1/1 [==============================] - 0s 20ms/step\n",
            "[34]\n",
            "1/1 [==============================] - 0s 19ms/step\n",
            "[15]\n",
            "1/1 [==============================] - 0s 20ms/step\n",
            "[77]\n"
          ]
        },
        {
          "output_type": "execute_result",
          "data": {
            "text/plain": [
              "'박수 가 나오네요 벌써 이 ㅠㅠ 1 점 대'"
            ],
            "application/vnd.google.colaboratory.intrinsic+json": {
              "type": "string"
            }
          },
          "metadata": {},
          "execution_count": 25
        }
      ]
    },
    {
      "cell_type": "code",
      "source": [
        "import keras\n",
        "from tensorflow.keras.models import Sequential\n",
        "from tensorflow.keras import regularizers\n",
        "from tensorflow.keras.layers import Embedding, LSTM, Dense, Bidirectional, Dropout\n",
        "\n",
        "embedding_dim = 128\n",
        "\n",
        "model = Sequential([\n",
        "    Embedding(input_dim=total_words,\n",
        "              output_dim=embedding_dim,\n",
        "              input_length=max_len-1),\n",
        "    Bidirectional(LSTM(units=128)),\n",
        "    Dropout(0.2),  # 드롭아웃 레이어 추가\n",
        "    Dense(units=total_words, activation='softmax'),\n",
        "])\n",
        "model.compile(loss='categorical_crossentropy',\n",
        "              optimizer='adam',\n",
        "              metrics=['accuracy'])\n",
        "\n",
        "model.summary()\n",
        "\n",
        "#재학습 시에 에폭수 10 으로 조정\n",
        "history = model.fit(\n",
        "         x=X,\n",
        "         y=y,\n",
        "         epochs=10,\n",
        "         validation_data=(valid_X, valid_y),\n",
        "         verbose=1)"
      ],
      "metadata": {
        "colab": {
          "base_uri": "https://localhost:8080/"
        },
        "id": "1P7ZgRxDzXxQ",
        "outputId": "d0483b31-5ba8-4c73-b00c-cf932ff7f46c"
      },
      "execution_count": null,
      "outputs": [
        {
          "output_type": "stream",
          "name": "stdout",
          "text": [
            "Model: \"sequential_14\"\n",
            "_________________________________________________________________\n",
            " Layer (type)                Output Shape              Param #   \n",
            "=================================================================\n",
            " embedding_14 (Embedding)    (None, 58, 128)           512000    \n",
            "                                                                 \n",
            " bidirectional_14 (Bidirect  (None, 256)               263168    \n",
            " ional)                                                          \n",
            "                                                                 \n",
            " dropout_13 (Dropout)        (None, 256)               0         \n",
            "                                                                 \n",
            " dense_14 (Dense)            (None, 4000)              1028000   \n",
            "                                                                 \n",
            "=================================================================\n",
            "Total params: 1803168 (6.88 MB)\n",
            "Trainable params: 1803168 (6.88 MB)\n",
            "Non-trainable params: 0 (0.00 Byte)\n",
            "_________________________________________________________________\n",
            "Epoch 1/10\n",
            "355/355 [==============================] - 27s 62ms/step - loss: 7.5808 - accuracy: 0.0265 - val_loss: 6.6315 - val_accuracy: 0.0432\n",
            "Epoch 2/10\n",
            "355/355 [==============================] - 8s 24ms/step - loss: 7.1076 - accuracy: 0.0322 - val_loss: 6.5819 - val_accuracy: 0.0428\n",
            "Epoch 3/10\n",
            "355/355 [==============================] - 6s 16ms/step - loss: 6.8883 - accuracy: 0.0366 - val_loss: 6.5886 - val_accuracy: 0.0395\n",
            "Epoch 4/10\n",
            "355/355 [==============================] - 6s 18ms/step - loss: 6.6214 - accuracy: 0.0416 - val_loss: 6.6525 - val_accuracy: 0.0418\n",
            "Epoch 5/10\n",
            "355/355 [==============================] - 6s 17ms/step - loss: 6.2832 - accuracy: 0.0488 - val_loss: 6.7400 - val_accuracy: 0.0379\n",
            "Epoch 6/10\n",
            "355/355 [==============================] - 5s 14ms/step - loss: 5.8841 - accuracy: 0.0644 - val_loss: 6.8370 - val_accuracy: 0.0441\n",
            "Epoch 7/10\n",
            "355/355 [==============================] - 5s 13ms/step - loss: 5.4810 - accuracy: 0.0816 - val_loss: 6.9522 - val_accuracy: 0.0488\n",
            "Epoch 8/10\n",
            "355/355 [==============================] - 8s 22ms/step - loss: 5.0666 - accuracy: 0.1078 - val_loss: 7.0677 - val_accuracy: 0.0508\n",
            "Epoch 9/10\n",
            "355/355 [==============================] - 4s 12ms/step - loss: 4.6795 - accuracy: 0.1435 - val_loss: 7.1133 - val_accuracy: 0.0541\n",
            "Epoch 10/10\n",
            "355/355 [==============================] - 5s 15ms/step - loss: 4.3096 - accuracy: 0.1992 - val_loss: 7.2244 - val_accuracy: 0.0557\n"
          ]
        }
      ]
    },
    {
      "cell_type": "code",
      "source": [
        "#코드 추가 -> 정확도 및 손실 그래프 그리기\n",
        "import matplotlib.pyplot as plt\n",
        "history_dict = history.history\n",
        "loss_values = history_dict['loss']\n",
        "val_loss_values = history_dict['val_loss']\n",
        "\n",
        "epochs = range(1, len(loss_values)+1)\n",
        "plt.plot(epochs, loss_values, \"ro\", label=\"Training_loss\")\n",
        "plt.plot(epochs, val_loss_values, \"b\", label=\"Validation loss\")\n",
        "plt.title(\"Train and Validation Loss Graph\")\n",
        "plt.xlabel(\"Epochs\")\n",
        "plt.ylabel(\"Loss\")\n",
        "plt.legend()\n",
        "plt.show()"
      ],
      "metadata": {
        "colab": {
          "base_uri": "https://localhost:8080/",
          "height": 472
        },
        "id": "_0eLZTuNYFPP",
        "outputId": "6d8bdce7-c4ab-49ab-aeb5-8b619e709491"
      },
      "execution_count": null,
      "outputs": [
        {
          "output_type": "display_data",
          "data": {
            "text/plain": [
              "<Figure size 640x480 with 1 Axes>"
            ],
            "image/png": "[encoded data removed]"
          },
          "metadata": {}
        }
      ]
    },
    {
      "cell_type": "code",
      "source": [
        "plt.clf()\n",
        "acc = history_dict[\"accuracy\"]\n",
        "val_acc = history_dict[\"val_accuracy\"]\n",
        "plt.plot(epochs, acc, \"ro\", label=\"Training acc\")\n",
        "plt.plot(epochs, val_acc, \"b\", label=\"Validation acc\")\n",
        "plt.title(\"Training and validation accuracy\")\n",
        "plt.xlabel(\"Epochs\")\n",
        "plt.ylabel(\"Accuracy\")\n",
        "plt.legend()\n",
        "plt.show()"
      ],
      "metadata": {
        "colab": {
          "base_uri": "https://localhost:8080/",
          "height": 472
        },
        "id": "tdTg3e9BYLLj",
        "outputId": "e9ed93e0-d878-4883-a37f-6371e6d594df"
      },
      "execution_count": null,
      "outputs": [
        {
          "output_type": "display_data",
          "data": {
            "text/plain": [
              "<Figure size 640x480 with 1 Axes>"
            ],
            "image/png": "[encoded data removed]"
          },
          "metadata": {}
        }
      ]
    },
    {
      "cell_type": "code",
      "source": [
        "text_generation(\"배우\", 8)"
      ],
      "metadata": {
        "colab": {
          "base_uri": "https://localhost:8080/",
          "height": 288
        },
        "id": "yRrKG2a8R93K",
        "outputId": "207bbeb1-bb64-45a3-ca74-118c5a65df05"
      },
      "execution_count": null,
      "outputs": [
        {
          "output_type": "stream",
          "name": "stdout",
          "text": [
            "1/1 [==============================] - 1s 930ms/step\n",
            "[8]\n",
            "1/1 [==============================] - 0s 168ms/step\n",
            "[1]\n",
            "1/1 [==============================] - 0s 34ms/step\n",
            "[19]\n",
            "1/1 [==============================] - 0s 31ms/step\n",
            "[106]\n",
            "1/1 [==============================] - 0s 28ms/step\n",
            "[177]\n",
            "1/1 [==============================] - 0s 41ms/step\n",
            "[55]\n",
            "1/1 [==============================] - 0s 20ms/step\n",
            "[27]\n"
          ]
        },
        {
          "output_type": "execute_result",
          "data": {
            "text/plain": [
              "'배우 들 이 너무 봤는데 봤어요 지 드라마'"
            ],
            "application/vnd.google.colaboratory.intrinsic+json": {
              "type": "string"
            }
          },
          "metadata": {},
          "execution_count": 112
        }
      ]
    },
    {
      "cell_type": "code",
      "source": [
        "text_generation(\"손발 이\", 12)"
      ],
      "metadata": {
        "colab": {
          "base_uri": "https://localhost:8080/",
          "height": 433
        },
        "id": "Mul87UGubHUi",
        "outputId": "2064eed2-e5a6-4f94-a977-234974c123c0"
      },
      "execution_count": null,
      "outputs": [
        {
          "output_type": "stream",
          "name": "stdout",
          "text": [
            "1/1 [==============================] - 0s 20ms/step\n",
            "[39]\n",
            "1/1 [==============================] - 0s 18ms/step\n",
            "[68]\n",
            "1/1 [==============================] - 0s 18ms/step\n",
            "[55]\n",
            "1/1 [==============================] - 0s 23ms/step\n",
            "[39]\n",
            "1/1 [==============================] - 0s 19ms/step\n",
            "[2]\n",
            "1/1 [==============================] - 0s 18ms/step\n",
            "[5]\n",
            "1/1 [==============================] - 0s 20ms/step\n",
            "[62]\n",
            "1/1 [==============================] - 0s 19ms/step\n",
            "[25]\n",
            "1/1 [==============================] - 0s 29ms/step\n",
            "[43]\n",
            "1/1 [==============================] - 0s 27ms/step\n",
            "[43]\n",
            "1/1 [==============================] - 0s 29ms/step\n",
            "[8]\n"
          ]
        },
        {
          "output_type": "execute_result",
          "data": {
            "text/plain": [
              "'손발 이 거 뭐 지 거 영화 가 왜 하는 ㅋㅋ ㅋㅋ 들'"
            ],
            "application/vnd.google.colaboratory.intrinsic+json": {
              "type": "string"
            }
          },
          "metadata": {},
          "execution_count": 128
        }
      ]
    },
    {
      "cell_type": "code",
      "source": [
        "text_generation(\"오랜만에\", 6)"
      ],
      "metadata": {
        "colab": {
          "base_uri": "https://localhost:8080/",
          "height": 216
        },
        "id": "uUyPjbXII997",
        "outputId": "ced26674-6c09-47ee-dd6f-ab3b28bb114a"
      },
      "execution_count": null,
      "outputs": [
        {
          "output_type": "stream",
          "name": "stdout",
          "text": [
            "1/1 [==============================] - 0s 21ms/step\n",
            "[52]\n",
            "1/1 [==============================] - 0s 19ms/step\n",
            "[2]\n",
            "1/1 [==============================] - 0s 19ms/step\n",
            "[9]\n",
            "1/1 [==============================] - 0s 18ms/step\n",
            "[167]\n",
            "1/1 [==============================] - 0s 18ms/step\n",
            "[285]\n"
          ]
        },
        {
          "output_type": "execute_result",
          "data": {
            "text/plain": [
              "'오랜만에 때 영화 를 가장 좋아하는'"
            ],
            "application/vnd.google.colaboratory.intrinsic+json": {
              "type": "string"
            }
          },
          "metadata": {},
          "execution_count": 115
        }
      ]
    },
    {
      "cell_type": "code",
      "source": [
        "text_generation(\"추억\", 8)"
      ],
      "metadata": {
        "colab": {
          "base_uri": "https://localhost:8080/",
          "height": 288
        },
        "id": "rVs9rSIGS8sJ",
        "outputId": "06301919-d460-48b0-8677-841eaebb734b"
      },
      "execution_count": null,
      "outputs": [
        {
          "output_type": "stream",
          "name": "stdout",
          "text": [
            "1/1 [==============================] - 0s 19ms/step\n",
            "[3]\n",
            "1/1 [==============================] - 0s 22ms/step\n",
            "[2]\n",
            "1/1 [==============================] - 0s 20ms/step\n",
            "[9]\n",
            "1/1 [==============================] - 0s 19ms/step\n",
            "[37]\n",
            "1/1 [==============================] - 0s 20ms/step\n",
            "[1460]\n",
            "1/1 [==============================] - 0s 20ms/step\n",
            "[18]\n",
            "1/1 [==============================] - 0s 19ms/step\n",
            "[3336]\n"
          ]
        },
        {
          "output_type": "execute_result",
          "data": {
            "text/plain": [
              "'추억 의 영화 를 잘 읽던지 으로 줬다면'"
            ],
            "application/vnd.google.colaboratory.intrinsic+json": {
              "type": "string"
            }
          },
          "metadata": {},
          "execution_count": 116
        }
      ]
    },
    {
      "cell_type": "code",
      "source": [
        "text_generation(\"스릴\", 5)"
      ],
      "metadata": {
        "colab": {
          "base_uri": "https://localhost:8080/",
          "height": 180
        },
        "id": "PhzC5IFWSgN4",
        "outputId": "d1044002-dc5a-4982-b385-07e5711393b0"
      },
      "execution_count": null,
      "outputs": [
        {
          "output_type": "stream",
          "name": "stdout",
          "text": [
            "1/1 [==============================] - 0s 20ms/step\n",
            "[369]\n",
            "1/1 [==============================] - 0s 18ms/step\n",
            "[13]\n",
            "1/1 [==============================] - 0s 18ms/step\n",
            "[2]\n",
            "1/1 [==============================] - 0s 18ms/step\n",
            "[10]\n"
          ]
        },
        {
          "output_type": "execute_result",
          "data": {
            "text/plain": [
              "'스릴 접 한 영화 는'"
            ],
            "application/vnd.google.colaboratory.intrinsic+json": {
              "type": "string"
            }
          },
          "metadata": {},
          "execution_count": 117
        }
      ]
    }
  ]
}